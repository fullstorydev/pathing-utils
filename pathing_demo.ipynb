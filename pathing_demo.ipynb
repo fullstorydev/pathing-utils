{
 "cells": [
  {
   "cell_type": "markdown",
   "metadata": {},
   "source": [
    "# Pathing Demo notebook"
   ]
  },
  {
   "cell_type": "markdown",
   "metadata": {},
   "source": [
    "## Setup"
   ]
  },
  {
   "cell_type": "code",
   "execution_count": 1,
   "metadata": {},
   "outputs": [],
   "source": [
    "%matplotlib inline\n",
    "import matplotlib.pyplot as plt\n",
    "import numpy as np\n",
    "import pandas as pd\n",
    "\n",
    "from textwrap import wrap\n",
    "\n",
    "from pathutils import (get_popular_urls, funnel_in_outs,funnel_stats, sankey_funnel, \n",
    "                       frequent_funnel, analyze_clicks, analyze_traffic, utils, manage_resolutions, \n",
    "                       url_regex_resolver, analyze_timing)"
   ]
  },
  {
   "cell_type": "code",
   "execution_count": 2,
   "metadata": {},
   "outputs": [],
   "source": [
    "#HAUSERDIR = \"<Path to your Hauser folder>\"\n",
    "HAUSERDIR = \"sampledata\"\n",
    "\n",
    "# `LIMITROWS` limits the number of rows in the output of most popular URLs\n",
    "LIMITROWS = 0"
   ]
  },
  {
   "cell_type": "markdown",
   "metadata": {},
   "source": [
    "## Load Data Export data into a dataframe"
   ]
  },
  {
   "cell_type": "code",
   "execution_count": 3,
   "metadata": {
    "scrolled": true
   },
   "outputs": [],
   "source": [
    "dffull = analyze_traffic.get_hauser_as_df(HAUSERDIR, navigate_only=False)\n",
    "dffull = utils.preproc_events(dffull)"
   ]
  },
  {
   "cell_type": "markdown",
   "metadata": {},
   "source": [
    "## Inspect your dataframe(s)\n",
    "You can find Data Export field descriptions on FullStory's API reference site: https://developer.fullstory.com/get-data-export"
   ]
  },
  {
   "cell_type": "code",
   "execution_count": 4,
   "metadata": {},
   "outputs": [],
   "source": [
    "dffull.head(15)"
   ]
  },
  {
   "cell_type": "markdown",
   "metadata": {},
   "source": [
    "## Filter out any events that aren't navigation events"
   ]
  },
  {
   "cell_type": "code",
   "execution_count": 5,
   "metadata": {},
   "outputs": [],
   "source": [
    "#Optional: you can also filter your dataset to only include sessions with clicks of certain type\n",
    "#dffull = analyze_clicks.filter_dataset_by_clicktype(dffull, \"rage\")\n",
    "df = analyze_clicks.remove_non_navigation(dffull)\n",
    "useResolvedUrls = False\n",
    "\n",
    "df.head(15)"
   ]
  },
  {
   "cell_type": "markdown",
   "metadata": {},
   "source": [
    "## Plot a diagram of top most visited URLs"
   ]
  },
  {
   "cell_type": "code",
   "execution_count": 6,
   "metadata": {},
   "outputs": [],
   "source": [
    "url_counts = get_popular_urls.get_popular(df, useResolvedUrls, LIMITROWS)\n",
    "TOPCOUNTS = 20 # limit output rows\n",
    "analyze_traffic.plot_counts_by_freq(url_counts, TOPCOUNTS, \"URL Counts\", False)"
   ]
  },
  {
   "cell_type": "markdown",
   "metadata": {},
   "source": [
    "## Show common funnels that include the specified URL"
   ]
  },
  {
   "cell_type": "code",
   "execution_count": 7,
   "metadata": {
    "collapsed": true
   },
   "outputs": [],
   "source": [
    "TESTURL = \"https://www.oodatime.com/cart\"\n",
    "FUNNELLEN = 3\n",
    "NUMFUNNELSTOSHOW = 4\n",
    "top_funnels = frequent_funnel.get_top_funnels_df(TESTURL, FUNNELLEN, useResolvedUrls, df, LIMITROWS)\n",
    "frequent_funnel.print_top_funnel_counts(top_funnels, NUMFUNNELSTOSHOW)"
   ]
  },
  {
   "cell_type": "markdown",
   "metadata": {},
   "source": [
    "## Show conversion statistics for the specified funnel"
   ]
  },
  {
   "cell_type": "code",
   "execution_count": 8,
   "metadata": {
    "collapsed": true
   },
   "outputs": [],
   "source": [
    "test_funnel=[\"https://www.oodatime.com/collections/mens\",\n",
    "             \"https://www.oodatime.com/collections/mens/products/blue-watch\",\n",
    "             \"https://www.oodatime.com/cart\"]\n",
    "funnel_counts = funnel_stats.get_funnel_stats(df, test_funnel, useResolvedUrls, LIMITROWS)\n",
    "analyze_traffic.plot_counts_by_freq(funnel_counts, 0, \"Funnel Counts\", True)"
   ]
  },
  {
   "cell_type": "markdown",
   "metadata": {},
   "source": [
    "## Plot sankey diagram for the specified funnel"
   ]
  },
  {
   "cell_type": "code",
   "execution_count": 9,
   "metadata": {
    "collapsed": true
   },
   "outputs": [],
   "source": [
    "sankey_funnel.plot_funnel(\"Blue Watch Funnel\", df, test_funnel, useResolvedUrls, cutoff=4)"
   ]
  },
  {
   "cell_type": "markdown",
   "metadata": {},
   "source": [
    "## Generate session links for the specified funnel"
   ]
  },
  {
   "cell_type": "markdown",
   "metadata": {},
   "source": [
    "**Note:** This only works if you are a FullStory user (use your Org ID)"
   ]
  },
  {
   "cell_type": "code",
   "execution_count": 10,
   "metadata": {
    "collapsed": true
   },
   "outputs": [],
   "source": [
    "ORGID = \"NHQ5G\"\n",
    "STAGING = False\n",
    "sessions = analyze_traffic.get_sessions_for_funnel(df, test_funnel, useResolvedUrls, ORGID, STAGING, True, 5)\n",
    "for s in sessions:\n",
    "    print(s)"
   ]
  },
  {
   "cell_type": "markdown",
   "metadata": {},
   "source": [
    "## Generate session links for a funnel that include a specified click type"
   ]
  },
  {
   "cell_type": "code",
   "execution_count": 11,
   "metadata": {
    "collapsed": true
   },
   "outputs": [],
   "source": [
    "ORGID = \"NHQ5G\"\n",
    "STAGING = False\n",
    "clicktype = \"rage\"\n",
    "sessions = analyze_traffic.get_sessions_for_funnel_and_click(dffull, test_funnel, clicktype, useResolvedUrls, ORGID, STAGING, True, 5)\n",
    "for s in sessions:\n",
    "    print(s)"
   ]
  },
  {
   "cell_type": "markdown",
   "metadata": {},
   "source": [
    "## Print timing stats for a funnel"
   ]
  },
  {
   "cell_type": "code",
   "execution_count": 12,
   "metadata": {
    "collapsed": true
   },
   "outputs": [],
   "source": [
    "funtimes = analyze_timing.get_timing_for_funnel(dffull, test_funnel, useResolvedUrls)\n",
    "analyze_timing.print_timing_averages(test_funnel, funtimes)"
   ]
  },
  {
   "cell_type": "markdown",
   "metadata": {},
   "source": [
    "## Generate timing histogram for 1 step of the funnel"
   ]
  },
  {
   "cell_type": "code",
   "execution_count": 13,
   "metadata": {
    "collapsed": true
   },
   "outputs": [],
   "source": [
    "analyze_timing.plot_timing_data(test_funnel, funtimes, 0)"
   ]
  },
  {
   "cell_type": "markdown",
   "metadata": {},
   "source": [
    "## Generate timing histogram for all steps of the funnel"
   ]
  },
  {
   "cell_type": "code",
   "execution_count": 14,
   "metadata": {
    "collapsed": true
   },
   "outputs": [],
   "source": [
    "analyze_timing.plot_timing_data(test_funnel, funtimes, -1)"
   ]
  },
  {
   "cell_type": "markdown",
   "metadata": {},
   "source": [
    "## Generate inflow and outflow counts for the specified funnel"
   ]
  },
  {
   "cell_type": "code",
   "execution_count": 15,
   "metadata": {},
   "outputs": [],
   "source": [
    "ingress, egress = funnel_in_outs.get_in_outs(df, test_funnel, useResolvedUrls, LIMITROWS)"
   ]
  },
  {
   "cell_type": "markdown",
   "metadata": {},
   "source": [
    "## Plot inflow statistics"
   ]
  },
  {
   "cell_type": "code",
   "execution_count": 16,
   "metadata": {
    "collapsed": true
   },
   "outputs": [],
   "source": [
    "analyze_traffic.plot_counts_by_freq(ingress, 0, \"Ingress\", False)"
   ]
  },
  {
   "cell_type": "markdown",
   "metadata": {},
   "source": [
    "## Plot outflow statistics"
   ]
  },
  {
   "cell_type": "code",
   "execution_count": 17,
   "metadata": {
    "collapsed": true
   },
   "outputs": [],
   "source": [
    "analyze_traffic.plot_counts_by_freq(egress, 0, \"Egress\", False)"
   ]
  },
  {
   "cell_type": "markdown",
   "metadata": {},
   "source": [
    "## Plot most visited URLs again (for illustration purposes)"
   ]
  },
  {
   "cell_type": "code",
   "execution_count": 18,
   "metadata": {
    "collapsed": true
   },
   "outputs": [],
   "source": [
    "url_counts = get_popular_urls.get_popular(df, useResolvedUrls, LIMITROWS)\n",
    "TOPCOUNTS = 20\n",
    "analyze_traffic.plot_counts_by_freq(url_counts, TOPCOUNTS, \"URL Counts\", False)"
   ]
  },
  {
   "cell_type": "markdown",
   "metadata": {},
   "source": [
    "## Display current list of URL resolution rules"
   ]
  },
  {
   "cell_type": "code",
   "execution_count": 19,
   "metadata": {
    "collapsed": true
   },
   "outputs": [],
   "source": [
    "manage_resolutions.show_rules()"
   ]
  },
  {
   "cell_type": "markdown",
   "metadata": {},
   "source": [
    "## Add URL resolution rule"
   ]
  },
  {
   "cell_type": "code",
   "execution_count": 20,
   "metadata": {},
   "outputs": [],
   "source": [
    "manage_resolutions.add_rule(\"/products/(black|blue|red|gold|rainbow)-watch\",\"/products/<any-watch>\")"
   ]
  },
  {
   "cell_type": "markdown",
   "metadata": {},
   "source": [
    "## Display URL resolution rules again"
   ]
  },
  {
   "cell_type": "code",
   "execution_count": 21,
   "metadata": {
    "collapsed": true
   },
   "outputs": [],
   "source": [
    "manage_resolutions.show_rules()"
   ]
  },
  {
   "cell_type": "markdown",
   "metadata": {},
   "source": [
    "## Plot most visited resolved URLs"
   ]
  },
  {
   "cell_type": "code",
   "execution_count": 22,
   "metadata": {
    "collapsed": true
   },
   "outputs": [],
   "source": [
    "useResolvedUrls = True\n",
    "url_counts = get_popular_urls.get_popular(df, useResolvedUrls, LIMITROWS)\n",
    "TOPCOUNTS = 20\n",
    "analyze_traffic.plot_counts_by_freq(url_counts, TOPCOUNTS, \"URL Counts\", False)"
   ]
  }
 ],
 "metadata": {
  "jupytext": {
   "formats": "ipynb,py:light"
  },
  "kernelspec": {
   "display_name": "Python 3",
   "language": "python",
   "name": "python3"
  },
  "language_info": {
   "codemirror_mode": {
    "name": "ipython",
    "version": 3
   },
   "file_extension": ".py",
   "mimetype": "text/x-python",
   "name": "python",
   "nbconvert_exporter": "python",
   "pygments_lexer": "ipython3",
   "version": "3.7.4"
  }
 },
 "nbformat": 4,
 "nbformat_minor": 4
}
