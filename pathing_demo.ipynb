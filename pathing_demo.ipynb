{
 "cells": [
  {
   "cell_type": "markdown",
   "metadata": {},
   "source": [
    "# Pathing Demo notebook"
   ]
  },
  {
   "cell_type": "markdown",
   "metadata": {},
   "source": [
    "## Setup"
   ]
  },
  {
   "cell_type": "code",
   "execution_count": 1,
   "metadata": {},
   "outputs": [],
   "source": [
    "%matplotlib inline\n",
    "import matplotlib.pyplot as plt\n",
    "import numpy as np\n",
    "import pandas as pd\n",
    "\n",
    "from textwrap import wrap\n",
    "\n",
    "from pathutils import (get_popular_urls, funnel_in_outs,funnel_stats, sankey_funnel, \n",
    "                       frequent_funnel, analyze_clicks, analyze_traffic, utils, manage_resolutions, \n",
    "                       url_regex_resolver, analyze_timing)"
   ]
  },
  {
   "cell_type": "code",
   "execution_count": 2,
   "metadata": {},
   "outputs": [],
   "source": [
    "#HAUSERDIR = \"<Path to your Hauser folder>\"\n",
    "HAUSERDIR = \"sampledata\"\n",
    "\n",
    "# `LIMITROWS` limits the number of rows in the output of most popular URLs\n",
    "LIMITROWS = 0"
   ]
  },
  {
   "cell_type": "markdown",
   "metadata": {},
   "source": [
    "## Load Data Export data into a dataframe"
   ]
  },
  {
   "cell_type": "code",
   "execution_count": 3,
   "metadata": {
    "scrolled": true
   },
   "outputs": [
    {
     "name": "stdout",
     "output_type": "stream",
     "text": [
      "Read file: sampledata/156643200048.json\n",
      "Read file: sampledata/156617280048.json\n",
      "Read file: sampledata/156625920048.json\n",
      "Read file: sampledata/156608640048.json\n",
      "Read file: sampledata/156591360048.json\n",
      "Read file: sampledata/156651840048.json\n",
      "Read file: sampledata/156634560048.json\n",
      "Read file: sampledata/156600000048.json\n"
     ]
    }
   ],
   "source": [
    "dffull = analyze_traffic.get_hauser_as_df(HAUSERDIR, navigate_only=False)\n",
    "dffull = utils.preproc_events(dffull)"
   ]
  },
  {
   "cell_type": "markdown",
   "metadata": {},
   "source": [
    "## Inspect your dataframe(s)\n",
    "You can find Data Export field descriptions on FullStory's API reference site: https://developer.fullstory.com/get-data-export"
   ]
  },
  {
   "cell_type": "code",
   "execution_count": 7,
   "metadata": {},
   "outputs": [
    {
     "data": {
      "text/html": [
       "<div>\n",
       "<style scoped>\n",
       "    .dataframe tbody tr th:only-of-type {\n",
       "        vertical-align: middle;\n",
       "    }\n",
       "\n",
       "    .dataframe tbody tr th {\n",
       "        vertical-align: top;\n",
       "    }\n",
       "\n",
       "    .dataframe thead th {\n",
       "        text-align: right;\n",
       "    }\n",
       "</style>\n",
       "<table border=\"1\" class=\"dataframe\">\n",
       "  <thead>\n",
       "    <tr style=\"text-align: right;\">\n",
       "      <th></th>\n",
       "      <th></th>\n",
       "      <th>i</th>\n",
       "      <th>IndvId</th>\n",
       "      <th>UserId</th>\n",
       "      <th>SessionId</th>\n",
       "      <th>PageId</th>\n",
       "      <th>EventStart</th>\n",
       "      <th>EventType</th>\n",
       "      <th>PageDuration</th>\n",
       "      <th>PageActiveDuration</th>\n",
       "      <th>PageUrl</th>\n",
       "      <th>...</th>\n",
       "      <th>UserDisplayName</th>\n",
       "      <th>UserEmail</th>\n",
       "      <th>LoadDomContentTime</th>\n",
       "      <th>LoadFirstPaintTime</th>\n",
       "      <th>LoadEventTime</th>\n",
       "      <th>EventTargetText</th>\n",
       "      <th>EventTargetSelectorTok</th>\n",
       "      <th>EventModDead</th>\n",
       "      <th>EventModFrustrated</th>\n",
       "      <th>distinct_session_id</th>\n",
       "    </tr>\n",
       "    <tr>\n",
       "      <th>sid</th>\n",
       "      <th>idx</th>\n",
       "      <th></th>\n",
       "      <th></th>\n",
       "      <th></th>\n",
       "      <th></th>\n",
       "      <th></th>\n",
       "      <th></th>\n",
       "      <th></th>\n",
       "      <th></th>\n",
       "      <th></th>\n",
       "      <th></th>\n",
       "      <th></th>\n",
       "      <th></th>\n",
       "      <th></th>\n",
       "      <th></th>\n",
       "      <th></th>\n",
       "      <th></th>\n",
       "      <th></th>\n",
       "      <th></th>\n",
       "      <th></th>\n",
       "      <th></th>\n",
       "      <th></th>\n",
       "    </tr>\n",
       "  </thead>\n",
       "  <tbody>\n",
       "    <tr>\n",
       "      <td rowspan=\"3\" valign=\"top\">45036252179005445266863488532480</td>\n",
       "      <td>0</td>\n",
       "      <td>7610</td>\n",
       "      <td>4503625217900544</td>\n",
       "      <td>4503625217900544</td>\n",
       "      <td>5266863488532480</td>\n",
       "      <td>5645523131334656</td>\n",
       "      <td>2019-08-22 21:47:07.701000+00:00</td>\n",
       "      <td>uservar</td>\n",
       "      <td>44</td>\n",
       "      <td>44</td>\n",
       "      <td>https://www.oodatime.com/collections/womens</td>\n",
       "      <td>...</td>\n",
       "      <td>User 1218</td>\n",
       "      <td></td>\n",
       "      <td>NaN</td>\n",
       "      <td>NaN</td>\n",
       "      <td>NaN</td>\n",
       "      <td>NaN</td>\n",
       "      <td>NaN</td>\n",
       "      <td>NaN</td>\n",
       "      <td>NaN</td>\n",
       "      <td>45036252179005445266863488532480</td>\n",
       "    </tr>\n",
       "    <tr>\n",
       "      <td>1</td>\n",
       "      <td>7611</td>\n",
       "      <td>4503625217900544</td>\n",
       "      <td>4503625217900544</td>\n",
       "      <td>5266863488532480</td>\n",
       "      <td>5645523131334656</td>\n",
       "      <td>2019-08-22 21:47:07.701000+00:00</td>\n",
       "      <td>navigate</td>\n",
       "      <td>44</td>\n",
       "      <td>44</td>\n",
       "      <td>https://www.oodatime.com/collections/womens</td>\n",
       "      <td>...</td>\n",
       "      <td>User 1218</td>\n",
       "      <td></td>\n",
       "      <td>NaN</td>\n",
       "      <td>NaN</td>\n",
       "      <td>NaN</td>\n",
       "      <td>NaN</td>\n",
       "      <td>NaN</td>\n",
       "      <td>NaN</td>\n",
       "      <td>NaN</td>\n",
       "      <td>45036252179005445266863488532480</td>\n",
       "    </tr>\n",
       "    <tr>\n",
       "      <td>2</td>\n",
       "      <td>7612</td>\n",
       "      <td>4503625217900544</td>\n",
       "      <td>4503625217900544</td>\n",
       "      <td>5266863488532480</td>\n",
       "      <td>5645523131334656</td>\n",
       "      <td>2019-08-22 21:47:07.745000+00:00</td>\n",
       "      <td>load</td>\n",
       "      <td>44</td>\n",
       "      <td>44</td>\n",
       "      <td>https://www.oodatime.com/collections/womens</td>\n",
       "      <td>...</td>\n",
       "      <td>User 1218</td>\n",
       "      <td></td>\n",
       "      <td>9.0</td>\n",
       "      <td>9.0</td>\n",
       "      <td>44.0</td>\n",
       "      <td>NaN</td>\n",
       "      <td>NaN</td>\n",
       "      <td>NaN</td>\n",
       "      <td>NaN</td>\n",
       "      <td>45036252179005445266863488532480</td>\n",
       "    </tr>\n",
       "    <tr>\n",
       "      <td rowspan=\"12\" valign=\"top\">45039947874631685488140640878592</td>\n",
       "      <td>0</td>\n",
       "      <td>899</td>\n",
       "      <td>4503994787463168</td>\n",
       "      <td>4503994787463168</td>\n",
       "      <td>5488140640878592</td>\n",
       "      <td>6599919232122880</td>\n",
       "      <td>2019-08-17 21:21:29.601000+00:00</td>\n",
       "      <td>uservar</td>\n",
       "      <td>14216</td>\n",
       "      <td>14216</td>\n",
       "      <td>https://www.oodatime.com/</td>\n",
       "      <td>...</td>\n",
       "      <td>User 102</td>\n",
       "      <td></td>\n",
       "      <td>NaN</td>\n",
       "      <td>NaN</td>\n",
       "      <td>NaN</td>\n",
       "      <td>NaN</td>\n",
       "      <td>NaN</td>\n",
       "      <td>NaN</td>\n",
       "      <td>NaN</td>\n",
       "      <td>45039947874631685488140640878592</td>\n",
       "    </tr>\n",
       "    <tr>\n",
       "      <td>1</td>\n",
       "      <td>900</td>\n",
       "      <td>4503994787463168</td>\n",
       "      <td>4503994787463168</td>\n",
       "      <td>5488140640878592</td>\n",
       "      <td>6599919232122880</td>\n",
       "      <td>2019-08-17 21:21:29.601000+00:00</td>\n",
       "      <td>navigate</td>\n",
       "      <td>14216</td>\n",
       "      <td>14216</td>\n",
       "      <td>https://www.oodatime.com/</td>\n",
       "      <td>...</td>\n",
       "      <td>User 102</td>\n",
       "      <td></td>\n",
       "      <td>NaN</td>\n",
       "      <td>NaN</td>\n",
       "      <td>NaN</td>\n",
       "      <td>NaN</td>\n",
       "      <td>NaN</td>\n",
       "      <td>NaN</td>\n",
       "      <td>NaN</td>\n",
       "      <td>45039947874631685488140640878592</td>\n",
       "    </tr>\n",
       "    <tr>\n",
       "      <td>2</td>\n",
       "      <td>901</td>\n",
       "      <td>4503994787463168</td>\n",
       "      <td>4503994787463168</td>\n",
       "      <td>5488140640878592</td>\n",
       "      <td>6599919232122880</td>\n",
       "      <td>2019-08-17 21:21:30.137000+00:00</td>\n",
       "      <td>load</td>\n",
       "      <td>14216</td>\n",
       "      <td>14216</td>\n",
       "      <td>https://www.oodatime.com/</td>\n",
       "      <td>...</td>\n",
       "      <td>User 102</td>\n",
       "      <td></td>\n",
       "      <td>13.0</td>\n",
       "      <td>888.0</td>\n",
       "      <td>536.0</td>\n",
       "      <td>NaN</td>\n",
       "      <td>NaN</td>\n",
       "      <td>NaN</td>\n",
       "      <td>NaN</td>\n",
       "      <td>45039947874631685488140640878592</td>\n",
       "    </tr>\n",
       "    <tr>\n",
       "      <td>3</td>\n",
       "      <td>902</td>\n",
       "      <td>4503994787463168</td>\n",
       "      <td>4503994787463168</td>\n",
       "      <td>5488140640878592</td>\n",
       "      <td>6599919232122880</td>\n",
       "      <td>2019-08-17 21:21:37.383000+00:00</td>\n",
       "      <td>click</td>\n",
       "      <td>14216</td>\n",
       "      <td>14216</td>\n",
       "      <td>https://www.oodatime.com/</td>\n",
       "      <td>...</td>\n",
       "      <td>User 102</td>\n",
       "      <td></td>\n",
       "      <td>NaN</td>\n",
       "      <td>NaN</td>\n",
       "      <td>NaN</td>\n",
       "      <td></td>\n",
       "      <td>html .csstransforms .flexbox .js .svg body .te...</td>\n",
       "      <td>NaN</td>\n",
       "      <td>NaN</td>\n",
       "      <td>45039947874631685488140640878592</td>\n",
       "    </tr>\n",
       "    <tr>\n",
       "      <td>4</td>\n",
       "      <td>903</td>\n",
       "      <td>4503994787463168</td>\n",
       "      <td>4503994787463168</td>\n",
       "      <td>5488140640878592</td>\n",
       "      <td>6599919232122880</td>\n",
       "      <td>2019-08-17 21:21:42.159000+00:00</td>\n",
       "      <td>click</td>\n",
       "      <td>14216</td>\n",
       "      <td>14216</td>\n",
       "      <td>https://www.oodatime.com/</td>\n",
       "      <td>...</td>\n",
       "      <td>User 102</td>\n",
       "      <td></td>\n",
       "      <td>NaN</td>\n",
       "      <td>NaN</td>\n",
       "      <td>NaN</td>\n",
       "      <td></td>\n",
       "      <td>html .csstransforms .flexbox .js .svg body .te...</td>\n",
       "      <td>NaN</td>\n",
       "      <td>NaN</td>\n",
       "      <td>45039947874631685488140640878592</td>\n",
       "    </tr>\n",
       "    <tr>\n",
       "      <td>5</td>\n",
       "      <td>904</td>\n",
       "      <td>4503994787463168</td>\n",
       "      <td>4503994787463168</td>\n",
       "      <td>5488140640878592</td>\n",
       "      <td>6599919232122880</td>\n",
       "      <td>2019-08-17 21:21:43.442000+00:00</td>\n",
       "      <td>click</td>\n",
       "      <td>14216</td>\n",
       "      <td>14216</td>\n",
       "      <td>https://www.oodatime.com/</td>\n",
       "      <td>...</td>\n",
       "      <td>User 102</td>\n",
       "      <td></td>\n",
       "      <td>NaN</td>\n",
       "      <td>NaN</td>\n",
       "      <td>NaN</td>\n",
       "      <td>Women's</td>\n",
       "      <td>html .csstransforms .flexbox .js .svg body .te...</td>\n",
       "      <td>NaN</td>\n",
       "      <td>NaN</td>\n",
       "      <td>45039947874631685488140640878592</td>\n",
       "    </tr>\n",
       "    <tr>\n",
       "      <td>6</td>\n",
       "      <td>905</td>\n",
       "      <td>4503994787463168</td>\n",
       "      <td>4503994787463168</td>\n",
       "      <td>5488140640878592</td>\n",
       "      <td>4674213908611072</td>\n",
       "      <td>2019-08-17 21:21:43.832000+00:00</td>\n",
       "      <td>uservar</td>\n",
       "      <td>7514</td>\n",
       "      <td>7514</td>\n",
       "      <td>https://www.oodatime.com/collections/womens</td>\n",
       "      <td>...</td>\n",
       "      <td>User 102</td>\n",
       "      <td></td>\n",
       "      <td>NaN</td>\n",
       "      <td>NaN</td>\n",
       "      <td>NaN</td>\n",
       "      <td>NaN</td>\n",
       "      <td>NaN</td>\n",
       "      <td>NaN</td>\n",
       "      <td>NaN</td>\n",
       "      <td>45039947874631685488140640878592</td>\n",
       "    </tr>\n",
       "    <tr>\n",
       "      <td>7</td>\n",
       "      <td>906</td>\n",
       "      <td>4503994787463168</td>\n",
       "      <td>4503994787463168</td>\n",
       "      <td>5488140640878592</td>\n",
       "      <td>4674213908611072</td>\n",
       "      <td>2019-08-17 21:21:43.832000+00:00</td>\n",
       "      <td>navigate</td>\n",
       "      <td>7514</td>\n",
       "      <td>7514</td>\n",
       "      <td>https://www.oodatime.com/collections/womens</td>\n",
       "      <td>...</td>\n",
       "      <td>User 102</td>\n",
       "      <td></td>\n",
       "      <td>NaN</td>\n",
       "      <td>NaN</td>\n",
       "      <td>NaN</td>\n",
       "      <td>NaN</td>\n",
       "      <td>NaN</td>\n",
       "      <td>NaN</td>\n",
       "      <td>NaN</td>\n",
       "      <td>45039947874631685488140640878592</td>\n",
       "    </tr>\n",
       "    <tr>\n",
       "      <td>8</td>\n",
       "      <td>907</td>\n",
       "      <td>4503994787463168</td>\n",
       "      <td>4503994787463168</td>\n",
       "      <td>5488140640878592</td>\n",
       "      <td>4674213908611072</td>\n",
       "      <td>2019-08-17 21:21:44.113000+00:00</td>\n",
       "      <td>load</td>\n",
       "      <td>7514</td>\n",
       "      <td>7514</td>\n",
       "      <td>https://www.oodatime.com/collections/womens</td>\n",
       "      <td>...</td>\n",
       "      <td>User 102</td>\n",
       "      <td></td>\n",
       "      <td>10.0</td>\n",
       "      <td>461.0</td>\n",
       "      <td>281.0</td>\n",
       "      <td>NaN</td>\n",
       "      <td>NaN</td>\n",
       "      <td>NaN</td>\n",
       "      <td>NaN</td>\n",
       "      <td>45039947874631685488140640878592</td>\n",
       "    </tr>\n",
       "    <tr>\n",
       "      <td>9</td>\n",
       "      <td>908</td>\n",
       "      <td>4503994787463168</td>\n",
       "      <td>4503994787463168</td>\n",
       "      <td>5488140640878592</td>\n",
       "      <td>4674213908611072</td>\n",
       "      <td>2019-08-17 21:21:50.192000+00:00</td>\n",
       "      <td>click</td>\n",
       "      <td>7514</td>\n",
       "      <td>7514</td>\n",
       "      <td>https://www.oodatime.com/collections/womens</td>\n",
       "      <td>...</td>\n",
       "      <td>User 102</td>\n",
       "      <td></td>\n",
       "      <td>NaN</td>\n",
       "      <td>NaN</td>\n",
       "      <td>NaN</td>\n",
       "      <td>Pink Watch</td>\n",
       "      <td>html .csstransforms .flexbox .js .svg body .te...</td>\n",
       "      <td>NaN</td>\n",
       "      <td>NaN</td>\n",
       "      <td>45039947874631685488140640878592</td>\n",
       "    </tr>\n",
       "    <tr>\n",
       "      <td>10</td>\n",
       "      <td>909</td>\n",
       "      <td>4503994787463168</td>\n",
       "      <td>4503994787463168</td>\n",
       "      <td>5488140640878592</td>\n",
       "      <td>4875570930286592</td>\n",
       "      <td>2019-08-17 21:21:51.512000+00:00</td>\n",
       "      <td>uservar</td>\n",
       "      <td>4414</td>\n",
       "      <td>4414</td>\n",
       "      <td>https://www.oodatime.com/collections/womens/pr...</td>\n",
       "      <td>...</td>\n",
       "      <td>User 102</td>\n",
       "      <td></td>\n",
       "      <td>NaN</td>\n",
       "      <td>NaN</td>\n",
       "      <td>NaN</td>\n",
       "      <td>NaN</td>\n",
       "      <td>NaN</td>\n",
       "      <td>NaN</td>\n",
       "      <td>NaN</td>\n",
       "      <td>45039947874631685488140640878592</td>\n",
       "    </tr>\n",
       "    <tr>\n",
       "      <td>11</td>\n",
       "      <td>910</td>\n",
       "      <td>4503994787463168</td>\n",
       "      <td>4503994787463168</td>\n",
       "      <td>5488140640878592</td>\n",
       "      <td>4875570930286592</td>\n",
       "      <td>2019-08-17 21:21:51.512000+00:00</td>\n",
       "      <td>navigate</td>\n",
       "      <td>4414</td>\n",
       "      <td>4414</td>\n",
       "      <td>https://www.oodatime.com/collections/womens/pr...</td>\n",
       "      <td>...</td>\n",
       "      <td>User 102</td>\n",
       "      <td></td>\n",
       "      <td>NaN</td>\n",
       "      <td>NaN</td>\n",
       "      <td>NaN</td>\n",
       "      <td>NaN</td>\n",
       "      <td>NaN</td>\n",
       "      <td>NaN</td>\n",
       "      <td>NaN</td>\n",
       "      <td>45039947874631685488140640878592</td>\n",
       "    </tr>\n",
       "  </tbody>\n",
       "</table>\n",
       "<p>15 rows × 32 columns</p>\n",
       "</div>"
      ],
      "text/plain": [
       "                                         i            IndvId  \\\n",
       "sid                              idx                           \n",
       "45036252179005445266863488532480 0    7610  4503625217900544   \n",
       "                                 1    7611  4503625217900544   \n",
       "                                 2    7612  4503625217900544   \n",
       "45039947874631685488140640878592 0     899  4503994787463168   \n",
       "                                 1     900  4503994787463168   \n",
       "                                 2     901  4503994787463168   \n",
       "                                 3     902  4503994787463168   \n",
       "                                 4     903  4503994787463168   \n",
       "                                 5     904  4503994787463168   \n",
       "                                 6     905  4503994787463168   \n",
       "                                 7     906  4503994787463168   \n",
       "                                 8     907  4503994787463168   \n",
       "                                 9     908  4503994787463168   \n",
       "                                 10    909  4503994787463168   \n",
       "                                 11    910  4503994787463168   \n",
       "\n",
       "                                                UserId         SessionId  \\\n",
       "sid                              idx                                       \n",
       "45036252179005445266863488532480 0    4503625217900544  5266863488532480   \n",
       "                                 1    4503625217900544  5266863488532480   \n",
       "                                 2    4503625217900544  5266863488532480   \n",
       "45039947874631685488140640878592 0    4503994787463168  5488140640878592   \n",
       "                                 1    4503994787463168  5488140640878592   \n",
       "                                 2    4503994787463168  5488140640878592   \n",
       "                                 3    4503994787463168  5488140640878592   \n",
       "                                 4    4503994787463168  5488140640878592   \n",
       "                                 5    4503994787463168  5488140640878592   \n",
       "                                 6    4503994787463168  5488140640878592   \n",
       "                                 7    4503994787463168  5488140640878592   \n",
       "                                 8    4503994787463168  5488140640878592   \n",
       "                                 9    4503994787463168  5488140640878592   \n",
       "                                 10   4503994787463168  5488140640878592   \n",
       "                                 11   4503994787463168  5488140640878592   \n",
       "\n",
       "                                                PageId  \\\n",
       "sid                              idx                     \n",
       "45036252179005445266863488532480 0    5645523131334656   \n",
       "                                 1    5645523131334656   \n",
       "                                 2    5645523131334656   \n",
       "45039947874631685488140640878592 0    6599919232122880   \n",
       "                                 1    6599919232122880   \n",
       "                                 2    6599919232122880   \n",
       "                                 3    6599919232122880   \n",
       "                                 4    6599919232122880   \n",
       "                                 5    6599919232122880   \n",
       "                                 6    4674213908611072   \n",
       "                                 7    4674213908611072   \n",
       "                                 8    4674213908611072   \n",
       "                                 9    4674213908611072   \n",
       "                                 10   4875570930286592   \n",
       "                                 11   4875570930286592   \n",
       "\n",
       "                                                           EventStart  \\\n",
       "sid                              idx                                    \n",
       "45036252179005445266863488532480 0   2019-08-22 21:47:07.701000+00:00   \n",
       "                                 1   2019-08-22 21:47:07.701000+00:00   \n",
       "                                 2   2019-08-22 21:47:07.745000+00:00   \n",
       "45039947874631685488140640878592 0   2019-08-17 21:21:29.601000+00:00   \n",
       "                                 1   2019-08-17 21:21:29.601000+00:00   \n",
       "                                 2   2019-08-17 21:21:30.137000+00:00   \n",
       "                                 3   2019-08-17 21:21:37.383000+00:00   \n",
       "                                 4   2019-08-17 21:21:42.159000+00:00   \n",
       "                                 5   2019-08-17 21:21:43.442000+00:00   \n",
       "                                 6   2019-08-17 21:21:43.832000+00:00   \n",
       "                                 7   2019-08-17 21:21:43.832000+00:00   \n",
       "                                 8   2019-08-17 21:21:44.113000+00:00   \n",
       "                                 9   2019-08-17 21:21:50.192000+00:00   \n",
       "                                 10  2019-08-17 21:21:51.512000+00:00   \n",
       "                                 11  2019-08-17 21:21:51.512000+00:00   \n",
       "\n",
       "                                     EventType  PageDuration  \\\n",
       "sid                              idx                           \n",
       "45036252179005445266863488532480 0     uservar            44   \n",
       "                                 1    navigate            44   \n",
       "                                 2        load            44   \n",
       "45039947874631685488140640878592 0     uservar         14216   \n",
       "                                 1    navigate         14216   \n",
       "                                 2        load         14216   \n",
       "                                 3       click         14216   \n",
       "                                 4       click         14216   \n",
       "                                 5       click         14216   \n",
       "                                 6     uservar          7514   \n",
       "                                 7    navigate          7514   \n",
       "                                 8        load          7514   \n",
       "                                 9       click          7514   \n",
       "                                 10    uservar          4414   \n",
       "                                 11   navigate          4414   \n",
       "\n",
       "                                      PageActiveDuration  \\\n",
       "sid                              idx                       \n",
       "45036252179005445266863488532480 0                    44   \n",
       "                                 1                    44   \n",
       "                                 2                    44   \n",
       "45039947874631685488140640878592 0                 14216   \n",
       "                                 1                 14216   \n",
       "                                 2                 14216   \n",
       "                                 3                 14216   \n",
       "                                 4                 14216   \n",
       "                                 5                 14216   \n",
       "                                 6                  7514   \n",
       "                                 7                  7514   \n",
       "                                 8                  7514   \n",
       "                                 9                  7514   \n",
       "                                 10                 4414   \n",
       "                                 11                 4414   \n",
       "\n",
       "                                                                                PageUrl  \\\n",
       "sid                              idx                                                      \n",
       "45036252179005445266863488532480 0          https://www.oodatime.com/collections/womens   \n",
       "                                 1          https://www.oodatime.com/collections/womens   \n",
       "                                 2          https://www.oodatime.com/collections/womens   \n",
       "45039947874631685488140640878592 0                            https://www.oodatime.com/   \n",
       "                                 1                            https://www.oodatime.com/   \n",
       "                                 2                            https://www.oodatime.com/   \n",
       "                                 3                            https://www.oodatime.com/   \n",
       "                                 4                            https://www.oodatime.com/   \n",
       "                                 5                            https://www.oodatime.com/   \n",
       "                                 6          https://www.oodatime.com/collections/womens   \n",
       "                                 7          https://www.oodatime.com/collections/womens   \n",
       "                                 8          https://www.oodatime.com/collections/womens   \n",
       "                                 9          https://www.oodatime.com/collections/womens   \n",
       "                                 10   https://www.oodatime.com/collections/womens/pr...   \n",
       "                                 11   https://www.oodatime.com/collections/womens/pr...   \n",
       "\n",
       "                                      ... UserDisplayName UserEmail  \\\n",
       "sid                              idx  ...                             \n",
       "45036252179005445266863488532480 0    ...       User 1218             \n",
       "                                 1    ...       User 1218             \n",
       "                                 2    ...       User 1218             \n",
       "45039947874631685488140640878592 0    ...        User 102             \n",
       "                                 1    ...        User 102             \n",
       "                                 2    ...        User 102             \n",
       "                                 3    ...        User 102             \n",
       "                                 4    ...        User 102             \n",
       "                                 5    ...        User 102             \n",
       "                                 6    ...        User 102             \n",
       "                                 7    ...        User 102             \n",
       "                                 8    ...        User 102             \n",
       "                                 9    ...        User 102             \n",
       "                                 10   ...        User 102             \n",
       "                                 11   ...        User 102             \n",
       "\n",
       "                                     LoadDomContentTime LoadFirstPaintTime  \\\n",
       "sid                              idx                                         \n",
       "45036252179005445266863488532480 0                  NaN                NaN   \n",
       "                                 1                  NaN                NaN   \n",
       "                                 2                  9.0                9.0   \n",
       "45039947874631685488140640878592 0                  NaN                NaN   \n",
       "                                 1                  NaN                NaN   \n",
       "                                 2                 13.0              888.0   \n",
       "                                 3                  NaN                NaN   \n",
       "                                 4                  NaN                NaN   \n",
       "                                 5                  NaN                NaN   \n",
       "                                 6                  NaN                NaN   \n",
       "                                 7                  NaN                NaN   \n",
       "                                 8                 10.0              461.0   \n",
       "                                 9                  NaN                NaN   \n",
       "                                 10                 NaN                NaN   \n",
       "                                 11                 NaN                NaN   \n",
       "\n",
       "                                     LoadEventTime EventTargetText  \\\n",
       "sid                              idx                                 \n",
       "45036252179005445266863488532480 0             NaN             NaN   \n",
       "                                 1             NaN             NaN   \n",
       "                                 2            44.0             NaN   \n",
       "45039947874631685488140640878592 0             NaN             NaN   \n",
       "                                 1             NaN             NaN   \n",
       "                                 2           536.0             NaN   \n",
       "                                 3             NaN                   \n",
       "                                 4             NaN                   \n",
       "                                 5             NaN         Women's   \n",
       "                                 6             NaN             NaN   \n",
       "                                 7             NaN             NaN   \n",
       "                                 8           281.0             NaN   \n",
       "                                 9             NaN      Pink Watch   \n",
       "                                 10            NaN             NaN   \n",
       "                                 11            NaN             NaN   \n",
       "\n",
       "                                                                 EventTargetSelectorTok  \\\n",
       "sid                              idx                                                      \n",
       "45036252179005445266863488532480 0                                                  NaN   \n",
       "                                 1                                                  NaN   \n",
       "                                 2                                                  NaN   \n",
       "45039947874631685488140640878592 0                                                  NaN   \n",
       "                                 1                                                  NaN   \n",
       "                                 2                                                  NaN   \n",
       "                                 3    html .csstransforms .flexbox .js .svg body .te...   \n",
       "                                 4    html .csstransforms .flexbox .js .svg body .te...   \n",
       "                                 5    html .csstransforms .flexbox .js .svg body .te...   \n",
       "                                 6                                                  NaN   \n",
       "                                 7                                                  NaN   \n",
       "                                 8                                                  NaN   \n",
       "                                 9    html .csstransforms .flexbox .js .svg body .te...   \n",
       "                                 10                                                 NaN   \n",
       "                                 11                                                 NaN   \n",
       "\n",
       "                                      EventModDead  EventModFrustrated  \\\n",
       "sid                              idx                                     \n",
       "45036252179005445266863488532480 0             NaN                 NaN   \n",
       "                                 1             NaN                 NaN   \n",
       "                                 2             NaN                 NaN   \n",
       "45039947874631685488140640878592 0             NaN                 NaN   \n",
       "                                 1             NaN                 NaN   \n",
       "                                 2             NaN                 NaN   \n",
       "                                 3             NaN                 NaN   \n",
       "                                 4             NaN                 NaN   \n",
       "                                 5             NaN                 NaN   \n",
       "                                 6             NaN                 NaN   \n",
       "                                 7             NaN                 NaN   \n",
       "                                 8             NaN                 NaN   \n",
       "                                 9             NaN                 NaN   \n",
       "                                 10            NaN                 NaN   \n",
       "                                 11            NaN                 NaN   \n",
       "\n",
       "                                                   distinct_session_id  \n",
       "sid                              idx                                    \n",
       "45036252179005445266863488532480 0    45036252179005445266863488532480  \n",
       "                                 1    45036252179005445266863488532480  \n",
       "                                 2    45036252179005445266863488532480  \n",
       "45039947874631685488140640878592 0    45039947874631685488140640878592  \n",
       "                                 1    45039947874631685488140640878592  \n",
       "                                 2    45039947874631685488140640878592  \n",
       "                                 3    45039947874631685488140640878592  \n",
       "                                 4    45039947874631685488140640878592  \n",
       "                                 5    45039947874631685488140640878592  \n",
       "                                 6    45039947874631685488140640878592  \n",
       "                                 7    45039947874631685488140640878592  \n",
       "                                 8    45039947874631685488140640878592  \n",
       "                                 9    45039947874631685488140640878592  \n",
       "                                 10   45039947874631685488140640878592  \n",
       "                                 11   45039947874631685488140640878592  \n",
       "\n",
       "[15 rows x 32 columns]"
      ]
     },
     "execution_count": 7,
     "metadata": {},
     "output_type": "execute_result"
    }
   ],
   "source": [
    "dffull.head(15)"
   ]
  },
  {
   "cell_type": "markdown",
   "metadata": {},
   "source": [
    "## Filter out any events that aren't navigation events"
   ]
  },
  {
   "cell_type": "code",
   "execution_count": 11,
   "metadata": {},
   "outputs": [
    {
     "data": {
      "text/html": [
       "<div>\n",
       "<style scoped>\n",
       "    .dataframe tbody tr th:only-of-type {\n",
       "        vertical-align: middle;\n",
       "    }\n",
       "\n",
       "    .dataframe tbody tr th {\n",
       "        vertical-align: top;\n",
       "    }\n",
       "\n",
       "    .dataframe thead th {\n",
       "        text-align: right;\n",
       "    }\n",
       "</style>\n",
       "<table border=\"1\" class=\"dataframe\">\n",
       "  <thead>\n",
       "    <tr style=\"text-align: right;\">\n",
       "      <th></th>\n",
       "      <th></th>\n",
       "      <th>i</th>\n",
       "      <th>IndvId</th>\n",
       "      <th>UserId</th>\n",
       "      <th>SessionId</th>\n",
       "      <th>PageId</th>\n",
       "      <th>EventStart</th>\n",
       "      <th>EventType</th>\n",
       "      <th>PageDuration</th>\n",
       "      <th>PageActiveDuration</th>\n",
       "      <th>PageUrl</th>\n",
       "      <th>...</th>\n",
       "      <th>UserDisplayName</th>\n",
       "      <th>UserEmail</th>\n",
       "      <th>LoadDomContentTime</th>\n",
       "      <th>LoadFirstPaintTime</th>\n",
       "      <th>LoadEventTime</th>\n",
       "      <th>EventTargetText</th>\n",
       "      <th>EventTargetSelectorTok</th>\n",
       "      <th>EventModDead</th>\n",
       "      <th>EventModFrustrated</th>\n",
       "      <th>distinct_session_id</th>\n",
       "    </tr>\n",
       "    <tr>\n",
       "      <th>sid</th>\n",
       "      <th>idx</th>\n",
       "      <th></th>\n",
       "      <th></th>\n",
       "      <th></th>\n",
       "      <th></th>\n",
       "      <th></th>\n",
       "      <th></th>\n",
       "      <th></th>\n",
       "      <th></th>\n",
       "      <th></th>\n",
       "      <th></th>\n",
       "      <th></th>\n",
       "      <th></th>\n",
       "      <th></th>\n",
       "      <th></th>\n",
       "      <th></th>\n",
       "      <th></th>\n",
       "      <th></th>\n",
       "      <th></th>\n",
       "      <th></th>\n",
       "      <th></th>\n",
       "      <th></th>\n",
       "    </tr>\n",
       "  </thead>\n",
       "  <tbody>\n",
       "    <tr>\n",
       "      <td>45036252179005445266863488532480</td>\n",
       "      <td>1</td>\n",
       "      <td>7611</td>\n",
       "      <td>4503625217900544</td>\n",
       "      <td>4503625217900544</td>\n",
       "      <td>5266863488532480</td>\n",
       "      <td>5645523131334656</td>\n",
       "      <td>2019-08-22 21:47:07.701000+00:00</td>\n",
       "      <td>navigate</td>\n",
       "      <td>44</td>\n",
       "      <td>44</td>\n",
       "      <td>https://www.oodatime.com/collections/womens</td>\n",
       "      <td>...</td>\n",
       "      <td>User 1218</td>\n",
       "      <td></td>\n",
       "      <td>NaN</td>\n",
       "      <td>NaN</td>\n",
       "      <td>NaN</td>\n",
       "      <td>NaN</td>\n",
       "      <td>NaN</td>\n",
       "      <td>NaN</td>\n",
       "      <td>NaN</td>\n",
       "      <td>45036252179005445266863488532480</td>\n",
       "    </tr>\n",
       "    <tr>\n",
       "      <td rowspan=\"5\" valign=\"top\">45039947874631685488140640878592</td>\n",
       "      <td>1</td>\n",
       "      <td>900</td>\n",
       "      <td>4503994787463168</td>\n",
       "      <td>4503994787463168</td>\n",
       "      <td>5488140640878592</td>\n",
       "      <td>6599919232122880</td>\n",
       "      <td>2019-08-17 21:21:29.601000+00:00</td>\n",
       "      <td>navigate</td>\n",
       "      <td>14216</td>\n",
       "      <td>14216</td>\n",
       "      <td>https://www.oodatime.com/</td>\n",
       "      <td>...</td>\n",
       "      <td>User 102</td>\n",
       "      <td></td>\n",
       "      <td>NaN</td>\n",
       "      <td>NaN</td>\n",
       "      <td>NaN</td>\n",
       "      <td>NaN</td>\n",
       "      <td>NaN</td>\n",
       "      <td>NaN</td>\n",
       "      <td>NaN</td>\n",
       "      <td>45039947874631685488140640878592</td>\n",
       "    </tr>\n",
       "    <tr>\n",
       "      <td>7</td>\n",
       "      <td>906</td>\n",
       "      <td>4503994787463168</td>\n",
       "      <td>4503994787463168</td>\n",
       "      <td>5488140640878592</td>\n",
       "      <td>4674213908611072</td>\n",
       "      <td>2019-08-17 21:21:43.832000+00:00</td>\n",
       "      <td>navigate</td>\n",
       "      <td>7514</td>\n",
       "      <td>7514</td>\n",
       "      <td>https://www.oodatime.com/collections/womens</td>\n",
       "      <td>...</td>\n",
       "      <td>User 102</td>\n",
       "      <td></td>\n",
       "      <td>NaN</td>\n",
       "      <td>NaN</td>\n",
       "      <td>NaN</td>\n",
       "      <td>NaN</td>\n",
       "      <td>NaN</td>\n",
       "      <td>NaN</td>\n",
       "      <td>NaN</td>\n",
       "      <td>45039947874631685488140640878592</td>\n",
       "    </tr>\n",
       "    <tr>\n",
       "      <td>11</td>\n",
       "      <td>910</td>\n",
       "      <td>4503994787463168</td>\n",
       "      <td>4503994787463168</td>\n",
       "      <td>5488140640878592</td>\n",
       "      <td>4875570930286592</td>\n",
       "      <td>2019-08-17 21:21:51.512000+00:00</td>\n",
       "      <td>navigate</td>\n",
       "      <td>4414</td>\n",
       "      <td>4414</td>\n",
       "      <td>https://www.oodatime.com/collections/womens/pr...</td>\n",
       "      <td>...</td>\n",
       "      <td>User 102</td>\n",
       "      <td></td>\n",
       "      <td>NaN</td>\n",
       "      <td>NaN</td>\n",
       "      <td>NaN</td>\n",
       "      <td>NaN</td>\n",
       "      <td>NaN</td>\n",
       "      <td>NaN</td>\n",
       "      <td>NaN</td>\n",
       "      <td>45039947874631685488140640878592</td>\n",
       "    </tr>\n",
       "    <tr>\n",
       "      <td>14</td>\n",
       "      <td>913</td>\n",
       "      <td>4503994787463168</td>\n",
       "      <td>4503994787463168</td>\n",
       "      <td>5488140640878592</td>\n",
       "      <td>5113941564882944</td>\n",
       "      <td>2019-08-17 21:21:56.028000+00:00</td>\n",
       "      <td>navigate</td>\n",
       "      <td>883</td>\n",
       "      <td>883</td>\n",
       "      <td>https://www.oodatime.com/collections/womens</td>\n",
       "      <td>...</td>\n",
       "      <td>User 102</td>\n",
       "      <td></td>\n",
       "      <td>NaN</td>\n",
       "      <td>NaN</td>\n",
       "      <td>NaN</td>\n",
       "      <td>NaN</td>\n",
       "      <td>NaN</td>\n",
       "      <td>NaN</td>\n",
       "      <td>NaN</td>\n",
       "      <td>45039947874631685488140640878592</td>\n",
       "    </tr>\n",
       "    <tr>\n",
       "      <td>17</td>\n",
       "      <td>916</td>\n",
       "      <td>4503994787463168</td>\n",
       "      <td>4503994787463168</td>\n",
       "      <td>5488140640878592</td>\n",
       "      <td>5993269982953472</td>\n",
       "      <td>2019-08-17 21:21:56.943000+00:00</td>\n",
       "      <td>navigate</td>\n",
       "      <td>281</td>\n",
       "      <td>281</td>\n",
       "      <td>https://www.oodatime.com/</td>\n",
       "      <td>...</td>\n",
       "      <td>User 102</td>\n",
       "      <td></td>\n",
       "      <td>NaN</td>\n",
       "      <td>NaN</td>\n",
       "      <td>NaN</td>\n",
       "      <td>NaN</td>\n",
       "      <td>NaN</td>\n",
       "      <td>NaN</td>\n",
       "      <td>NaN</td>\n",
       "      <td>45039947874631685488140640878592</td>\n",
       "    </tr>\n",
       "    <tr>\n",
       "      <td rowspan=\"4\" valign=\"top\">45064649378693125255511059496960</td>\n",
       "      <td>1</td>\n",
       "      <td>4153</td>\n",
       "      <td>4506464937869312</td>\n",
       "      <td>4506464937869312</td>\n",
       "      <td>5255511059496960</td>\n",
       "      <td>5578243055845376</td>\n",
       "      <td>2019-08-23 08:55:04.739000+00:00</td>\n",
       "      <td>navigate</td>\n",
       "      <td>6993</td>\n",
       "      <td>889</td>\n",
       "      <td>https://www.oodatime.com/</td>\n",
       "      <td>...</td>\n",
       "      <td>User 1638</td>\n",
       "      <td></td>\n",
       "      <td>NaN</td>\n",
       "      <td>NaN</td>\n",
       "      <td>NaN</td>\n",
       "      <td>NaN</td>\n",
       "      <td>NaN</td>\n",
       "      <td>NaN</td>\n",
       "      <td>NaN</td>\n",
       "      <td>45064649378693125255511059496960</td>\n",
       "    </tr>\n",
       "    <tr>\n",
       "      <td>4</td>\n",
       "      <td>4156</td>\n",
       "      <td>4506464937869312</td>\n",
       "      <td>4506464937869312</td>\n",
       "      <td>5255511059496960</td>\n",
       "      <td>5875518445486080</td>\n",
       "      <td>2019-08-23 08:55:11.420000+00:00</td>\n",
       "      <td>navigate</td>\n",
       "      <td>6333</td>\n",
       "      <td>938</td>\n",
       "      <td>https://www.oodatime.com/collections/womens</td>\n",
       "      <td>...</td>\n",
       "      <td>User 1638</td>\n",
       "      <td></td>\n",
       "      <td>NaN</td>\n",
       "      <td>NaN</td>\n",
       "      <td>NaN</td>\n",
       "      <td>NaN</td>\n",
       "      <td>NaN</td>\n",
       "      <td>NaN</td>\n",
       "      <td>NaN</td>\n",
       "      <td>45064649378693125255511059496960</td>\n",
       "    </tr>\n",
       "    <tr>\n",
       "      <td>9</td>\n",
       "      <td>4161</td>\n",
       "      <td>4506464937869312</td>\n",
       "      <td>4506464937869312</td>\n",
       "      <td>5255511059496960</td>\n",
       "      <td>4784889682493440</td>\n",
       "      <td>2019-08-23 08:55:17.933000+00:00</td>\n",
       "      <td>navigate</td>\n",
       "      <td>8176</td>\n",
       "      <td>2544</td>\n",
       "      <td>https://www.oodatime.com/collections/womens/pr...</td>\n",
       "      <td>...</td>\n",
       "      <td>User 1638</td>\n",
       "      <td></td>\n",
       "      <td>NaN</td>\n",
       "      <td>NaN</td>\n",
       "      <td>NaN</td>\n",
       "      <td>NaN</td>\n",
       "      <td>NaN</td>\n",
       "      <td>NaN</td>\n",
       "      <td>NaN</td>\n",
       "      <td>45064649378693125255511059496960</td>\n",
       "    </tr>\n",
       "    <tr>\n",
       "      <td>13</td>\n",
       "      <td>4165</td>\n",
       "      <td>4506464937869312</td>\n",
       "      <td>4506464937869312</td>\n",
       "      <td>5255511059496960</td>\n",
       "      <td>5980800307724288</td>\n",
       "      <td>2019-08-23 08:55:26.301000+00:00</td>\n",
       "      <td>navigate</td>\n",
       "      <td>10195</td>\n",
       "      <td>282</td>\n",
       "      <td>https://www.oodatime.com/cart</td>\n",
       "      <td>...</td>\n",
       "      <td>User 1638</td>\n",
       "      <td></td>\n",
       "      <td>NaN</td>\n",
       "      <td>NaN</td>\n",
       "      <td>NaN</td>\n",
       "      <td>NaN</td>\n",
       "      <td>NaN</td>\n",
       "      <td>NaN</td>\n",
       "      <td>NaN</td>\n",
       "      <td>45064649378693125255511059496960</td>\n",
       "    </tr>\n",
       "    <tr>\n",
       "      <td rowspan=\"5\" valign=\"top\">45099734291251204708498957959168</td>\n",
       "      <td>1</td>\n",
       "      <td>8901</td>\n",
       "      <td>4509973429125120</td>\n",
       "      <td>4509973429125120</td>\n",
       "      <td>4708498957959168</td>\n",
       "      <td>5391796008943616</td>\n",
       "      <td>2019-08-23 18:30:41.686000+00:00</td>\n",
       "      <td>navigate</td>\n",
       "      <td>7372</td>\n",
       "      <td>852</td>\n",
       "      <td>https://www.oodatime.com/</td>\n",
       "      <td>...</td>\n",
       "      <td>User 2014</td>\n",
       "      <td></td>\n",
       "      <td>NaN</td>\n",
       "      <td>NaN</td>\n",
       "      <td>NaN</td>\n",
       "      <td>NaN</td>\n",
       "      <td>NaN</td>\n",
       "      <td>NaN</td>\n",
       "      <td>NaN</td>\n",
       "      <td>45099734291251204708498957959168</td>\n",
       "    </tr>\n",
       "    <tr>\n",
       "      <td>5</td>\n",
       "      <td>8905</td>\n",
       "      <td>4509973429125120</td>\n",
       "      <td>4509973429125120</td>\n",
       "      <td>4708498957959168</td>\n",
       "      <td>5985248451002368</td>\n",
       "      <td>2019-08-23 18:30:48.859000+00:00</td>\n",
       "      <td>navigate</td>\n",
       "      <td>6170</td>\n",
       "      <td>641</td>\n",
       "      <td>https://www.oodatime.com/collections/mens</td>\n",
       "      <td>...</td>\n",
       "      <td>User 2014</td>\n",
       "      <td></td>\n",
       "      <td>NaN</td>\n",
       "      <td>NaN</td>\n",
       "      <td>NaN</td>\n",
       "      <td>NaN</td>\n",
       "      <td>NaN</td>\n",
       "      <td>NaN</td>\n",
       "      <td>NaN</td>\n",
       "      <td>45099734291251204708498957959168</td>\n",
       "    </tr>\n",
       "    <tr>\n",
       "      <td>9</td>\n",
       "      <td>8909</td>\n",
       "      <td>4509973429125120</td>\n",
       "      <td>4509973429125120</td>\n",
       "      <td>4708498957959168</td>\n",
       "      <td>5549494725804032</td>\n",
       "      <td>2019-08-23 18:30:55.288000+00:00</td>\n",
       "      <td>navigate</td>\n",
       "      <td>8021</td>\n",
       "      <td>2535</td>\n",
       "      <td>https://www.oodatime.com/collections/mens/prod...</td>\n",
       "      <td>...</td>\n",
       "      <td>User 2014</td>\n",
       "      <td></td>\n",
       "      <td>NaN</td>\n",
       "      <td>NaN</td>\n",
       "      <td>NaN</td>\n",
       "      <td>NaN</td>\n",
       "      <td>NaN</td>\n",
       "      <td>NaN</td>\n",
       "      <td>NaN</td>\n",
       "      <td>45099734291251204708498957959168</td>\n",
       "    </tr>\n",
       "    <tr>\n",
       "      <td>13</td>\n",
       "      <td>8913</td>\n",
       "      <td>4509973429125120</td>\n",
       "      <td>4509973429125120</td>\n",
       "      <td>4708498957959168</td>\n",
       "      <td>5673432046927872</td>\n",
       "      <td>2019-08-23 18:31:03.436000+00:00</td>\n",
       "      <td>navigate</td>\n",
       "      <td>6234</td>\n",
       "      <td>608</td>\n",
       "      <td>https://www.oodatime.com/cart</td>\n",
       "      <td>...</td>\n",
       "      <td>User 2014</td>\n",
       "      <td></td>\n",
       "      <td>NaN</td>\n",
       "      <td>NaN</td>\n",
       "      <td>NaN</td>\n",
       "      <td>NaN</td>\n",
       "      <td>NaN</td>\n",
       "      <td>NaN</td>\n",
       "      <td>NaN</td>\n",
       "      <td>45099734291251204708498957959168</td>\n",
       "    </tr>\n",
       "    <tr>\n",
       "      <td>17</td>\n",
       "      <td>8917</td>\n",
       "      <td>4509973429125120</td>\n",
       "      <td>4509973429125120</td>\n",
       "      <td>4708498957959168</td>\n",
       "      <td>6602157638844416</td>\n",
       "      <td>2019-08-23 18:31:09.728000+00:00</td>\n",
       "      <td>navigate</td>\n",
       "      <td>4410</td>\n",
       "      <td>282</td>\n",
       "      <td>https://www.oodatime.com/pages/thank-you</td>\n",
       "      <td>...</td>\n",
       "      <td>User 2014</td>\n",
       "      <td></td>\n",
       "      <td>NaN</td>\n",
       "      <td>NaN</td>\n",
       "      <td>NaN</td>\n",
       "      <td>NaN</td>\n",
       "      <td>NaN</td>\n",
       "      <td>NaN</td>\n",
       "      <td>NaN</td>\n",
       "      <td>45099734291251204708498957959168</td>\n",
       "    </tr>\n",
       "  </tbody>\n",
       "</table>\n",
       "<p>15 rows × 32 columns</p>\n",
       "</div>"
      ],
      "text/plain": [
       "                                         i            IndvId  \\\n",
       "sid                              idx                           \n",
       "45036252179005445266863488532480 1    7611  4503625217900544   \n",
       "45039947874631685488140640878592 1     900  4503994787463168   \n",
       "                                 7     906  4503994787463168   \n",
       "                                 11    910  4503994787463168   \n",
       "                                 14    913  4503994787463168   \n",
       "                                 17    916  4503994787463168   \n",
       "45064649378693125255511059496960 1    4153  4506464937869312   \n",
       "                                 4    4156  4506464937869312   \n",
       "                                 9    4161  4506464937869312   \n",
       "                                 13   4165  4506464937869312   \n",
       "45099734291251204708498957959168 1    8901  4509973429125120   \n",
       "                                 5    8905  4509973429125120   \n",
       "                                 9    8909  4509973429125120   \n",
       "                                 13   8913  4509973429125120   \n",
       "                                 17   8917  4509973429125120   \n",
       "\n",
       "                                                UserId         SessionId  \\\n",
       "sid                              idx                                       \n",
       "45036252179005445266863488532480 1    4503625217900544  5266863488532480   \n",
       "45039947874631685488140640878592 1    4503994787463168  5488140640878592   \n",
       "                                 7    4503994787463168  5488140640878592   \n",
       "                                 11   4503994787463168  5488140640878592   \n",
       "                                 14   4503994787463168  5488140640878592   \n",
       "                                 17   4503994787463168  5488140640878592   \n",
       "45064649378693125255511059496960 1    4506464937869312  5255511059496960   \n",
       "                                 4    4506464937869312  5255511059496960   \n",
       "                                 9    4506464937869312  5255511059496960   \n",
       "                                 13   4506464937869312  5255511059496960   \n",
       "45099734291251204708498957959168 1    4509973429125120  4708498957959168   \n",
       "                                 5    4509973429125120  4708498957959168   \n",
       "                                 9    4509973429125120  4708498957959168   \n",
       "                                 13   4509973429125120  4708498957959168   \n",
       "                                 17   4509973429125120  4708498957959168   \n",
       "\n",
       "                                                PageId  \\\n",
       "sid                              idx                     \n",
       "45036252179005445266863488532480 1    5645523131334656   \n",
       "45039947874631685488140640878592 1    6599919232122880   \n",
       "                                 7    4674213908611072   \n",
       "                                 11   4875570930286592   \n",
       "                                 14   5113941564882944   \n",
       "                                 17   5993269982953472   \n",
       "45064649378693125255511059496960 1    5578243055845376   \n",
       "                                 4    5875518445486080   \n",
       "                                 9    4784889682493440   \n",
       "                                 13   5980800307724288   \n",
       "45099734291251204708498957959168 1    5391796008943616   \n",
       "                                 5    5985248451002368   \n",
       "                                 9    5549494725804032   \n",
       "                                 13   5673432046927872   \n",
       "                                 17   6602157638844416   \n",
       "\n",
       "                                                           EventStart  \\\n",
       "sid                              idx                                    \n",
       "45036252179005445266863488532480 1   2019-08-22 21:47:07.701000+00:00   \n",
       "45039947874631685488140640878592 1   2019-08-17 21:21:29.601000+00:00   \n",
       "                                 7   2019-08-17 21:21:43.832000+00:00   \n",
       "                                 11  2019-08-17 21:21:51.512000+00:00   \n",
       "                                 14  2019-08-17 21:21:56.028000+00:00   \n",
       "                                 17  2019-08-17 21:21:56.943000+00:00   \n",
       "45064649378693125255511059496960 1   2019-08-23 08:55:04.739000+00:00   \n",
       "                                 4   2019-08-23 08:55:11.420000+00:00   \n",
       "                                 9   2019-08-23 08:55:17.933000+00:00   \n",
       "                                 13  2019-08-23 08:55:26.301000+00:00   \n",
       "45099734291251204708498957959168 1   2019-08-23 18:30:41.686000+00:00   \n",
       "                                 5   2019-08-23 18:30:48.859000+00:00   \n",
       "                                 9   2019-08-23 18:30:55.288000+00:00   \n",
       "                                 13  2019-08-23 18:31:03.436000+00:00   \n",
       "                                 17  2019-08-23 18:31:09.728000+00:00   \n",
       "\n",
       "                                     EventType  PageDuration  \\\n",
       "sid                              idx                           \n",
       "45036252179005445266863488532480 1    navigate            44   \n",
       "45039947874631685488140640878592 1    navigate         14216   \n",
       "                                 7    navigate          7514   \n",
       "                                 11   navigate          4414   \n",
       "                                 14   navigate           883   \n",
       "                                 17   navigate           281   \n",
       "45064649378693125255511059496960 1    navigate          6993   \n",
       "                                 4    navigate          6333   \n",
       "                                 9    navigate          8176   \n",
       "                                 13   navigate         10195   \n",
       "45099734291251204708498957959168 1    navigate          7372   \n",
       "                                 5    navigate          6170   \n",
       "                                 9    navigate          8021   \n",
       "                                 13   navigate          6234   \n",
       "                                 17   navigate          4410   \n",
       "\n",
       "                                      PageActiveDuration  \\\n",
       "sid                              idx                       \n",
       "45036252179005445266863488532480 1                    44   \n",
       "45039947874631685488140640878592 1                 14216   \n",
       "                                 7                  7514   \n",
       "                                 11                 4414   \n",
       "                                 14                  883   \n",
       "                                 17                  281   \n",
       "45064649378693125255511059496960 1                   889   \n",
       "                                 4                   938   \n",
       "                                 9                  2544   \n",
       "                                 13                  282   \n",
       "45099734291251204708498957959168 1                   852   \n",
       "                                 5                   641   \n",
       "                                 9                  2535   \n",
       "                                 13                  608   \n",
       "                                 17                  282   \n",
       "\n",
       "                                                                                PageUrl  \\\n",
       "sid                              idx                                                      \n",
       "45036252179005445266863488532480 1          https://www.oodatime.com/collections/womens   \n",
       "45039947874631685488140640878592 1                            https://www.oodatime.com/   \n",
       "                                 7          https://www.oodatime.com/collections/womens   \n",
       "                                 11   https://www.oodatime.com/collections/womens/pr...   \n",
       "                                 14         https://www.oodatime.com/collections/womens   \n",
       "                                 17                           https://www.oodatime.com/   \n",
       "45064649378693125255511059496960 1                            https://www.oodatime.com/   \n",
       "                                 4          https://www.oodatime.com/collections/womens   \n",
       "                                 9    https://www.oodatime.com/collections/womens/pr...   \n",
       "                                 13                       https://www.oodatime.com/cart   \n",
       "45099734291251204708498957959168 1                            https://www.oodatime.com/   \n",
       "                                 5            https://www.oodatime.com/collections/mens   \n",
       "                                 9    https://www.oodatime.com/collections/mens/prod...   \n",
       "                                 13                       https://www.oodatime.com/cart   \n",
       "                                 17            https://www.oodatime.com/pages/thank-you   \n",
       "\n",
       "                                      ... UserDisplayName UserEmail  \\\n",
       "sid                              idx  ...                             \n",
       "45036252179005445266863488532480 1    ...       User 1218             \n",
       "45039947874631685488140640878592 1    ...        User 102             \n",
       "                                 7    ...        User 102             \n",
       "                                 11   ...        User 102             \n",
       "                                 14   ...        User 102             \n",
       "                                 17   ...        User 102             \n",
       "45064649378693125255511059496960 1    ...       User 1638             \n",
       "                                 4    ...       User 1638             \n",
       "                                 9    ...       User 1638             \n",
       "                                 13   ...       User 1638             \n",
       "45099734291251204708498957959168 1    ...       User 2014             \n",
       "                                 5    ...       User 2014             \n",
       "                                 9    ...       User 2014             \n",
       "                                 13   ...       User 2014             \n",
       "                                 17   ...       User 2014             \n",
       "\n",
       "                                     LoadDomContentTime LoadFirstPaintTime  \\\n",
       "sid                              idx                                         \n",
       "45036252179005445266863488532480 1                  NaN                NaN   \n",
       "45039947874631685488140640878592 1                  NaN                NaN   \n",
       "                                 7                  NaN                NaN   \n",
       "                                 11                 NaN                NaN   \n",
       "                                 14                 NaN                NaN   \n",
       "                                 17                 NaN                NaN   \n",
       "45064649378693125255511059496960 1                  NaN                NaN   \n",
       "                                 4                  NaN                NaN   \n",
       "                                 9                  NaN                NaN   \n",
       "                                 13                 NaN                NaN   \n",
       "45099734291251204708498957959168 1                  NaN                NaN   \n",
       "                                 5                  NaN                NaN   \n",
       "                                 9                  NaN                NaN   \n",
       "                                 13                 NaN                NaN   \n",
       "                                 17                 NaN                NaN   \n",
       "\n",
       "                                     LoadEventTime EventTargetText  \\\n",
       "sid                              idx                                 \n",
       "45036252179005445266863488532480 1             NaN             NaN   \n",
       "45039947874631685488140640878592 1             NaN             NaN   \n",
       "                                 7             NaN             NaN   \n",
       "                                 11            NaN             NaN   \n",
       "                                 14            NaN             NaN   \n",
       "                                 17            NaN             NaN   \n",
       "45064649378693125255511059496960 1             NaN             NaN   \n",
       "                                 4             NaN             NaN   \n",
       "                                 9             NaN             NaN   \n",
       "                                 13            NaN             NaN   \n",
       "45099734291251204708498957959168 1             NaN             NaN   \n",
       "                                 5             NaN             NaN   \n",
       "                                 9             NaN             NaN   \n",
       "                                 13            NaN             NaN   \n",
       "                                 17            NaN             NaN   \n",
       "\n",
       "                                     EventTargetSelectorTok  EventModDead  \\\n",
       "sid                              idx                                        \n",
       "45036252179005445266863488532480 1                      NaN           NaN   \n",
       "45039947874631685488140640878592 1                      NaN           NaN   \n",
       "                                 7                      NaN           NaN   \n",
       "                                 11                     NaN           NaN   \n",
       "                                 14                     NaN           NaN   \n",
       "                                 17                     NaN           NaN   \n",
       "45064649378693125255511059496960 1                      NaN           NaN   \n",
       "                                 4                      NaN           NaN   \n",
       "                                 9                      NaN           NaN   \n",
       "                                 13                     NaN           NaN   \n",
       "45099734291251204708498957959168 1                      NaN           NaN   \n",
       "                                 5                      NaN           NaN   \n",
       "                                 9                      NaN           NaN   \n",
       "                                 13                     NaN           NaN   \n",
       "                                 17                     NaN           NaN   \n",
       "\n",
       "                                      EventModFrustrated  \\\n",
       "sid                              idx                       \n",
       "45036252179005445266863488532480 1                   NaN   \n",
       "45039947874631685488140640878592 1                   NaN   \n",
       "                                 7                   NaN   \n",
       "                                 11                  NaN   \n",
       "                                 14                  NaN   \n",
       "                                 17                  NaN   \n",
       "45064649378693125255511059496960 1                   NaN   \n",
       "                                 4                   NaN   \n",
       "                                 9                   NaN   \n",
       "                                 13                  NaN   \n",
       "45099734291251204708498957959168 1                   NaN   \n",
       "                                 5                   NaN   \n",
       "                                 9                   NaN   \n",
       "                                 13                  NaN   \n",
       "                                 17                  NaN   \n",
       "\n",
       "                                                   distinct_session_id  \n",
       "sid                              idx                                    \n",
       "45036252179005445266863488532480 1    45036252179005445266863488532480  \n",
       "45039947874631685488140640878592 1    45039947874631685488140640878592  \n",
       "                                 7    45039947874631685488140640878592  \n",
       "                                 11   45039947874631685488140640878592  \n",
       "                                 14   45039947874631685488140640878592  \n",
       "                                 17   45039947874631685488140640878592  \n",
       "45064649378693125255511059496960 1    45064649378693125255511059496960  \n",
       "                                 4    45064649378693125255511059496960  \n",
       "                                 9    45064649378693125255511059496960  \n",
       "                                 13   45064649378693125255511059496960  \n",
       "45099734291251204708498957959168 1    45099734291251204708498957959168  \n",
       "                                 5    45099734291251204708498957959168  \n",
       "                                 9    45099734291251204708498957959168  \n",
       "                                 13   45099734291251204708498957959168  \n",
       "                                 17   45099734291251204708498957959168  \n",
       "\n",
       "[15 rows x 32 columns]"
      ]
     },
     "execution_count": 11,
     "metadata": {},
     "output_type": "execute_result"
    }
   ],
   "source": [
    "#Optional: you can also filter your dataset to only include sessions with clicks of certain type\n",
    "#dffull = analyze_clicks.filter_dataset_by_clicktype(dffull, \"rage\")\n",
    "df = analyze_clicks.remove_non_navigation(dffull)\n",
    "useResolvedUrls = False\n",
    "\n",
    "df.head(15)"
   ]
  },
  {
   "cell_type": "markdown",
   "metadata": {},
   "source": [
    "## Plot a diagram of top most visited URLs"
   ]
  },
  {
   "cell_type": "code",
   "execution_count": 10,
   "metadata": {},
   "outputs": [
    {
     "data": {
      "image/png": "[encoded data removed]",
      "text/plain": [
       "<Figure size 864x864 with 1 Axes>"
      ]
     },
     "metadata": {
      "needs_background": "light"
     },
     "output_type": "display_data"
    }
   ],
   "source": [
    "url_counts = get_popular_urls.get_popular(df, useResolvedUrls, LIMITROWS)\n",
    "TOPCOUNTS = 20 # limit output rows\n",
    "analyze_traffic.plot_counts_by_freq(url_counts, TOPCOUNTS, \"URL Counts\", False)"
   ]
  },
  {
   "cell_type": "markdown",
   "metadata": {},
   "source": [
    "## Show common funnels that include the specified URL"
   ]
  },
  {
   "cell_type": "code",
   "execution_count": 5,
   "metadata": {
    "collapsed": true
   },
   "outputs": [
    {
     "name": "stdout",
     "output_type": "stream",
     "text": [
      "https://www.oodatime.com/collections/mens\n",
      "https://www.oodatime.com/collections/mens/products/red-watch\n",
      "https://www.oodatime.com/cart\n",
      "Count: 350\n",
      "https://www.oodatime.com/collections/womens\n",
      "https://www.oodatime.com/collections/womens/products/rainbow-watch\n",
      "https://www.oodatime.com/cart\n",
      "Count: 343\n",
      "https://www.oodatime.com/collections/mens/products/red-watch\n",
      "https://www.oodatime.com/cart\n",
      "https://www.oodatime.com/pages/thank-you\n",
      "Count: 338\n",
      "https://www.oodatime.com/collections/mens\n",
      "https://www.oodatime.com/collections/mens/products/blue-watch\n",
      "https://www.oodatime.com/cart\n",
      "Count: 281\n"
     ]
    }
   ],
   "source": [
    "TESTURL = \"https://www.oodatime.com/cart\"\n",
    "FUNNELLEN = 3\n",
    "NUMFUNNELSTOSHOW = 4\n",
    "top_funnels = frequent_funnel.get_top_funnels_df(TESTURL, FUNNELLEN, useResolvedUrls, df, LIMITROWS)\n",
    "frequent_funnel.print_top_funnel_counts(top_funnels, NUMFUNNELSTOSHOW)"
   ]
  },
  {
   "cell_type": "markdown",
   "metadata": {},
   "source": [
    "## Show conversion statistics for the specified funnel"
   ]
  },
  {
   "cell_type": "code",
   "execution_count": 6,
   "metadata": {
    "collapsed": true
   },
   "outputs": [
    {
     "data": {
      "image/png": "[encoded data removed]",
      "text/plain": [
       "<Figure size 864x864 with 1 Axes>"
      ]
     },
     "metadata": {
      "needs_background": "light"
     },
     "output_type": "display_data"
    }
   ],
   "source": [
    "test_funnel=[\"https://www.oodatime.com/collections/mens\",\n",
    "             \"https://www.oodatime.com/collections/mens/products/blue-watch\",\n",
    "             \"https://www.oodatime.com/cart\"]\n",
    "funnel_counts = funnel_stats.get_funnel_stats(df, test_funnel, useResolvedUrls, LIMITROWS)\n",
    "analyze_traffic.plot_counts_by_freq(funnel_counts, 0, \"Funnel Counts\", True)"
   ]
  },
  {
   "cell_type": "markdown",
   "metadata": {},
   "source": [
    "## Plot sankey diagram for the specified funnel"
   ]
  },
  {
   "cell_type": "code",
   "execution_count": 8,
   "metadata": {
    "collapsed": true
   },
   "outputs": [
    {
     "data": {
      "application/vnd.plotly.v1+json": {
       "config": {
        "plotlyServerURL": "https://plot.ly"
       },
       "data": [
        {
         "arrangement": "freeform",
         "link": {
          "source": [
           0,
           1,
           3,
           4,
           5,
           6,
           7,
           0,
           0,
           0,
           0,
           1,
           1,
           1,
           2,
           2,
           2
          ],
          "target": [
           1,
           2,
           0,
           0,
           0,
           0,
           0,
           8,
           9,
           10,
           11,
           12,
           13,
           14,
           13,
           10,
           15
          ],
          "value": [
           285,
           281,
           715,
           7,
           5,
           3,
           -4,
           359,
           53,
           12,
           40,
           2,
           2,
           1,
           270,
           9,
           2
          ]
         },
         "node": {
          "color": [
           "#F8598B",
           "#F8598B",
           "#F8598B",
           "#438EE1",
           "#438EE1",
           "#438EE1",
           "#438EE1",
           "#438EE1",
           "#685EC3",
           "#685EC3",
           "#685EC3",
           "#685EC3",
           "#685EC3",
           "#685EC3",
           "#685EC3",
           "#685EC3"
          ],
          "label": [
           "~/collections/mens",
           "~/collections/mens/products/blue-watch",
           "~/cart",
           "~/",
           "http://www.ads.google.com/",
           "~/collections/womens",
           "~/collections/mens",
           "Other",
           "~/collections/mens/products/red-watch",
           "~/collections/mens/products/black-watch",
           "Unknown",
           "Other",
           "~/collections/mens",
           "~/pages/thank-you",
           "~/collections/mens/products/blue-watch",
           "~/cart"
          ],
          "line": {
           "color": "black",
           "width": 0.5
          },
          "pad": 15,
          "thickness": 20
         },
         "type": "sankey"
        }
       ],
       "layout": {
        "font": {
         "size": 12
        },
        "template": {
         "data": {
          "bar": [
           {
            "error_x": {
             "color": "#2a3f5f"
            },
            "error_y": {
             "color": "#2a3f5f"
            },
            "marker": {
             "line": {
              "color": "#E5ECF6",
              "width": 0.5
             }
            },
            "type": "bar"
           }
          ],
          "barpolar": [
           {
            "marker": {
             "line": {
              "color": "#E5ECF6",
              "width": 0.5
             }
            },
            "type": "barpolar"
           }
          ],
          "carpet": [
           {
            "aaxis": {
             "endlinecolor": "#2a3f5f",
             "gridcolor": "white",
             "linecolor": "white",
             "minorgridcolor": "white",
             "startlinecolor": "#2a3f5f"
            },
            "baxis": {
             "endlinecolor": "#2a3f5f",
             "gridcolor": "white",
             "linecolor": "white",
             "minorgridcolor": "white",
             "startlinecolor": "#2a3f5f"
            },
            "type": "carpet"
           }
          ],
          "choropleth": [
           {
            "colorbar": {
             "outlinewidth": 0,
             "ticks": ""
            },
            "type": "choropleth"
           }
          ],
          "contour": [
           {
            "colorbar": {
             "outlinewidth": 0,
             "ticks": ""
            },
            "colorscale": [
             [
              0,
              "#0d0887"
             ],
             [
              0.1111111111111111,
              "#46039f"
             ],
             [
              0.2222222222222222,
              "#7201a8"
             ],
             [
              0.3333333333333333,
              "#9c179e"
             ],
             [
              0.4444444444444444,
              "#bd3786"
             ],
             [
              0.5555555555555556,
              "#d8576b"
             ],
             [
              0.6666666666666666,
              "#ed7953"
             ],
             [
              0.7777777777777778,
              "#fb9f3a"
             ],
             [
              0.8888888888888888,
              "#fdca26"
             ],
             [
              1,
              "#f0f921"
             ]
            ],
            "type": "contour"
           }
          ],
          "contourcarpet": [
           {
            "colorbar": {
             "outlinewidth": 0,
             "ticks": ""
            },
            "type": "contourcarpet"
           }
          ],
          "heatmap": [
           {
            "colorbar": {
             "outlinewidth": 0,
             "ticks": ""
            },
            "colorscale": [
             [
              0,
              "#0d0887"
             ],
             [
              0.1111111111111111,
              "#46039f"
             ],
             [
              0.2222222222222222,
              "#7201a8"
             ],
             [
              0.3333333333333333,
              "#9c179e"
             ],
             [
              0.4444444444444444,
              "#bd3786"
             ],
             [
              0.5555555555555556,
              "#d8576b"
             ],
             [
              0.6666666666666666,
              "#ed7953"
             ],
             [
              0.7777777777777778,
              "#fb9f3a"
             ],
             [
              0.8888888888888888,
              "#fdca26"
             ],
             [
              1,
              "#f0f921"
             ]
            ],
            "type": "heatmap"
           }
          ],
          "heatmapgl": [
           {
            "colorbar": {
             "outlinewidth": 0,
             "ticks": ""
            },
            "colorscale": [
             [
              0,
              "#0d0887"
             ],
             [
              0.1111111111111111,
              "#46039f"
             ],
             [
              0.2222222222222222,
              "#7201a8"
             ],
             [
              0.3333333333333333,
              "#9c179e"
             ],
             [
              0.4444444444444444,
              "#bd3786"
             ],
             [
              0.5555555555555556,
              "#d8576b"
             ],
             [
              0.6666666666666666,
              "#ed7953"
             ],
             [
              0.7777777777777778,
              "#fb9f3a"
             ],
             [
              0.8888888888888888,
              "#fdca26"
             ],
             [
              1,
              "#f0f921"
             ]
            ],
            "type": "heatmapgl"
           }
          ],
          "histogram": [
           {
            "marker": {
             "colorbar": {
              "outlinewidth": 0,
              "ticks": ""
             }
            },
            "type": "histogram"
           }
          ],
          "histogram2d": [
           {
            "colorbar": {
             "outlinewidth": 0,
             "ticks": ""
            },
            "colorscale": [
             [
              0,
              "#0d0887"
             ],
             [
              0.1111111111111111,
              "#46039f"
             ],
             [
              0.2222222222222222,
              "#7201a8"
             ],
             [
              0.3333333333333333,
              "#9c179e"
             ],
             [
              0.4444444444444444,
              "#bd3786"
             ],
             [
              0.5555555555555556,
              "#d8576b"
             ],
             [
              0.6666666666666666,
              "#ed7953"
             ],
             [
              0.7777777777777778,
              "#fb9f3a"
             ],
             [
              0.8888888888888888,
              "#fdca26"
             ],
             [
              1,
              "#f0f921"
             ]
            ],
            "type": "histogram2d"
           }
          ],
          "histogram2dcontour": [
           {
            "colorbar": {
             "outlinewidth": 0,
             "ticks": ""
            },
            "colorscale": [
             [
              0,
              "#0d0887"
             ],
             [
              0.1111111111111111,
              "#46039f"
             ],
             [
              0.2222222222222222,
              "#7201a8"
             ],
             [
              0.3333333333333333,
              "#9c179e"
             ],
             [
              0.4444444444444444,
              "#bd3786"
             ],
             [
              0.5555555555555556,
              "#d8576b"
             ],
             [
              0.6666666666666666,
              "#ed7953"
             ],
             [
              0.7777777777777778,
              "#fb9f3a"
             ],
             [
              0.8888888888888888,
              "#fdca26"
             ],
             [
              1,
              "#f0f921"
             ]
            ],
            "type": "histogram2dcontour"
           }
          ],
          "mesh3d": [
           {
            "colorbar": {
             "outlinewidth": 0,
             "ticks": ""
            },
            "type": "mesh3d"
           }
          ],
          "parcoords": [
           {
            "line": {
             "colorbar": {
              "outlinewidth": 0,
              "ticks": ""
             }
            },
            "type": "parcoords"
           }
          ],
          "scatter": [
           {
            "marker": {
             "colorbar": {
              "outlinewidth": 0,
              "ticks": ""
             }
            },
            "type": "scatter"
           }
          ],
          "scatter3d": [
           {
            "line": {
             "colorbar": {
              "outlinewidth": 0,
              "ticks": ""
             }
            },
            "marker": {
             "colorbar": {
              "outlinewidth": 0,
              "ticks": ""
             }
            },
            "type": "scatter3d"
           }
          ],
          "scattercarpet": [
           {
            "marker": {
             "colorbar": {
              "outlinewidth": 0,
              "ticks": ""
             }
            },
            "type": "scattercarpet"
           }
          ],
          "scattergeo": [
           {
            "marker": {
             "colorbar": {
              "outlinewidth": 0,
              "ticks": ""
             }
            },
            "type": "scattergeo"
           }
          ],
          "scattergl": [
           {
            "marker": {
             "colorbar": {
              "outlinewidth": 0,
              "ticks": ""
             }
            },
            "type": "scattergl"
           }
          ],
          "scattermapbox": [
           {
            "marker": {
             "colorbar": {
              "outlinewidth": 0,
              "ticks": ""
             }
            },
            "type": "scattermapbox"
           }
          ],
          "scatterpolar": [
           {
            "marker": {
             "colorbar": {
              "outlinewidth": 0,
              "ticks": ""
             }
            },
            "type": "scatterpolar"
           }
          ],
          "scatterpolargl": [
           {
            "marker": {
             "colorbar": {
              "outlinewidth": 0,
              "ticks": ""
             }
            },
            "type": "scatterpolargl"
           }
          ],
          "scatterternary": [
           {
            "marker": {
             "colorbar": {
              "outlinewidth": 0,
              "ticks": ""
             }
            },
            "type": "scatterternary"
           }
          ],
          "surface": [
           {
            "colorbar": {
             "outlinewidth": 0,
             "ticks": ""
            },
            "colorscale": [
             [
              0,
              "#0d0887"
             ],
             [
              0.1111111111111111,
              "#46039f"
             ],
             [
              0.2222222222222222,
              "#7201a8"
             ],
             [
              0.3333333333333333,
              "#9c179e"
             ],
             [
              0.4444444444444444,
              "#bd3786"
             ],
             [
              0.5555555555555556,
              "#d8576b"
             ],
             [
              0.6666666666666666,
              "#ed7953"
             ],
             [
              0.7777777777777778,
              "#fb9f3a"
             ],
             [
              0.8888888888888888,
              "#fdca26"
             ],
             [
              1,
              "#f0f921"
             ]
            ],
            "type": "surface"
           }
          ],
          "table": [
           {
            "cells": {
             "fill": {
              "color": "#EBF0F8"
             },
             "line": {
              "color": "white"
             }
            },
            "header": {
             "fill": {
              "color": "#C8D4E3"
             },
             "line": {
              "color": "white"
             }
            },
            "type": "table"
           }
          ]
         },
         "layout": {
          "annotationdefaults": {
           "arrowcolor": "#2a3f5f",
           "arrowhead": 0,
           "arrowwidth": 1
          },
          "colorscale": {
           "diverging": [
            [
             0,
             "#8e0152"
            ],
            [
             0.1,
             "#c51b7d"
            ],
            [
             0.2,
             "#de77ae"
            ],
            [
             0.3,
             "#f1b6da"
            ],
            [
             0.4,
             "#fde0ef"
            ],
            [
             0.5,
             "#f7f7f7"
            ],
            [
             0.6,
             "#e6f5d0"
            ],
            [
             0.7,
             "#b8e186"
            ],
            [
             0.8,
             "#7fbc41"
            ],
            [
             0.9,
             "#4d9221"
            ],
            [
             1,
             "#276419"
            ]
           ],
           "sequential": [
            [
             0,
             "#0d0887"
            ],
            [
             0.1111111111111111,
             "#46039f"
            ],
            [
             0.2222222222222222,
             "#7201a8"
            ],
            [
             0.3333333333333333,
             "#9c179e"
            ],
            [
             0.4444444444444444,
             "#bd3786"
            ],
            [
             0.5555555555555556,
             "#d8576b"
            ],
            [
             0.6666666666666666,
             "#ed7953"
            ],
            [
             0.7777777777777778,
             "#fb9f3a"
            ],
            [
             0.8888888888888888,
             "#fdca26"
            ],
            [
             1,
             "#f0f921"
            ]
           ],
           "sequentialminus": [
            [
             0,
             "#0d0887"
            ],
            [
             0.1111111111111111,
             "#46039f"
            ],
            [
             0.2222222222222222,
             "#7201a8"
            ],
            [
             0.3333333333333333,
             "#9c179e"
            ],
            [
             0.4444444444444444,
             "#bd3786"
            ],
            [
             0.5555555555555556,
             "#d8576b"
            ],
            [
             0.6666666666666666,
             "#ed7953"
            ],
            [
             0.7777777777777778,
             "#fb9f3a"
            ],
            [
             0.8888888888888888,
             "#fdca26"
            ],
            [
             1,
             "#f0f921"
            ]
           ]
          },
          "colorway": [
           "#636efa",
           "#EF553B",
           "#00cc96",
           "#ab63fa",
           "#FFA15A",
           "#19d3f3",
           "#FF6692",
           "#B6E880",
           "#FF97FF",
           "#FECB52"
          ],
          "font": {
           "color": "#2a3f5f"
          },
          "geo": {
           "bgcolor": "white",
           "lakecolor": "white",
           "landcolor": "#E5ECF6",
           "showlakes": true,
           "showland": true,
           "subunitcolor": "white"
          },
          "hoverlabel": {
           "align": "left"
          },
          "hovermode": "closest",
          "mapbox": {
           "style": "light"
          },
          "paper_bgcolor": "white",
          "plot_bgcolor": "#E5ECF6",
          "polar": {
           "angularaxis": {
            "gridcolor": "white",
            "linecolor": "white",
            "ticks": ""
           },
           "bgcolor": "#E5ECF6",
           "radialaxis": {
            "gridcolor": "white",
            "linecolor": "white",
            "ticks": ""
           }
          },
          "scene": {
           "xaxis": {
            "backgroundcolor": "#E5ECF6",
            "gridcolor": "white",
            "gridwidth": 2,
            "linecolor": "white",
            "showbackground": true,
            "ticks": "",
            "zerolinecolor": "white"
           },
           "yaxis": {
            "backgroundcolor": "#E5ECF6",
            "gridcolor": "white",
            "gridwidth": 2,
            "linecolor": "white",
            "showbackground": true,
            "ticks": "",
            "zerolinecolor": "white"
           },
           "zaxis": {
            "backgroundcolor": "#E5ECF6",
            "gridcolor": "white",
            "gridwidth": 2,
            "linecolor": "white",
            "showbackground": true,
            "ticks": "",
            "zerolinecolor": "white"
           }
          },
          "shapedefaults": {
           "line": {
            "color": "#2a3f5f"
           }
          },
          "ternary": {
           "aaxis": {
            "gridcolor": "white",
            "linecolor": "white",
            "ticks": ""
           },
           "baxis": {
            "gridcolor": "white",
            "linecolor": "white",
            "ticks": ""
           },
           "bgcolor": "#E5ECF6",
           "caxis": {
            "gridcolor": "white",
            "linecolor": "white",
            "ticks": ""
           }
          },
          "title": {
           "x": 0.05
          },
          "xaxis": {
           "automargin": true,
           "gridcolor": "white",
           "linecolor": "white",
           "ticks": "",
           "zerolinecolor": "white",
           "zerolinewidth": 2
          },
          "yaxis": {
           "automargin": true,
           "gridcolor": "white",
           "linecolor": "white",
           "ticks": "",
           "zerolinecolor": "white",
           "zerolinewidth": 2
          }
         }
        },
        "title": {
         "text": "Blue Watch Funnel   (~  --  https://www.oodatime.com)"
        }
       }
      },
      "text/html": [
       "<div>\n",
       "        \n",
       "        \n",
       "            <div id=\"e5184abb-cc00-453d-9460-df378a1dc0eb\" class=\"plotly-graph-div\" style=\"height:525px; width:100%;\"></div>\n",
       "            <script type=\"text/javascript\">\n",
       "                require([\"plotly\"], function(Plotly) {\n",
       "                    window.PLOTLYENV=window.PLOTLYENV || {};\n",
       "                    \n",
       "                if (document.getElementById(\"e5184abb-cc00-453d-9460-df378a1dc0eb\")) {\n",
       "                    Plotly.newPlot(\n",
       "                        'e5184abb-cc00-453d-9460-df378a1dc0eb',\n",
       "                        [{\"arrangement\": \"freeform\", \"link\": {\"source\": [0, 1, 3, 4, 5, 6, 7, 0, 0, 0, 0, 1, 1, 1, 2, 2, 2], \"target\": [1, 2, 0, 0, 0, 0, 0, 8, 9, 10, 11, 12, 13, 14, 13, 10, 15], \"value\": [285, 281, 715, 7, 5, 3, -4, 359, 53, 12, 40, 2, 2, 1, 270, 9, 2]}, \"node\": {\"color\": [\"#F8598B\", \"#F8598B\", \"#F8598B\", \"#438EE1\", \"#438EE1\", \"#438EE1\", \"#438EE1\", \"#438EE1\", \"#685EC3\", \"#685EC3\", \"#685EC3\", \"#685EC3\", \"#685EC3\", \"#685EC3\", \"#685EC3\", \"#685EC3\"], \"label\": [\"~/collections/mens\", \"~/collections/mens/products/blue-watch\", \"~/cart\", \"~/\", \"http://www.ads.google.com/\", \"~/collections/womens\", \"~/collections/mens\", \"Other\", \"~/collections/mens/products/red-watch\", \"~/collections/mens/products/black-watch\", \"Unknown\", \"Other\", \"~/collections/mens\", \"~/pages/thank-you\", \"~/collections/mens/products/blue-watch\", \"~/cart\"], \"line\": {\"color\": \"black\", \"width\": 0.5}, \"pad\": 15, \"thickness\": 20}, \"type\": \"sankey\"}],\n",
       "                        {\"font\": {\"size\": 12}, \"template\": {\"data\": {\"bar\": [{\"error_x\": {\"color\": \"#2a3f5f\"}, \"error_y\": {\"color\": \"#2a3f5f\"}, \"marker\": {\"line\": {\"color\": \"#E5ECF6\", \"width\": 0.5}}, \"type\": \"bar\"}], \"barpolar\": [{\"marker\": {\"line\": {\"color\": \"#E5ECF6\", \"width\": 0.5}}, \"type\": \"barpolar\"}], \"carpet\": [{\"aaxis\": {\"endlinecolor\": \"#2a3f5f\", \"gridcolor\": \"white\", \"linecolor\": \"white\", \"minorgridcolor\": \"white\", \"startlinecolor\": \"#2a3f5f\"}, \"baxis\": {\"endlinecolor\": \"#2a3f5f\", \"gridcolor\": \"white\", \"linecolor\": \"white\", \"minorgridcolor\": \"white\", \"startlinecolor\": \"#2a3f5f\"}, \"type\": \"carpet\"}], \"choropleth\": [{\"colorbar\": {\"outlinewidth\": 0, \"ticks\": \"\"}, \"type\": \"choropleth\"}], \"contour\": [{\"colorbar\": {\"outlinewidth\": 0, \"ticks\": \"\"}, \"colorscale\": [[0.0, \"#0d0887\"], [0.1111111111111111, \"#46039f\"], [0.2222222222222222, \"#7201a8\"], [0.3333333333333333, \"#9c179e\"], [0.4444444444444444, \"#bd3786\"], [0.5555555555555556, \"#d8576b\"], [0.6666666666666666, \"#ed7953\"], [0.7777777777777778, \"#fb9f3a\"], [0.8888888888888888, \"#fdca26\"], [1.0, \"#f0f921\"]], \"type\": \"contour\"}], \"contourcarpet\": [{\"colorbar\": {\"outlinewidth\": 0, \"ticks\": \"\"}, \"type\": \"contourcarpet\"}], \"heatmap\": [{\"colorbar\": {\"outlinewidth\": 0, \"ticks\": \"\"}, \"colorscale\": [[0.0, \"#0d0887\"], [0.1111111111111111, \"#46039f\"], [0.2222222222222222, \"#7201a8\"], [0.3333333333333333, \"#9c179e\"], [0.4444444444444444, \"#bd3786\"], [0.5555555555555556, \"#d8576b\"], [0.6666666666666666, \"#ed7953\"], [0.7777777777777778, \"#fb9f3a\"], [0.8888888888888888, \"#fdca26\"], [1.0, \"#f0f921\"]], \"type\": \"heatmap\"}], \"heatmapgl\": [{\"colorbar\": {\"outlinewidth\": 0, \"ticks\": \"\"}, \"colorscale\": [[0.0, \"#0d0887\"], [0.1111111111111111, \"#46039f\"], [0.2222222222222222, \"#7201a8\"], [0.3333333333333333, \"#9c179e\"], [0.4444444444444444, \"#bd3786\"], [0.5555555555555556, \"#d8576b\"], [0.6666666666666666, \"#ed7953\"], [0.7777777777777778, \"#fb9f3a\"], [0.8888888888888888, \"#fdca26\"], [1.0, \"#f0f921\"]], \"type\": \"heatmapgl\"}], \"histogram\": [{\"marker\": {\"colorbar\": {\"outlinewidth\": 0, \"ticks\": \"\"}}, \"type\": \"histogram\"}], \"histogram2d\": [{\"colorbar\": {\"outlinewidth\": 0, \"ticks\": \"\"}, \"colorscale\": [[0.0, \"#0d0887\"], [0.1111111111111111, \"#46039f\"], [0.2222222222222222, \"#7201a8\"], [0.3333333333333333, \"#9c179e\"], [0.4444444444444444, \"#bd3786\"], [0.5555555555555556, \"#d8576b\"], [0.6666666666666666, \"#ed7953\"], [0.7777777777777778, \"#fb9f3a\"], [0.8888888888888888, \"#fdca26\"], [1.0, \"#f0f921\"]], \"type\": \"histogram2d\"}], \"histogram2dcontour\": [{\"colorbar\": {\"outlinewidth\": 0, \"ticks\": \"\"}, \"colorscale\": [[0.0, \"#0d0887\"], [0.1111111111111111, \"#46039f\"], [0.2222222222222222, \"#7201a8\"], [0.3333333333333333, \"#9c179e\"], [0.4444444444444444, \"#bd3786\"], [0.5555555555555556, \"#d8576b\"], [0.6666666666666666, \"#ed7953\"], [0.7777777777777778, \"#fb9f3a\"], [0.8888888888888888, \"#fdca26\"], [1.0, \"#f0f921\"]], \"type\": \"histogram2dcontour\"}], \"mesh3d\": [{\"colorbar\": {\"outlinewidth\": 0, \"ticks\": \"\"}, \"type\": \"mesh3d\"}], \"parcoords\": [{\"line\": {\"colorbar\": {\"outlinewidth\": 0, \"ticks\": \"\"}}, \"type\": \"parcoords\"}], \"scatter\": [{\"marker\": {\"colorbar\": {\"outlinewidth\": 0, \"ticks\": \"\"}}, \"type\": \"scatter\"}], \"scatter3d\": [{\"line\": {\"colorbar\": {\"outlinewidth\": 0, \"ticks\": \"\"}}, \"marker\": {\"colorbar\": {\"outlinewidth\": 0, \"ticks\": \"\"}}, \"type\": \"scatter3d\"}], \"scattercarpet\": [{\"marker\": {\"colorbar\": {\"outlinewidth\": 0, \"ticks\": \"\"}}, \"type\": \"scattercarpet\"}], \"scattergeo\": [{\"marker\": {\"colorbar\": {\"outlinewidth\": 0, \"ticks\": \"\"}}, \"type\": \"scattergeo\"}], \"scattergl\": [{\"marker\": {\"colorbar\": {\"outlinewidth\": 0, \"ticks\": \"\"}}, \"type\": \"scattergl\"}], \"scattermapbox\": [{\"marker\": {\"colorbar\": {\"outlinewidth\": 0, \"ticks\": \"\"}}, \"type\": \"scattermapbox\"}], \"scatterpolar\": [{\"marker\": {\"colorbar\": {\"outlinewidth\": 0, \"ticks\": \"\"}}, \"type\": \"scatterpolar\"}], \"scatterpolargl\": [{\"marker\": {\"colorbar\": {\"outlinewidth\": 0, \"ticks\": \"\"}}, \"type\": \"scatterpolargl\"}], \"scatterternary\": [{\"marker\": {\"colorbar\": {\"outlinewidth\": 0, \"ticks\": \"\"}}, \"type\": \"scatterternary\"}], \"surface\": [{\"colorbar\": {\"outlinewidth\": 0, \"ticks\": \"\"}, \"colorscale\": [[0.0, \"#0d0887\"], [0.1111111111111111, \"#46039f\"], [0.2222222222222222, \"#7201a8\"], [0.3333333333333333, \"#9c179e\"], [0.4444444444444444, \"#bd3786\"], [0.5555555555555556, \"#d8576b\"], [0.6666666666666666, \"#ed7953\"], [0.7777777777777778, \"#fb9f3a\"], [0.8888888888888888, \"#fdca26\"], [1.0, \"#f0f921\"]], \"type\": \"surface\"}], \"table\": [{\"cells\": {\"fill\": {\"color\": \"#EBF0F8\"}, \"line\": {\"color\": \"white\"}}, \"header\": {\"fill\": {\"color\": \"#C8D4E3\"}, \"line\": {\"color\": \"white\"}}, \"type\": \"table\"}]}, \"layout\": {\"annotationdefaults\": {\"arrowcolor\": \"#2a3f5f\", \"arrowhead\": 0, \"arrowwidth\": 1}, \"colorscale\": {\"diverging\": [[0, \"#8e0152\"], [0.1, \"#c51b7d\"], [0.2, \"#de77ae\"], [0.3, \"#f1b6da\"], [0.4, \"#fde0ef\"], [0.5, \"#f7f7f7\"], [0.6, \"#e6f5d0\"], [0.7, \"#b8e186\"], [0.8, \"#7fbc41\"], [0.9, \"#4d9221\"], [1, \"#276419\"]], \"sequential\": [[0.0, \"#0d0887\"], [0.1111111111111111, \"#46039f\"], [0.2222222222222222, \"#7201a8\"], [0.3333333333333333, \"#9c179e\"], [0.4444444444444444, \"#bd3786\"], [0.5555555555555556, \"#d8576b\"], [0.6666666666666666, \"#ed7953\"], [0.7777777777777778, \"#fb9f3a\"], [0.8888888888888888, \"#fdca26\"], [1.0, \"#f0f921\"]], \"sequentialminus\": [[0.0, \"#0d0887\"], [0.1111111111111111, \"#46039f\"], [0.2222222222222222, \"#7201a8\"], [0.3333333333333333, \"#9c179e\"], [0.4444444444444444, \"#bd3786\"], [0.5555555555555556, \"#d8576b\"], [0.6666666666666666, \"#ed7953\"], [0.7777777777777778, \"#fb9f3a\"], [0.8888888888888888, \"#fdca26\"], [1.0, \"#f0f921\"]]}, \"colorway\": [\"#636efa\", \"#EF553B\", \"#00cc96\", \"#ab63fa\", \"#FFA15A\", \"#19d3f3\", \"#FF6692\", \"#B6E880\", \"#FF97FF\", \"#FECB52\"], \"font\": {\"color\": \"#2a3f5f\"}, \"geo\": {\"bgcolor\": \"white\", \"lakecolor\": \"white\", \"landcolor\": \"#E5ECF6\", \"showlakes\": true, \"showland\": true, \"subunitcolor\": \"white\"}, \"hoverlabel\": {\"align\": \"left\"}, \"hovermode\": \"closest\", \"mapbox\": {\"style\": \"light\"}, \"paper_bgcolor\": \"white\", \"plot_bgcolor\": \"#E5ECF6\", \"polar\": {\"angularaxis\": {\"gridcolor\": \"white\", \"linecolor\": \"white\", \"ticks\": \"\"}, \"bgcolor\": \"#E5ECF6\", \"radialaxis\": {\"gridcolor\": \"white\", \"linecolor\": \"white\", \"ticks\": \"\"}}, \"scene\": {\"xaxis\": {\"backgroundcolor\": \"#E5ECF6\", \"gridcolor\": \"white\", \"gridwidth\": 2, \"linecolor\": \"white\", \"showbackground\": true, \"ticks\": \"\", \"zerolinecolor\": \"white\"}, \"yaxis\": {\"backgroundcolor\": \"#E5ECF6\", \"gridcolor\": \"white\", \"gridwidth\": 2, \"linecolor\": \"white\", \"showbackground\": true, \"ticks\": \"\", \"zerolinecolor\": \"white\"}, \"zaxis\": {\"backgroundcolor\": \"#E5ECF6\", \"gridcolor\": \"white\", \"gridwidth\": 2, \"linecolor\": \"white\", \"showbackground\": true, \"ticks\": \"\", \"zerolinecolor\": \"white\"}}, \"shapedefaults\": {\"line\": {\"color\": \"#2a3f5f\"}}, \"ternary\": {\"aaxis\": {\"gridcolor\": \"white\", \"linecolor\": \"white\", \"ticks\": \"\"}, \"baxis\": {\"gridcolor\": \"white\", \"linecolor\": \"white\", \"ticks\": \"\"}, \"bgcolor\": \"#E5ECF6\", \"caxis\": {\"gridcolor\": \"white\", \"linecolor\": \"white\", \"ticks\": \"\"}}, \"title\": {\"x\": 0.05}, \"xaxis\": {\"automargin\": true, \"gridcolor\": \"white\", \"linecolor\": \"white\", \"ticks\": \"\", \"zerolinecolor\": \"white\", \"zerolinewidth\": 2}, \"yaxis\": {\"automargin\": true, \"gridcolor\": \"white\", \"linecolor\": \"white\", \"ticks\": \"\", \"zerolinecolor\": \"white\", \"zerolinewidth\": 2}}}, \"title\": {\"text\": \"Blue Watch Funnel   (~  --  https://www.oodatime.com)\"}},\n",
       "                        {\"responsive\": true}\n",
       "                    ).then(function(){\n",
       "                            \n",
       "var gd = document.getElementById('e5184abb-cc00-453d-9460-df378a1dc0eb');\n",
       "var x = new MutationObserver(function (mutations, observer) {{\n",
       "        var display = window.getComputedStyle(gd).display;\n",
       "        if (!display || display === 'none') {{\n",
       "            console.log([gd, 'removed!']);\n",
       "            Plotly.purge(gd);\n",
       "            observer.disconnect();\n",
       "        }}\n",
       "}});\n",
       "\n",
       "// Listen for the removal of the full notebook cells\n",
       "var notebookContainer = gd.closest('#notebook-container');\n",
       "if (notebookContainer) {{\n",
       "    x.observe(notebookContainer, {childList: true});\n",
       "}}\n",
       "\n",
       "// Listen for the clearing of the current output cell\n",
       "var outputEl = gd.closest('.output');\n",
       "if (outputEl) {{\n",
       "    x.observe(outputEl, {childList: true});\n",
       "}}\n",
       "\n",
       "                        })\n",
       "                };\n",
       "                });\n",
       "            </script>\n",
       "        </div>"
      ]
     },
     "metadata": {},
     "output_type": "display_data"
    }
   ],
   "source": [
    "sankey_funnel.plot_funnel(\"Blue Watch Funnel\", df, test_funnel, useResolvedUrls, cutoff=4)"
   ]
  },
  {
   "cell_type": "markdown",
   "metadata": {},
   "source": [
    "## Generate session links for the specified funnel"
   ]
  },
  {
   "cell_type": "markdown",
   "metadata": {},
   "source": [
    "**Note:** This only works if you are a FullStory user (use your Org ID)"
   ]
  },
  {
   "cell_type": "code",
   "execution_count": 8,
   "metadata": {
    "collapsed": true
   },
   "outputs": [
    {
     "name": "stdout",
     "output_type": "stream",
     "text": [
      "https://app.fullstory.com/ui/NHQ5G/session/5761812684374016:6231187614892032\n",
      "https://app.fullstory.com/ui/NHQ5G/session/4711191910842368:5618683234779136\n",
      "https://app.fullstory.com/ui/NHQ5G/session/5557830347161600:5815895516545024\n",
      "https://app.fullstory.com/ui/NHQ5G/session/5298898391302144:4569269984591872\n",
      "https://app.fullstory.com/ui/NHQ5G/session/5570950109102080:5749597394731008\n"
     ]
    }
   ],
   "source": [
    "ORGID = \"NHQ5G\"\n",
    "STAGING = False\n",
    "sessions = analyze_traffic.get_sessions_for_funnel(df, test_funnel, useResolvedUrls, ORGID, STAGING, True, 5)\n",
    "for s in sessions:\n",
    "    print(s)"
   ]
  },
  {
   "cell_type": "markdown",
   "metadata": {},
   "source": [
    "## Generate session links for a funnel that include a specified click type"
   ]
  },
  {
   "cell_type": "code",
   "execution_count": 9,
   "metadata": {
    "collapsed": true
   },
   "outputs": [
    {
     "name": "stdout",
     "output_type": "stream",
     "text": [
      "https://app.fullstory.com/ui/NHQ5G/session/6315220664352768:6548332262490112\n",
      "https://app.fullstory.com/ui/NHQ5G/session/6333064626077696:6671753113796608\n"
     ]
    }
   ],
   "source": [
    "ORGID = \"NHQ5G\"\n",
    "STAGING = False\n",
    "clicktype = \"rage\"\n",
    "sessions = analyze_traffic.get_sessions_for_funnel_and_click(dffull, test_funnel, clicktype, useResolvedUrls, ORGID, STAGING, True, 5)\n",
    "for s in sessions:\n",
    "    print(s)"
   ]
  },
  {
   "cell_type": "markdown",
   "metadata": {},
   "source": [
    "## Print timing stats for a funnel"
   ]
  },
  {
   "cell_type": "code",
   "execution_count": 10,
   "metadata": {
    "collapsed": true
   },
   "outputs": [
    {
     "name": "stdout",
     "output_type": "stream",
     "text": [
      "https://www.oodatime.com/collections/mens --> https://www.oodatime.com/collections/mens/products/blue-watch\n",
      "Average: 6.8364806 seconds\n",
      "Median: 6.584 seconds\n",
      "https://www.oodatime.com/collections/mens/products/blue-watch --> https://www.oodatime.com/cart\n",
      "Average: 8.97889 seconds\n",
      "Median: 8.478 seconds\n"
     ]
    }
   ],
   "source": [
    "funtimes = analyze_timing.get_timing_for_funnel(dffull, test_funnel, useResolvedUrls)\n",
    "analyze_timing.print_timing_averages(test_funnel, funtimes)"
   ]
  },
  {
   "cell_type": "markdown",
   "metadata": {},
   "source": [
    "## Generate timing histogram for 1 step of the funnel"
   ]
  },
  {
   "cell_type": "code",
   "execution_count": 11,
   "metadata": {
    "collapsed": true
   },
   "outputs": [
    {
     "data": {
      "application/vnd.plotly.v1+json": {
       "config": {
        "plotlyServerURL": "https://plot.ly"
       },
       "data": [
        {
         "type": "histogram",
         "x": [
          6.5920000076293945,
          6.591000080108643,
          6.328000068664551,
          6.623000144958496,
          6.8480000495910645,
          6.434999942779541,
          6.15500020980835,
          6.880000114440918,
          6.699999809265137,
          6.788000106811523,
          6.5960001945495605,
          6.548999786376953,
          6.931000232696533,
          6.166999816894531,
          32.33100128173828,
          6.6479997634887695,
          6.706999778747559,
          6.679999828338623,
          6.817999839782715,
          6.439000129699707,
          3.691999912261963,
          6.611999988555908,
          6.693999767303467,
          6.609000205993652,
          7.005000114440918,
          6.244999885559082,
          6.6570000648498535,
          6.2729997634887695,
          6.572999954223633,
          6.544000148773193,
          6.833000183105469,
          6.4710001945495605,
          6.61899995803833,
          6.513000011444092,
          6.627999782562256,
          7.077000141143799,
          6.76200008392334,
          6.488999843597412,
          6.35699987411499,
          6.576000213623047,
          6.548999786376953,
          6.874000072479248,
          6.186999797821045,
          6.502999782562256,
          6.2170000076293945,
          11.428000450134277,
          6.46999979019165,
          25.683000564575195,
          6.585999965667725,
          7.066999912261963,
          6.954999923706055,
          7.117000102996826,
          6.681000232696533,
          6.681000232696533,
          6.690000057220459,
          6.374000072479248,
          7.5329999923706055,
          6.547999858856201,
          6.618000030517578,
          6.410999774932861,
          6.413000106811523,
          6.730000019073486,
          6.51800012588501,
          6.456999778747559,
          6.980000019073486,
          6.13700008392334,
          6.452000141143799,
          6.63100004196167,
          6.436999797821045,
          6.192999839782715,
          6.425000190734863,
          6.4629998207092285,
          7.019999980926514,
          6.517000198364258,
          6.4629998207092285,
          6.585999965667725,
          6.521999835968018,
          6.15500020980835,
          6.440999984741211,
          6.400000095367432,
          6.21999979019165,
          6.513999938964844,
          6.421000003814697,
          6.26800012588501,
          7.169000148773193,
          6.703000068664551,
          6.760000228881836,
          6.953000068664551,
          6.315000057220459,
          6.585000038146973,
          6.88100004196167,
          6.185999870300293,
          6.208000183105469,
          6.563000202178955,
          6.379000186920166,
          6.460999965667725,
          6.7179999351501465,
          6.9770002365112305,
          6.671999931335449,
          6.2729997634887695,
          6.9039998054504395,
          6.6620001792907715,
          6.244999885559082,
          6.807000160217285,
          6.427999973297119,
          6.453999996185303,
          6.539000034332275,
          7.168000221252441,
          6.692999839782715,
          6.951000213623047,
          6.853000164031982,
          6.261000156402588,
          6.584000110626221,
          6.158999919891357,
          7.061999797821045,
          6.895999908447266,
          6.360000133514404,
          6.456999778747559,
          6.449999809265137,
          6.578000068664551,
          6.408999919891357,
          6.4770002365112305,
          7.196000099182129,
          6.561999797821045,
          6.660999774932861,
          6.505000114440918,
          6.4019999504089355,
          6.611999988555908,
          6.698999881744385,
          6.543000221252441,
          6.414999961853027,
          26.2450008392334,
          6.728000164031982,
          6.495999813079834,
          6.618000030517578,
          6.558000087738037,
          6.502999782562256,
          2.062000036239624,
          7.321000099182129,
          6.150000095367432,
          6.28000020980835,
          6.888999938964844,
          6.697000026702881,
          6.5370001792907715,
          6.427999973297119,
          6.468999862670898,
          6.577000141143799,
          6.978000164031982,
          6.189000129699707,
          6.534999847412109,
          6.4770002365112305,
          6.7170000076293945,
          6.7129998207092285,
          6.573999881744385,
          6.716000080108643,
          6.750999927520752,
          6.46999979019165,
          6.203000068664551,
          6.448999881744385,
          6.2829999923706055,
          6.428999900817871,
          6.642000198364258,
          6.374000072479248,
          6.5279998779296875,
          6.605000019073486,
          6.834000110626221,
          6.49399995803833,
          6.39300012588501,
          6.4120001792907715,
          6.438000202178955,
          6.6479997634887695,
          6.4679999351501465,
          6.763000011444092,
          7.052999973297119,
          6.581999778747559,
          6.697999954223633,
          6.704999923706055,
          6.289000034332275,
          6.5879998207092285,
          6.5920000076293945,
          6.51800012588501,
          6.715000152587891,
          6.5970001220703125,
          6.515999794006348,
          6.541999816894531,
          6.140999794006348,
          6.934999942779541,
          6.297999858856201,
          6.572000026702881,
          6.616000175476074,
          6.295000076293945,
          6.373000144958496,
          6.534999847412109,
          6.574999809265137,
          6.506999969482422,
          6.216000080108643,
          6.265999794006348,
          6.605000019073486,
          6.165999889373779,
          6.698999881744385,
          6.486999988555908,
          6.333000183105469,
          6.4770002365112305,
          7.076000213623047,
          6.567999839782715,
          6.9720001220703125,
          6.545000076293945,
          6.822000026702881,
          7.0929999351501465,
          6.761000156402588,
          6.2789998054504395,
          6.760000228881836,
          6.751999855041504,
          6.570000171661377,
          6.599999904632568,
          7.020999908447266,
          6.605999946594238,
          6.513999938964844,
          6.631999969482422,
          7.077000141143799,
          6.5980000495910645,
          8.288999557495117,
          6.223999977111816,
          6.809000015258789,
          6.730999946594238,
          6.745999813079834,
          6.921999931335449,
          6.807000160217285,
          7.0269999504089355,
          6.236999988555908,
          6.642000198364258,
          6.243000030517578,
          6.684000015258789,
          6.59499979019165,
          6.497000217437744,
          6.625,
          6.763000011444092,
          6.59499979019165,
          6.169000148773193,
          6.24399995803833,
          6.486000061035156,
          6.543000221252441,
          6.71999979019165,
          6.4720001220703125,
          7.059999942779541,
          6.561999797821045,
          6.604000091552734,
          6.192999839782715,
          6.886000156402588,
          6.559999942779541,
          6.638000011444092,
          6.260000228881836,
          6.671000003814697,
          6.553999900817871,
          6.804999828338623,
          6.642000198364258,
          6.868000030517578,
          6.873000144958496,
          6.704999923706055,
          6.638000011444092,
          7.10099983215332,
          9.517000198364258,
          6.617000102996826,
          7.361000061035156,
          6.539999961853027,
          6.336999893188477,
          6.875999927520752,
          6.692999839782715,
          6.834000110626221,
          6.640999794006348,
          6.998000144958496,
          6.269999980926514,
          6.507999897003174,
          6.428999900817871,
          6.544000148773193,
          6.841000080108643,
          6.998000144958496,
          6.513000011444092,
          7.0320000648498535,
          6.539000034332275,
          6.53000020980835
         ]
        }
       ],
       "layout": {
        "template": {
         "data": {
          "bar": [
           {
            "error_x": {
             "color": "#2a3f5f"
            },
            "error_y": {
             "color": "#2a3f5f"
            },
            "marker": {
             "line": {
              "color": "#E5ECF6",
              "width": 0.5
             }
            },
            "type": "bar"
           }
          ],
          "barpolar": [
           {
            "marker": {
             "line": {
              "color": "#E5ECF6",
              "width": 0.5
             }
            },
            "type": "barpolar"
           }
          ],
          "carpet": [
           {
            "aaxis": {
             "endlinecolor": "#2a3f5f",
             "gridcolor": "white",
             "linecolor": "white",
             "minorgridcolor": "white",
             "startlinecolor": "#2a3f5f"
            },
            "baxis": {
             "endlinecolor": "#2a3f5f",
             "gridcolor": "white",
             "linecolor": "white",
             "minorgridcolor": "white",
             "startlinecolor": "#2a3f5f"
            },
            "type": "carpet"
           }
          ],
          "choropleth": [
           {
            "colorbar": {
             "outlinewidth": 0,
             "ticks": ""
            },
            "type": "choropleth"
           }
          ],
          "contour": [
           {
            "colorbar": {
             "outlinewidth": 0,
             "ticks": ""
            },
            "colorscale": [
             [
              0,
              "#0d0887"
             ],
             [
              0.1111111111111111,
              "#46039f"
             ],
             [
              0.2222222222222222,
              "#7201a8"
             ],
             [
              0.3333333333333333,
              "#9c179e"
             ],
             [
              0.4444444444444444,
              "#bd3786"
             ],
             [
              0.5555555555555556,
              "#d8576b"
             ],
             [
              0.6666666666666666,
              "#ed7953"
             ],
             [
              0.7777777777777778,
              "#fb9f3a"
             ],
             [
              0.8888888888888888,
              "#fdca26"
             ],
             [
              1,
              "#f0f921"
             ]
            ],
            "type": "contour"
           }
          ],
          "contourcarpet": [
           {
            "colorbar": {
             "outlinewidth": 0,
             "ticks": ""
            },
            "type": "contourcarpet"
           }
          ],
          "heatmap": [
           {
            "colorbar": {
             "outlinewidth": 0,
             "ticks": ""
            },
            "colorscale": [
             [
              0,
              "#0d0887"
             ],
             [
              0.1111111111111111,
              "#46039f"
             ],
             [
              0.2222222222222222,
              "#7201a8"
             ],
             [
              0.3333333333333333,
              "#9c179e"
             ],
             [
              0.4444444444444444,
              "#bd3786"
             ],
             [
              0.5555555555555556,
              "#d8576b"
             ],
             [
              0.6666666666666666,
              "#ed7953"
             ],
             [
              0.7777777777777778,
              "#fb9f3a"
             ],
             [
              0.8888888888888888,
              "#fdca26"
             ],
             [
              1,
              "#f0f921"
             ]
            ],
            "type": "heatmap"
           }
          ],
          "heatmapgl": [
           {
            "colorbar": {
             "outlinewidth": 0,
             "ticks": ""
            },
            "colorscale": [
             [
              0,
              "#0d0887"
             ],
             [
              0.1111111111111111,
              "#46039f"
             ],
             [
              0.2222222222222222,
              "#7201a8"
             ],
             [
              0.3333333333333333,
              "#9c179e"
             ],
             [
              0.4444444444444444,
              "#bd3786"
             ],
             [
              0.5555555555555556,
              "#d8576b"
             ],
             [
              0.6666666666666666,
              "#ed7953"
             ],
             [
              0.7777777777777778,
              "#fb9f3a"
             ],
             [
              0.8888888888888888,
              "#fdca26"
             ],
             [
              1,
              "#f0f921"
             ]
            ],
            "type": "heatmapgl"
           }
          ],
          "histogram": [
           {
            "marker": {
             "colorbar": {
              "outlinewidth": 0,
              "ticks": ""
             }
            },
            "type": "histogram"
           }
          ],
          "histogram2d": [
           {
            "colorbar": {
             "outlinewidth": 0,
             "ticks": ""
            },
            "colorscale": [
             [
              0,
              "#0d0887"
             ],
             [
              0.1111111111111111,
              "#46039f"
             ],
             [
              0.2222222222222222,
              "#7201a8"
             ],
             [
              0.3333333333333333,
              "#9c179e"
             ],
             [
              0.4444444444444444,
              "#bd3786"
             ],
             [
              0.5555555555555556,
              "#d8576b"
             ],
             [
              0.6666666666666666,
              "#ed7953"
             ],
             [
              0.7777777777777778,
              "#fb9f3a"
             ],
             [
              0.8888888888888888,
              "#fdca26"
             ],
             [
              1,
              "#f0f921"
             ]
            ],
            "type": "histogram2d"
           }
          ],
          "histogram2dcontour": [
           {
            "colorbar": {
             "outlinewidth": 0,
             "ticks": ""
            },
            "colorscale": [
             [
              0,
              "#0d0887"
             ],
             [
              0.1111111111111111,
              "#46039f"
             ],
             [
              0.2222222222222222,
              "#7201a8"
             ],
             [
              0.3333333333333333,
              "#9c179e"
             ],
             [
              0.4444444444444444,
              "#bd3786"
             ],
             [
              0.5555555555555556,
              "#d8576b"
             ],
             [
              0.6666666666666666,
              "#ed7953"
             ],
             [
              0.7777777777777778,
              "#fb9f3a"
             ],
             [
              0.8888888888888888,
              "#fdca26"
             ],
             [
              1,
              "#f0f921"
             ]
            ],
            "type": "histogram2dcontour"
           }
          ],
          "mesh3d": [
           {
            "colorbar": {
             "outlinewidth": 0,
             "ticks": ""
            },
            "type": "mesh3d"
           }
          ],
          "parcoords": [
           {
            "line": {
             "colorbar": {
              "outlinewidth": 0,
              "ticks": ""
             }
            },
            "type": "parcoords"
           }
          ],
          "scatter": [
           {
            "marker": {
             "colorbar": {
              "outlinewidth": 0,
              "ticks": ""
             }
            },
            "type": "scatter"
           }
          ],
          "scatter3d": [
           {
            "line": {
             "colorbar": {
              "outlinewidth": 0,
              "ticks": ""
             }
            },
            "marker": {
             "colorbar": {
              "outlinewidth": 0,
              "ticks": ""
             }
            },
            "type": "scatter3d"
           }
          ],
          "scattercarpet": [
           {
            "marker": {
             "colorbar": {
              "outlinewidth": 0,
              "ticks": ""
             }
            },
            "type": "scattercarpet"
           }
          ],
          "scattergeo": [
           {
            "marker": {
             "colorbar": {
              "outlinewidth": 0,
              "ticks": ""
             }
            },
            "type": "scattergeo"
           }
          ],
          "scattergl": [
           {
            "marker": {
             "colorbar": {
              "outlinewidth": 0,
              "ticks": ""
             }
            },
            "type": "scattergl"
           }
          ],
          "scattermapbox": [
           {
            "marker": {
             "colorbar": {
              "outlinewidth": 0,
              "ticks": ""
             }
            },
            "type": "scattermapbox"
           }
          ],
          "scatterpolar": [
           {
            "marker": {
             "colorbar": {
              "outlinewidth": 0,
              "ticks": ""
             }
            },
            "type": "scatterpolar"
           }
          ],
          "scatterpolargl": [
           {
            "marker": {
             "colorbar": {
              "outlinewidth": 0,
              "ticks": ""
             }
            },
            "type": "scatterpolargl"
           }
          ],
          "scatterternary": [
           {
            "marker": {
             "colorbar": {
              "outlinewidth": 0,
              "ticks": ""
             }
            },
            "type": "scatterternary"
           }
          ],
          "surface": [
           {
            "colorbar": {
             "outlinewidth": 0,
             "ticks": ""
            },
            "colorscale": [
             [
              0,
              "#0d0887"
             ],
             [
              0.1111111111111111,
              "#46039f"
             ],
             [
              0.2222222222222222,
              "#7201a8"
             ],
             [
              0.3333333333333333,
              "#9c179e"
             ],
             [
              0.4444444444444444,
              "#bd3786"
             ],
             [
              0.5555555555555556,
              "#d8576b"
             ],
             [
              0.6666666666666666,
              "#ed7953"
             ],
             [
              0.7777777777777778,
              "#fb9f3a"
             ],
             [
              0.8888888888888888,
              "#fdca26"
             ],
             [
              1,
              "#f0f921"
             ]
            ],
            "type": "surface"
           }
          ],
          "table": [
           {
            "cells": {
             "fill": {
              "color": "#EBF0F8"
             },
             "line": {
              "color": "white"
             }
            },
            "header": {
             "fill": {
              "color": "#C8D4E3"
             },
             "line": {
              "color": "white"
             }
            },
            "type": "table"
           }
          ]
         },
         "layout": {
          "annotationdefaults": {
           "arrowcolor": "#2a3f5f",
           "arrowhead": 0,
           "arrowwidth": 1
          },
          "colorscale": {
           "diverging": [
            [
             0,
             "#8e0152"
            ],
            [
             0.1,
             "#c51b7d"
            ],
            [
             0.2,
             "#de77ae"
            ],
            [
             0.3,
             "#f1b6da"
            ],
            [
             0.4,
             "#fde0ef"
            ],
            [
             0.5,
             "#f7f7f7"
            ],
            [
             0.6,
             "#e6f5d0"
            ],
            [
             0.7,
             "#b8e186"
            ],
            [
             0.8,
             "#7fbc41"
            ],
            [
             0.9,
             "#4d9221"
            ],
            [
             1,
             "#276419"
            ]
           ],
           "sequential": [
            [
             0,
             "#0d0887"
            ],
            [
             0.1111111111111111,
             "#46039f"
            ],
            [
             0.2222222222222222,
             "#7201a8"
            ],
            [
             0.3333333333333333,
             "#9c179e"
            ],
            [
             0.4444444444444444,
             "#bd3786"
            ],
            [
             0.5555555555555556,
             "#d8576b"
            ],
            [
             0.6666666666666666,
             "#ed7953"
            ],
            [
             0.7777777777777778,
             "#fb9f3a"
            ],
            [
             0.8888888888888888,
             "#fdca26"
            ],
            [
             1,
             "#f0f921"
            ]
           ],
           "sequentialminus": [
            [
             0,
             "#0d0887"
            ],
            [
             0.1111111111111111,
             "#46039f"
            ],
            [
             0.2222222222222222,
             "#7201a8"
            ],
            [
             0.3333333333333333,
             "#9c179e"
            ],
            [
             0.4444444444444444,
             "#bd3786"
            ],
            [
             0.5555555555555556,
             "#d8576b"
            ],
            [
             0.6666666666666666,
             "#ed7953"
            ],
            [
             0.7777777777777778,
             "#fb9f3a"
            ],
            [
             0.8888888888888888,
             "#fdca26"
            ],
            [
             1,
             "#f0f921"
            ]
           ]
          },
          "colorway": [
           "#636efa",
           "#EF553B",
           "#00cc96",
           "#ab63fa",
           "#FFA15A",
           "#19d3f3",
           "#FF6692",
           "#B6E880",
           "#FF97FF",
           "#FECB52"
          ],
          "font": {
           "color": "#2a3f5f"
          },
          "geo": {
           "bgcolor": "white",
           "lakecolor": "white",
           "landcolor": "#E5ECF6",
           "showlakes": true,
           "showland": true,
           "subunitcolor": "white"
          },
          "hoverlabel": {
           "align": "left"
          },
          "hovermode": "closest",
          "mapbox": {
           "style": "light"
          },
          "paper_bgcolor": "white",
          "plot_bgcolor": "#E5ECF6",
          "polar": {
           "angularaxis": {
            "gridcolor": "white",
            "linecolor": "white",
            "ticks": ""
           },
           "bgcolor": "#E5ECF6",
           "radialaxis": {
            "gridcolor": "white",
            "linecolor": "white",
            "ticks": ""
           }
          },
          "scene": {
           "xaxis": {
            "backgroundcolor": "#E5ECF6",
            "gridcolor": "white",
            "gridwidth": 2,
            "linecolor": "white",
            "showbackground": true,
            "ticks": "",
            "zerolinecolor": "white"
           },
           "yaxis": {
            "backgroundcolor": "#E5ECF6",
            "gridcolor": "white",
            "gridwidth": 2,
            "linecolor": "white",
            "showbackground": true,
            "ticks": "",
            "zerolinecolor": "white"
           },
           "zaxis": {
            "backgroundcolor": "#E5ECF6",
            "gridcolor": "white",
            "gridwidth": 2,
            "linecolor": "white",
            "showbackground": true,
            "ticks": "",
            "zerolinecolor": "white"
           }
          },
          "shapedefaults": {
           "line": {
            "color": "#2a3f5f"
           }
          },
          "ternary": {
           "aaxis": {
            "gridcolor": "white",
            "linecolor": "white",
            "ticks": ""
           },
           "baxis": {
            "gridcolor": "white",
            "linecolor": "white",
            "ticks": ""
           },
           "bgcolor": "#E5ECF6",
           "caxis": {
            "gridcolor": "white",
            "linecolor": "white",
            "ticks": ""
           }
          },
          "title": {
           "x": 0.05
          },
          "xaxis": {
           "automargin": true,
           "gridcolor": "white",
           "linecolor": "white",
           "ticks": "",
           "zerolinecolor": "white",
           "zerolinewidth": 2
          },
          "yaxis": {
           "automargin": true,
           "gridcolor": "white",
           "linecolor": "white",
           "ticks": "",
           "zerolinecolor": "white",
           "zerolinewidth": 2
          }
         }
        },
        "title": {
         "text": "https://www.oodatime.com/collections/mens"
        }
       }
      },
      "text/html": [
       "<div>\n",
       "        \n",
       "        \n",
       "            <div id=\"1448814a-c2b3-4884-8865-c174dfa49191\" class=\"plotly-graph-div\" style=\"height:525px; width:100%;\"></div>\n",
       "            <script type=\"text/javascript\">\n",
       "                require([\"plotly\"], function(Plotly) {\n",
       "                    window.PLOTLYENV=window.PLOTLYENV || {};\n",
       "                    \n",
       "                if (document.getElementById(\"1448814a-c2b3-4884-8865-c174dfa49191\")) {\n",
       "                    Plotly.newPlot(\n",
       "                        '1448814a-c2b3-4884-8865-c174dfa49191',\n",
       "                        [{\"type\": \"histogram\", \"x\": [6.5920000076293945, 6.591000080108643, 6.328000068664551, 6.623000144958496, 6.8480000495910645, 6.434999942779541, 6.15500020980835, 6.880000114440918, 6.699999809265137, 6.788000106811523, 6.5960001945495605, 6.548999786376953, 6.931000232696533, 6.166999816894531, 32.33100128173828, 6.6479997634887695, 6.706999778747559, 6.679999828338623, 6.817999839782715, 6.439000129699707, 3.691999912261963, 6.611999988555908, 6.693999767303467, 6.609000205993652, 7.005000114440918, 6.244999885559082, 6.6570000648498535, 6.2729997634887695, 6.572999954223633, 6.544000148773193, 6.833000183105469, 6.4710001945495605, 6.61899995803833, 6.513000011444092, 6.627999782562256, 7.077000141143799, 6.76200008392334, 6.488999843597412, 6.35699987411499, 6.576000213623047, 6.548999786376953, 6.874000072479248, 6.186999797821045, 6.502999782562256, 6.2170000076293945, 11.428000450134277, 6.46999979019165, 25.683000564575195, 6.585999965667725, 7.066999912261963, 6.954999923706055, 7.117000102996826, 6.681000232696533, 6.681000232696533, 6.690000057220459, 6.374000072479248, 7.5329999923706055, 6.547999858856201, 6.618000030517578, 6.410999774932861, 6.413000106811523, 6.730000019073486, 6.51800012588501, 6.456999778747559, 6.980000019073486, 6.13700008392334, 6.452000141143799, 6.63100004196167, 6.436999797821045, 6.192999839782715, 6.425000190734863, 6.4629998207092285, 7.019999980926514, 6.517000198364258, 6.4629998207092285, 6.585999965667725, 6.521999835968018, 6.15500020980835, 6.440999984741211, 6.400000095367432, 6.21999979019165, 6.513999938964844, 6.421000003814697, 6.26800012588501, 7.169000148773193, 6.703000068664551, 6.760000228881836, 6.953000068664551, 6.315000057220459, 6.585000038146973, 6.88100004196167, 6.185999870300293, 6.208000183105469, 6.563000202178955, 6.379000186920166, 6.460999965667725, 6.7179999351501465, 6.9770002365112305, 6.671999931335449, 6.2729997634887695, 6.9039998054504395, 6.6620001792907715, 6.244999885559082, 6.807000160217285, 6.427999973297119, 6.453999996185303, 6.539000034332275, 7.168000221252441, 6.692999839782715, 6.951000213623047, 6.853000164031982, 6.261000156402588, 6.584000110626221, 6.158999919891357, 7.061999797821045, 6.895999908447266, 6.360000133514404, 6.456999778747559, 6.449999809265137, 6.578000068664551, 6.408999919891357, 6.4770002365112305, 7.196000099182129, 6.561999797821045, 6.660999774932861, 6.505000114440918, 6.4019999504089355, 6.611999988555908, 6.698999881744385, 6.543000221252441, 6.414999961853027, 26.2450008392334, 6.728000164031982, 6.495999813079834, 6.618000030517578, 6.558000087738037, 6.502999782562256, 2.062000036239624, 7.321000099182129, 6.150000095367432, 6.28000020980835, 6.888999938964844, 6.697000026702881, 6.5370001792907715, 6.427999973297119, 6.468999862670898, 6.577000141143799, 6.978000164031982, 6.189000129699707, 6.534999847412109, 6.4770002365112305, 6.7170000076293945, 6.7129998207092285, 6.573999881744385, 6.716000080108643, 6.750999927520752, 6.46999979019165, 6.203000068664551, 6.448999881744385, 6.2829999923706055, 6.428999900817871, 6.642000198364258, 6.374000072479248, 6.5279998779296875, 6.605000019073486, 6.834000110626221, 6.49399995803833, 6.39300012588501, 6.4120001792907715, 6.438000202178955, 6.6479997634887695, 6.4679999351501465, 6.763000011444092, 7.052999973297119, 6.581999778747559, 6.697999954223633, 6.704999923706055, 6.289000034332275, 6.5879998207092285, 6.5920000076293945, 6.51800012588501, 6.715000152587891, 6.5970001220703125, 6.515999794006348, 6.541999816894531, 6.140999794006348, 6.934999942779541, 6.297999858856201, 6.572000026702881, 6.616000175476074, 6.295000076293945, 6.373000144958496, 6.534999847412109, 6.574999809265137, 6.506999969482422, 6.216000080108643, 6.265999794006348, 6.605000019073486, 6.165999889373779, 6.698999881744385, 6.486999988555908, 6.333000183105469, 6.4770002365112305, 7.076000213623047, 6.567999839782715, 6.9720001220703125, 6.545000076293945, 6.822000026702881, 7.0929999351501465, 6.761000156402588, 6.2789998054504395, 6.760000228881836, 6.751999855041504, 6.570000171661377, 6.599999904632568, 7.020999908447266, 6.605999946594238, 6.513999938964844, 6.631999969482422, 7.077000141143799, 6.5980000495910645, 8.288999557495117, 6.223999977111816, 6.809000015258789, 6.730999946594238, 6.745999813079834, 6.921999931335449, 6.807000160217285, 7.0269999504089355, 6.236999988555908, 6.642000198364258, 6.243000030517578, 6.684000015258789, 6.59499979019165, 6.497000217437744, 6.625, 6.763000011444092, 6.59499979019165, 6.169000148773193, 6.24399995803833, 6.486000061035156, 6.543000221252441, 6.71999979019165, 6.4720001220703125, 7.059999942779541, 6.561999797821045, 6.604000091552734, 6.192999839782715, 6.886000156402588, 6.559999942779541, 6.638000011444092, 6.260000228881836, 6.671000003814697, 6.553999900817871, 6.804999828338623, 6.642000198364258, 6.868000030517578, 6.873000144958496, 6.704999923706055, 6.638000011444092, 7.10099983215332, 9.517000198364258, 6.617000102996826, 7.361000061035156, 6.539999961853027, 6.336999893188477, 6.875999927520752, 6.692999839782715, 6.834000110626221, 6.640999794006348, 6.998000144958496, 6.269999980926514, 6.507999897003174, 6.428999900817871, 6.544000148773193, 6.841000080108643, 6.998000144958496, 6.513000011444092, 7.0320000648498535, 6.539000034332275, 6.53000020980835]}],\n",
       "                        {\"template\": {\"data\": {\"bar\": [{\"error_x\": {\"color\": \"#2a3f5f\"}, \"error_y\": {\"color\": \"#2a3f5f\"}, \"marker\": {\"line\": {\"color\": \"#E5ECF6\", \"width\": 0.5}}, \"type\": \"bar\"}], \"barpolar\": [{\"marker\": {\"line\": {\"color\": \"#E5ECF6\", \"width\": 0.5}}, \"type\": \"barpolar\"}], \"carpet\": [{\"aaxis\": {\"endlinecolor\": \"#2a3f5f\", \"gridcolor\": \"white\", \"linecolor\": \"white\", \"minorgridcolor\": \"white\", \"startlinecolor\": \"#2a3f5f\"}, \"baxis\": {\"endlinecolor\": \"#2a3f5f\", \"gridcolor\": \"white\", \"linecolor\": \"white\", \"minorgridcolor\": \"white\", \"startlinecolor\": \"#2a3f5f\"}, \"type\": \"carpet\"}], \"choropleth\": [{\"colorbar\": {\"outlinewidth\": 0, \"ticks\": \"\"}, \"type\": \"choropleth\"}], \"contour\": [{\"colorbar\": {\"outlinewidth\": 0, \"ticks\": \"\"}, \"colorscale\": [[0.0, \"#0d0887\"], [0.1111111111111111, \"#46039f\"], [0.2222222222222222, \"#7201a8\"], [0.3333333333333333, \"#9c179e\"], [0.4444444444444444, \"#bd3786\"], [0.5555555555555556, \"#d8576b\"], [0.6666666666666666, \"#ed7953\"], [0.7777777777777778, \"#fb9f3a\"], [0.8888888888888888, \"#fdca26\"], [1.0, \"#f0f921\"]], \"type\": \"contour\"}], \"contourcarpet\": [{\"colorbar\": {\"outlinewidth\": 0, \"ticks\": \"\"}, \"type\": \"contourcarpet\"}], \"heatmap\": [{\"colorbar\": {\"outlinewidth\": 0, \"ticks\": \"\"}, \"colorscale\": [[0.0, \"#0d0887\"], [0.1111111111111111, \"#46039f\"], [0.2222222222222222, \"#7201a8\"], [0.3333333333333333, \"#9c179e\"], [0.4444444444444444, \"#bd3786\"], [0.5555555555555556, \"#d8576b\"], [0.6666666666666666, \"#ed7953\"], [0.7777777777777778, \"#fb9f3a\"], [0.8888888888888888, \"#fdca26\"], [1.0, \"#f0f921\"]], \"type\": \"heatmap\"}], \"heatmapgl\": [{\"colorbar\": {\"outlinewidth\": 0, \"ticks\": \"\"}, \"colorscale\": [[0.0, \"#0d0887\"], [0.1111111111111111, \"#46039f\"], [0.2222222222222222, \"#7201a8\"], [0.3333333333333333, \"#9c179e\"], [0.4444444444444444, \"#bd3786\"], [0.5555555555555556, \"#d8576b\"], [0.6666666666666666, \"#ed7953\"], [0.7777777777777778, \"#fb9f3a\"], [0.8888888888888888, \"#fdca26\"], [1.0, \"#f0f921\"]], \"type\": \"heatmapgl\"}], \"histogram\": [{\"marker\": {\"colorbar\": {\"outlinewidth\": 0, \"ticks\": \"\"}}, \"type\": \"histogram\"}], \"histogram2d\": [{\"colorbar\": {\"outlinewidth\": 0, \"ticks\": \"\"}, \"colorscale\": [[0.0, \"#0d0887\"], [0.1111111111111111, \"#46039f\"], [0.2222222222222222, \"#7201a8\"], [0.3333333333333333, \"#9c179e\"], [0.4444444444444444, \"#bd3786\"], [0.5555555555555556, \"#d8576b\"], [0.6666666666666666, \"#ed7953\"], [0.7777777777777778, \"#fb9f3a\"], [0.8888888888888888, \"#fdca26\"], [1.0, \"#f0f921\"]], \"type\": \"histogram2d\"}], \"histogram2dcontour\": [{\"colorbar\": {\"outlinewidth\": 0, \"ticks\": \"\"}, \"colorscale\": [[0.0, \"#0d0887\"], [0.1111111111111111, \"#46039f\"], [0.2222222222222222, \"#7201a8\"], [0.3333333333333333, \"#9c179e\"], [0.4444444444444444, \"#bd3786\"], [0.5555555555555556, \"#d8576b\"], [0.6666666666666666, \"#ed7953\"], [0.7777777777777778, \"#fb9f3a\"], [0.8888888888888888, \"#fdca26\"], [1.0, \"#f0f921\"]], \"type\": \"histogram2dcontour\"}], \"mesh3d\": [{\"colorbar\": {\"outlinewidth\": 0, \"ticks\": \"\"}, \"type\": \"mesh3d\"}], \"parcoords\": [{\"line\": {\"colorbar\": {\"outlinewidth\": 0, \"ticks\": \"\"}}, \"type\": \"parcoords\"}], \"scatter\": [{\"marker\": {\"colorbar\": {\"outlinewidth\": 0, \"ticks\": \"\"}}, \"type\": \"scatter\"}], \"scatter3d\": [{\"line\": {\"colorbar\": {\"outlinewidth\": 0, \"ticks\": \"\"}}, \"marker\": {\"colorbar\": {\"outlinewidth\": 0, \"ticks\": \"\"}}, \"type\": \"scatter3d\"}], \"scattercarpet\": [{\"marker\": {\"colorbar\": {\"outlinewidth\": 0, \"ticks\": \"\"}}, \"type\": \"scattercarpet\"}], \"scattergeo\": [{\"marker\": {\"colorbar\": {\"outlinewidth\": 0, \"ticks\": \"\"}}, \"type\": \"scattergeo\"}], \"scattergl\": [{\"marker\": {\"colorbar\": {\"outlinewidth\": 0, \"ticks\": \"\"}}, \"type\": \"scattergl\"}], \"scattermapbox\": [{\"marker\": {\"colorbar\": {\"outlinewidth\": 0, \"ticks\": \"\"}}, \"type\": \"scattermapbox\"}], \"scatterpolar\": [{\"marker\": {\"colorbar\": {\"outlinewidth\": 0, \"ticks\": \"\"}}, \"type\": \"scatterpolar\"}], \"scatterpolargl\": [{\"marker\": {\"colorbar\": {\"outlinewidth\": 0, \"ticks\": \"\"}}, \"type\": \"scatterpolargl\"}], \"scatterternary\": [{\"marker\": {\"colorbar\": {\"outlinewidth\": 0, \"ticks\": \"\"}}, \"type\": \"scatterternary\"}], \"surface\": [{\"colorbar\": {\"outlinewidth\": 0, \"ticks\": \"\"}, \"colorscale\": [[0.0, \"#0d0887\"], [0.1111111111111111, \"#46039f\"], [0.2222222222222222, \"#7201a8\"], [0.3333333333333333, \"#9c179e\"], [0.4444444444444444, \"#bd3786\"], [0.5555555555555556, \"#d8576b\"], [0.6666666666666666, \"#ed7953\"], [0.7777777777777778, \"#fb9f3a\"], [0.8888888888888888, \"#fdca26\"], [1.0, \"#f0f921\"]], \"type\": \"surface\"}], \"table\": [{\"cells\": {\"fill\": {\"color\": \"#EBF0F8\"}, \"line\": {\"color\": \"white\"}}, \"header\": {\"fill\": {\"color\": \"#C8D4E3\"}, \"line\": {\"color\": \"white\"}}, \"type\": \"table\"}]}, \"layout\": {\"annotationdefaults\": {\"arrowcolor\": \"#2a3f5f\", \"arrowhead\": 0, \"arrowwidth\": 1}, \"colorscale\": {\"diverging\": [[0, \"#8e0152\"], [0.1, \"#c51b7d\"], [0.2, \"#de77ae\"], [0.3, \"#f1b6da\"], [0.4, \"#fde0ef\"], [0.5, \"#f7f7f7\"], [0.6, \"#e6f5d0\"], [0.7, \"#b8e186\"], [0.8, \"#7fbc41\"], [0.9, \"#4d9221\"], [1, \"#276419\"]], \"sequential\": [[0.0, \"#0d0887\"], [0.1111111111111111, \"#46039f\"], [0.2222222222222222, \"#7201a8\"], [0.3333333333333333, \"#9c179e\"], [0.4444444444444444, \"#bd3786\"], [0.5555555555555556, \"#d8576b\"], [0.6666666666666666, \"#ed7953\"], [0.7777777777777778, \"#fb9f3a\"], [0.8888888888888888, \"#fdca26\"], [1.0, \"#f0f921\"]], \"sequentialminus\": [[0.0, \"#0d0887\"], [0.1111111111111111, \"#46039f\"], [0.2222222222222222, \"#7201a8\"], [0.3333333333333333, \"#9c179e\"], [0.4444444444444444, \"#bd3786\"], [0.5555555555555556, \"#d8576b\"], [0.6666666666666666, \"#ed7953\"], [0.7777777777777778, \"#fb9f3a\"], [0.8888888888888888, \"#fdca26\"], [1.0, \"#f0f921\"]]}, \"colorway\": [\"#636efa\", \"#EF553B\", \"#00cc96\", \"#ab63fa\", \"#FFA15A\", \"#19d3f3\", \"#FF6692\", \"#B6E880\", \"#FF97FF\", \"#FECB52\"], \"font\": {\"color\": \"#2a3f5f\"}, \"geo\": {\"bgcolor\": \"white\", \"lakecolor\": \"white\", \"landcolor\": \"#E5ECF6\", \"showlakes\": true, \"showland\": true, \"subunitcolor\": \"white\"}, \"hoverlabel\": {\"align\": \"left\"}, \"hovermode\": \"closest\", \"mapbox\": {\"style\": \"light\"}, \"paper_bgcolor\": \"white\", \"plot_bgcolor\": \"#E5ECF6\", \"polar\": {\"angularaxis\": {\"gridcolor\": \"white\", \"linecolor\": \"white\", \"ticks\": \"\"}, \"bgcolor\": \"#E5ECF6\", \"radialaxis\": {\"gridcolor\": \"white\", \"linecolor\": \"white\", \"ticks\": \"\"}}, \"scene\": {\"xaxis\": {\"backgroundcolor\": \"#E5ECF6\", \"gridcolor\": \"white\", \"gridwidth\": 2, \"linecolor\": \"white\", \"showbackground\": true, \"ticks\": \"\", \"zerolinecolor\": \"white\"}, \"yaxis\": {\"backgroundcolor\": \"#E5ECF6\", \"gridcolor\": \"white\", \"gridwidth\": 2, \"linecolor\": \"white\", \"showbackground\": true, \"ticks\": \"\", \"zerolinecolor\": \"white\"}, \"zaxis\": {\"backgroundcolor\": \"#E5ECF6\", \"gridcolor\": \"white\", \"gridwidth\": 2, \"linecolor\": \"white\", \"showbackground\": true, \"ticks\": \"\", \"zerolinecolor\": \"white\"}}, \"shapedefaults\": {\"line\": {\"color\": \"#2a3f5f\"}}, \"ternary\": {\"aaxis\": {\"gridcolor\": \"white\", \"linecolor\": \"white\", \"ticks\": \"\"}, \"baxis\": {\"gridcolor\": \"white\", \"linecolor\": \"white\", \"ticks\": \"\"}, \"bgcolor\": \"#E5ECF6\", \"caxis\": {\"gridcolor\": \"white\", \"linecolor\": \"white\", \"ticks\": \"\"}}, \"title\": {\"x\": 0.05}, \"xaxis\": {\"automargin\": true, \"gridcolor\": \"white\", \"linecolor\": \"white\", \"ticks\": \"\", \"zerolinecolor\": \"white\", \"zerolinewidth\": 2}, \"yaxis\": {\"automargin\": true, \"gridcolor\": \"white\", \"linecolor\": \"white\", \"ticks\": \"\", \"zerolinecolor\": \"white\", \"zerolinewidth\": 2}}}, \"title\": {\"text\": \"https://www.oodatime.com/collections/mens\"}},\n",
       "                        {\"responsive\": true}\n",
       "                    ).then(function(){\n",
       "                            \n",
       "var gd = document.getElementById('1448814a-c2b3-4884-8865-c174dfa49191');\n",
       "var x = new MutationObserver(function (mutations, observer) {{\n",
       "        var display = window.getComputedStyle(gd).display;\n",
       "        if (!display || display === 'none') {{\n",
       "            console.log([gd, 'removed!']);\n",
       "            Plotly.purge(gd);\n",
       "            observer.disconnect();\n",
       "        }}\n",
       "}});\n",
       "\n",
       "// Listen for the removal of the full notebook cells\n",
       "var notebookContainer = gd.closest('#notebook-container');\n",
       "if (notebookContainer) {{\n",
       "    x.observe(notebookContainer, {childList: true});\n",
       "}}\n",
       "\n",
       "// Listen for the clearing of the current output cell\n",
       "var outputEl = gd.closest('.output');\n",
       "if (outputEl) {{\n",
       "    x.observe(outputEl, {childList: true});\n",
       "}}\n",
       "\n",
       "                        })\n",
       "                };\n",
       "                });\n",
       "            </script>\n",
       "        </div>"
      ]
     },
     "metadata": {},
     "output_type": "display_data"
    }
   ],
   "source": [
    "analyze_timing.plot_timing_data(test_funnel, funtimes, 0)"
   ]
  },
  {
   "cell_type": "markdown",
   "metadata": {},
   "source": [
    "## Generate timing histogram for all steps of the funnel"
   ]
  },
  {
   "cell_type": "code",
   "execution_count": 12,
   "metadata": {
    "collapsed": true
   },
   "outputs": [
    {
     "data": {
      "application/vnd.plotly.v1+json": {
       "config": {
        "plotlyServerURL": "https://plot.ly"
       },
       "data": [
        {
         "name": "https://www.oodatime.com/collections/mens",
         "opacity": 0.5,
         "type": "histogram",
         "x": [
          6.5920000076293945,
          6.591000080108643,
          6.328000068664551,
          6.623000144958496,
          6.8480000495910645,
          6.434999942779541,
          6.15500020980835,
          6.880000114440918,
          6.699999809265137,
          6.788000106811523,
          6.5960001945495605,
          6.548999786376953,
          6.931000232696533,
          6.166999816894531,
          32.33100128173828,
          6.6479997634887695,
          6.706999778747559,
          6.679999828338623,
          6.817999839782715,
          6.439000129699707,
          3.691999912261963,
          6.611999988555908,
          6.693999767303467,
          6.609000205993652,
          7.005000114440918,
          6.244999885559082,
          6.6570000648498535,
          6.2729997634887695,
          6.572999954223633,
          6.544000148773193,
          6.833000183105469,
          6.4710001945495605,
          6.61899995803833,
          6.513000011444092,
          6.627999782562256,
          7.077000141143799,
          6.76200008392334,
          6.488999843597412,
          6.35699987411499,
          6.576000213623047,
          6.548999786376953,
          6.874000072479248,
          6.186999797821045,
          6.502999782562256,
          6.2170000076293945,
          11.428000450134277,
          6.46999979019165,
          25.683000564575195,
          6.585999965667725,
          7.066999912261963,
          6.954999923706055,
          7.117000102996826,
          6.681000232696533,
          6.681000232696533,
          6.690000057220459,
          6.374000072479248,
          7.5329999923706055,
          6.547999858856201,
          6.618000030517578,
          6.410999774932861,
          6.413000106811523,
          6.730000019073486,
          6.51800012588501,
          6.456999778747559,
          6.980000019073486,
          6.13700008392334,
          6.452000141143799,
          6.63100004196167,
          6.436999797821045,
          6.192999839782715,
          6.425000190734863,
          6.4629998207092285,
          7.019999980926514,
          6.517000198364258,
          6.4629998207092285,
          6.585999965667725,
          6.521999835968018,
          6.15500020980835,
          6.440999984741211,
          6.400000095367432,
          6.21999979019165,
          6.513999938964844,
          6.421000003814697,
          6.26800012588501,
          7.169000148773193,
          6.703000068664551,
          6.760000228881836,
          6.953000068664551,
          6.315000057220459,
          6.585000038146973,
          6.88100004196167,
          6.185999870300293,
          6.208000183105469,
          6.563000202178955,
          6.379000186920166,
          6.460999965667725,
          6.7179999351501465,
          6.9770002365112305,
          6.671999931335449,
          6.2729997634887695,
          6.9039998054504395,
          6.6620001792907715,
          6.244999885559082,
          6.807000160217285,
          6.427999973297119,
          6.453999996185303,
          6.539000034332275,
          7.168000221252441,
          6.692999839782715,
          6.951000213623047,
          6.853000164031982,
          6.261000156402588,
          6.584000110626221,
          6.158999919891357,
          7.061999797821045,
          6.895999908447266,
          6.360000133514404,
          6.456999778747559,
          6.449999809265137,
          6.578000068664551,
          6.408999919891357,
          6.4770002365112305,
          7.196000099182129,
          6.561999797821045,
          6.660999774932861,
          6.505000114440918,
          6.4019999504089355,
          6.611999988555908,
          6.698999881744385,
          6.543000221252441,
          6.414999961853027,
          26.2450008392334,
          6.728000164031982,
          6.495999813079834,
          6.618000030517578,
          6.558000087738037,
          6.502999782562256,
          2.062000036239624,
          7.321000099182129,
          6.150000095367432,
          6.28000020980835,
          6.888999938964844,
          6.697000026702881,
          6.5370001792907715,
          6.427999973297119,
          6.468999862670898,
          6.577000141143799,
          6.978000164031982,
          6.189000129699707,
          6.534999847412109,
          6.4770002365112305,
          6.7170000076293945,
          6.7129998207092285,
          6.573999881744385,
          6.716000080108643,
          6.750999927520752,
          6.46999979019165,
          6.203000068664551,
          6.448999881744385,
          6.2829999923706055,
          6.428999900817871,
          6.642000198364258,
          6.374000072479248,
          6.5279998779296875,
          6.605000019073486,
          6.834000110626221,
          6.49399995803833,
          6.39300012588501,
          6.4120001792907715,
          6.438000202178955,
          6.6479997634887695,
          6.4679999351501465,
          6.763000011444092,
          7.052999973297119,
          6.581999778747559,
          6.697999954223633,
          6.704999923706055,
          6.289000034332275,
          6.5879998207092285,
          6.5920000076293945,
          6.51800012588501,
          6.715000152587891,
          6.5970001220703125,
          6.515999794006348,
          6.541999816894531,
          6.140999794006348,
          6.934999942779541,
          6.297999858856201,
          6.572000026702881,
          6.616000175476074,
          6.295000076293945,
          6.373000144958496,
          6.534999847412109,
          6.574999809265137,
          6.506999969482422,
          6.216000080108643,
          6.265999794006348,
          6.605000019073486,
          6.165999889373779,
          6.698999881744385,
          6.486999988555908,
          6.333000183105469,
          6.4770002365112305,
          7.076000213623047,
          6.567999839782715,
          6.9720001220703125,
          6.545000076293945,
          6.822000026702881,
          7.0929999351501465,
          6.761000156402588,
          6.2789998054504395,
          6.760000228881836,
          6.751999855041504,
          6.570000171661377,
          6.599999904632568,
          7.020999908447266,
          6.605999946594238,
          6.513999938964844,
          6.631999969482422,
          7.077000141143799,
          6.5980000495910645,
          8.288999557495117,
          6.223999977111816,
          6.809000015258789,
          6.730999946594238,
          6.745999813079834,
          6.921999931335449,
          6.807000160217285,
          7.0269999504089355,
          6.236999988555908,
          6.642000198364258,
          6.243000030517578,
          6.684000015258789,
          6.59499979019165,
          6.497000217437744,
          6.625,
          6.763000011444092,
          6.59499979019165,
          6.169000148773193,
          6.24399995803833,
          6.486000061035156,
          6.543000221252441,
          6.71999979019165,
          6.4720001220703125,
          7.059999942779541,
          6.561999797821045,
          6.604000091552734,
          6.192999839782715,
          6.886000156402588,
          6.559999942779541,
          6.638000011444092,
          6.260000228881836,
          6.671000003814697,
          6.553999900817871,
          6.804999828338623,
          6.642000198364258,
          6.868000030517578,
          6.873000144958496,
          6.704999923706055,
          6.638000011444092,
          7.10099983215332,
          9.517000198364258,
          6.617000102996826,
          7.361000061035156,
          6.539999961853027,
          6.336999893188477,
          6.875999927520752,
          6.692999839782715,
          6.834000110626221,
          6.640999794006348,
          6.998000144958496,
          6.269999980926514,
          6.507999897003174,
          6.428999900817871,
          6.544000148773193,
          6.841000080108643,
          6.998000144958496,
          6.513000011444092,
          7.0320000648498535,
          6.539000034332275,
          6.53000020980835
         ]
        },
        {
         "name": "https://www.oodatime.com/collections/mens/products/blue-watch",
         "opacity": 0.5,
         "type": "histogram",
         "x": [
          8.494000434875488,
          9.024999618530273,
          8.23900032043457,
          8.529000282287598,
          8.284000396728516,
          9.006999969482422,
          8.213000297546387,
          8.67300033569336,
          8.319000244140625,
          8.482999801635742,
          8.569999694824219,
          8.088000297546387,
          8.312999725341797,
          8.177000045776367,
          96.76300048828125,
          8.6850004196167,
          8.494999885559082,
          8.456000328063965,
          8.425999641418457,
          8.468999862670898,
          24.981000900268555,
          8.560999870300293,
          8.40999984741211,
          8.640999794006348,
          8.692000389099121,
          8.434000015258789,
          9.057999610900879,
          8.394000053405762,
          8.411999702453613,
          8.409000396728516,
          8.190999984741211,
          8.555000305175781,
          8.694999694824219,
          8.574000358581543,
          8.83899974822998,
          8.550000190734863,
          8.62600040435791,
          8.555999755859375,
          8.696999549865723,
          8.571000099182129,
          8.446000099182129,
          8.192999839782715,
          8.145000457763672,
          8.423999786376953,
          8.279000282287598,
          8.713000297546387,
          8.420000076293945,
          11.928000450134277,
          8.491000175476074,
          8.642999649047852,
          8.390999794006348,
          10.366999626159668,
          8.744999885559082,
          8.583000183105469,
          8.47599983215332,
          8.244000434875488,
          10.411999702453613,
          8.678000450134277,
          8.46399974822998,
          8.42199993133545,
          8.192999839782715,
          8.57699966430664,
          8.649999618530273,
          8.234000205993652,
          8.57699966430664,
          8.194999694824219,
          8.503999710083008,
          8.541999816894531,
          8.145999908447266,
          8.184000015258789,
          8.682999610900879,
          8.880000114440918,
          8.835000038146973,
          8.54800033569336,
          8.376999855041504,
          8.559000015258789,
          8.704999923706055,
          8.227999687194824,
          8.406000137329102,
          8.279999732971191,
          8.20300006866455,
          8.3100004196167,
          8.303999900817871,
          8.555999755859375,
          8.435999870300293,
          8.626999855041504,
          8.666999816894531,
          8.456000328063965,
          8.45300006866455,
          8.428000450134277,
          8.390000343322754,
          8.246000289916992,
          8.107000350952148,
          8.821000099182129,
          8.440999984741211,
          8.342000007629395,
          8.425999641418457,
          8.87600040435791,
          8.46399974822998,
          8.642999649047852,
          8.593999862670898,
          8.508000373840332,
          8.291000366210938,
          8.623000144958496,
          8.234999656677246,
          8.47599983215332,
          8.232000350952148,
          8.684000015258789,
          8.343999862670898,
          8.522000312805176,
          8.682999610900879,
          8.222000122070312,
          8.807999610900879,
          8.194999694824219,
          8.536999702453613,
          8.312999725341797,
          13.142000198364258,
          8.425000190734863,
          8.927000045776367,
          8.35200023651123,
          8.64900016784668,
          8.505000114440918,
          8.425000190734863,
          8.381999969482422,
          8.75,
          8.460000038146973,
          8.428000450134277,
          8.765999794006348,
          8.739999771118164,
          8.149999618530273,
          8.477999687194824,
          17.389999389648438,
          8.32699966430664,
          13.506999969482422,
          8.33899974822998,
          8.581999778747559,
          8.243000030517578,
          7.269000053405762,
          8.487000465393066,
          8.20199966430664,
          8.144000053405762,
          8.994999885559082,
          8.64900016784668,
          8.607999801635742,
          8.668999671936035,
          8.454000473022461,
          8.694999694824219,
          8.402000427246094,
          8.244000434875488,
          8.428000450134277,
          8.543000221252441,
          8.461000442504883,
          8.420000076293945,
          8.701000213623047,
          8.265000343322754,
          8.432000160217285,
          8.628999710083008,
          8.704000473022461,
          8.685999870300293,
          8.411999702453613,
          8.333000183105469,
          8.619000434875488,
          8.178000450134277,
          8.506999969482422,
          8.381999969482422,
          8.395000457763672,
          8.427000045776367,
          8.258000373840332,
          8.213000297546387,
          8.399999618530273,
          8.366000175476074,
          8.241999626159668,
          8.420000076293945,
          8.473999977111816,
          8.331000328063965,
          8.468999862670898,
          8.717000007629395,
          8.538000106811523,
          8.567999839782715,
          8.480999946594238,
          8.711999893188477,
          8.52400016784668,
          8.84000015258789,
          8.413000106811523,
          8.430999755859375,
          8.309000015258789,
          8.484999656677246,
          8.220999717712402,
          8.447999954223633,
          8.765999794006348,
          8.237000465393066,
          8.432999610900879,
          8.866000175476074,
          8.5649995803833,
          8.541000366210938,
          8.211999893188477,
          8.329000473022461,
          8.508000373840332,
          8.272000312805176,
          8.644000053405762,
          8.628999710083008,
          8.869000434875488,
          8.331999778747559,
          13.15999984741211,
          8.309000015258789,
          8.1850004196167,
          8.425000190734863,
          8.369999885559082,
          8.916000366210938,
          8.45199966430664,
          8.414999961853027,
          8.531999588012695,
          8.633000373840332,
          8.579999923706055,
          8.51099967956543,
          8.604000091552734,
          8.434000015258789,
          8.868000030517578,
          8.60200023651123,
          8.642999649047852,
          8.557000160217285,
          8.598999977111816,
          8.392999649047852,
          8.39900016784668,
          9.37399959564209,
          8.562000274658203,
          8.833999633789062,
          8.342000007629395,
          8.54699993133545,
          8.277000427246094,
          8.62600040435791,
          8.28499984741211,
          8.390999794006348,
          8.416000366210938,
          8.579000473022461,
          8.784000396728516,
          8.520999908447266,
          8.699999809265137,
          8.49899959564209,
          8.260000228881836,
          8.390000343322754,
          8.517999649047852,
          8.49899959564209,
          8.381999969482422,
          8.581999778747559,
          8.53600025177002,
          8.5,
          8.24899959564209,
          8.522000312805176,
          8.329000473022461,
          8.36299991607666,
          8.164999961853027,
          8.51200008392334,
          8.782999992370605,
          8.416000366210938,
          8.668000221252441,
          8.34000015258789,
          8.88700008392334,
          8.36400032043457,
          8.800000190734863,
          9.0649995803833,
          8.562999725341797,
          8.583000183105469,
          10.534000396728516,
          8.406999588012695,
          8.329999923706055,
          8.470000267028809,
          8.439000129699707,
          8.59000015258789,
          8.281000137329102,
          8.772000312805176,
          8.293000221252441,
          8.526000022888184,
          8.59000015258789,
          8.321000099182129,
          8.303999900817871,
          8.300999641418457,
          9.253999710083008,
          8.345999717712402,
          9.1899995803833,
          8.366000175476074
         ]
        }
       ],
       "layout": {
        "barmode": "overlay",
        "template": {
         "data": {
          "bar": [
           {
            "error_x": {
             "color": "#2a3f5f"
            },
            "error_y": {
             "color": "#2a3f5f"
            },
            "marker": {
             "line": {
              "color": "#E5ECF6",
              "width": 0.5
             }
            },
            "type": "bar"
           }
          ],
          "barpolar": [
           {
            "marker": {
             "line": {
              "color": "#E5ECF6",
              "width": 0.5
             }
            },
            "type": "barpolar"
           }
          ],
          "carpet": [
           {
            "aaxis": {
             "endlinecolor": "#2a3f5f",
             "gridcolor": "white",
             "linecolor": "white",
             "minorgridcolor": "white",
             "startlinecolor": "#2a3f5f"
            },
            "baxis": {
             "endlinecolor": "#2a3f5f",
             "gridcolor": "white",
             "linecolor": "white",
             "minorgridcolor": "white",
             "startlinecolor": "#2a3f5f"
            },
            "type": "carpet"
           }
          ],
          "choropleth": [
           {
            "colorbar": {
             "outlinewidth": 0,
             "ticks": ""
            },
            "type": "choropleth"
           }
          ],
          "contour": [
           {
            "colorbar": {
             "outlinewidth": 0,
             "ticks": ""
            },
            "colorscale": [
             [
              0,
              "#0d0887"
             ],
             [
              0.1111111111111111,
              "#46039f"
             ],
             [
              0.2222222222222222,
              "#7201a8"
             ],
             [
              0.3333333333333333,
              "#9c179e"
             ],
             [
              0.4444444444444444,
              "#bd3786"
             ],
             [
              0.5555555555555556,
              "#d8576b"
             ],
             [
              0.6666666666666666,
              "#ed7953"
             ],
             [
              0.7777777777777778,
              "#fb9f3a"
             ],
             [
              0.8888888888888888,
              "#fdca26"
             ],
             [
              1,
              "#f0f921"
             ]
            ],
            "type": "contour"
           }
          ],
          "contourcarpet": [
           {
            "colorbar": {
             "outlinewidth": 0,
             "ticks": ""
            },
            "type": "contourcarpet"
           }
          ],
          "heatmap": [
           {
            "colorbar": {
             "outlinewidth": 0,
             "ticks": ""
            },
            "colorscale": [
             [
              0,
              "#0d0887"
             ],
             [
              0.1111111111111111,
              "#46039f"
             ],
             [
              0.2222222222222222,
              "#7201a8"
             ],
             [
              0.3333333333333333,
              "#9c179e"
             ],
             [
              0.4444444444444444,
              "#bd3786"
             ],
             [
              0.5555555555555556,
              "#d8576b"
             ],
             [
              0.6666666666666666,
              "#ed7953"
             ],
             [
              0.7777777777777778,
              "#fb9f3a"
             ],
             [
              0.8888888888888888,
              "#fdca26"
             ],
             [
              1,
              "#f0f921"
             ]
            ],
            "type": "heatmap"
           }
          ],
          "heatmapgl": [
           {
            "colorbar": {
             "outlinewidth": 0,
             "ticks": ""
            },
            "colorscale": [
             [
              0,
              "#0d0887"
             ],
             [
              0.1111111111111111,
              "#46039f"
             ],
             [
              0.2222222222222222,
              "#7201a8"
             ],
             [
              0.3333333333333333,
              "#9c179e"
             ],
             [
              0.4444444444444444,
              "#bd3786"
             ],
             [
              0.5555555555555556,
              "#d8576b"
             ],
             [
              0.6666666666666666,
              "#ed7953"
             ],
             [
              0.7777777777777778,
              "#fb9f3a"
             ],
             [
              0.8888888888888888,
              "#fdca26"
             ],
             [
              1,
              "#f0f921"
             ]
            ],
            "type": "heatmapgl"
           }
          ],
          "histogram": [
           {
            "marker": {
             "colorbar": {
              "outlinewidth": 0,
              "ticks": ""
             }
            },
            "type": "histogram"
           }
          ],
          "histogram2d": [
           {
            "colorbar": {
             "outlinewidth": 0,
             "ticks": ""
            },
            "colorscale": [
             [
              0,
              "#0d0887"
             ],
             [
              0.1111111111111111,
              "#46039f"
             ],
             [
              0.2222222222222222,
              "#7201a8"
             ],
             [
              0.3333333333333333,
              "#9c179e"
             ],
             [
              0.4444444444444444,
              "#bd3786"
             ],
             [
              0.5555555555555556,
              "#d8576b"
             ],
             [
              0.6666666666666666,
              "#ed7953"
             ],
             [
              0.7777777777777778,
              "#fb9f3a"
             ],
             [
              0.8888888888888888,
              "#fdca26"
             ],
             [
              1,
              "#f0f921"
             ]
            ],
            "type": "histogram2d"
           }
          ],
          "histogram2dcontour": [
           {
            "colorbar": {
             "outlinewidth": 0,
             "ticks": ""
            },
            "colorscale": [
             [
              0,
              "#0d0887"
             ],
             [
              0.1111111111111111,
              "#46039f"
             ],
             [
              0.2222222222222222,
              "#7201a8"
             ],
             [
              0.3333333333333333,
              "#9c179e"
             ],
             [
              0.4444444444444444,
              "#bd3786"
             ],
             [
              0.5555555555555556,
              "#d8576b"
             ],
             [
              0.6666666666666666,
              "#ed7953"
             ],
             [
              0.7777777777777778,
              "#fb9f3a"
             ],
             [
              0.8888888888888888,
              "#fdca26"
             ],
             [
              1,
              "#f0f921"
             ]
            ],
            "type": "histogram2dcontour"
           }
          ],
          "mesh3d": [
           {
            "colorbar": {
             "outlinewidth": 0,
             "ticks": ""
            },
            "type": "mesh3d"
           }
          ],
          "parcoords": [
           {
            "line": {
             "colorbar": {
              "outlinewidth": 0,
              "ticks": ""
             }
            },
            "type": "parcoords"
           }
          ],
          "scatter": [
           {
            "marker": {
             "colorbar": {
              "outlinewidth": 0,
              "ticks": ""
             }
            },
            "type": "scatter"
           }
          ],
          "scatter3d": [
           {
            "line": {
             "colorbar": {
              "outlinewidth": 0,
              "ticks": ""
             }
            },
            "marker": {
             "colorbar": {
              "outlinewidth": 0,
              "ticks": ""
             }
            },
            "type": "scatter3d"
           }
          ],
          "scattercarpet": [
           {
            "marker": {
             "colorbar": {
              "outlinewidth": 0,
              "ticks": ""
             }
            },
            "type": "scattercarpet"
           }
          ],
          "scattergeo": [
           {
            "marker": {
             "colorbar": {
              "outlinewidth": 0,
              "ticks": ""
             }
            },
            "type": "scattergeo"
           }
          ],
          "scattergl": [
           {
            "marker": {
             "colorbar": {
              "outlinewidth": 0,
              "ticks": ""
             }
            },
            "type": "scattergl"
           }
          ],
          "scattermapbox": [
           {
            "marker": {
             "colorbar": {
              "outlinewidth": 0,
              "ticks": ""
             }
            },
            "type": "scattermapbox"
           }
          ],
          "scatterpolar": [
           {
            "marker": {
             "colorbar": {
              "outlinewidth": 0,
              "ticks": ""
             }
            },
            "type": "scatterpolar"
           }
          ],
          "scatterpolargl": [
           {
            "marker": {
             "colorbar": {
              "outlinewidth": 0,
              "ticks": ""
             }
            },
            "type": "scatterpolargl"
           }
          ],
          "scatterternary": [
           {
            "marker": {
             "colorbar": {
              "outlinewidth": 0,
              "ticks": ""
             }
            },
            "type": "scatterternary"
           }
          ],
          "surface": [
           {
            "colorbar": {
             "outlinewidth": 0,
             "ticks": ""
            },
            "colorscale": [
             [
              0,
              "#0d0887"
             ],
             [
              0.1111111111111111,
              "#46039f"
             ],
             [
              0.2222222222222222,
              "#7201a8"
             ],
             [
              0.3333333333333333,
              "#9c179e"
             ],
             [
              0.4444444444444444,
              "#bd3786"
             ],
             [
              0.5555555555555556,
              "#d8576b"
             ],
             [
              0.6666666666666666,
              "#ed7953"
             ],
             [
              0.7777777777777778,
              "#fb9f3a"
             ],
             [
              0.8888888888888888,
              "#fdca26"
             ],
             [
              1,
              "#f0f921"
             ]
            ],
            "type": "surface"
           }
          ],
          "table": [
           {
            "cells": {
             "fill": {
              "color": "#EBF0F8"
             },
             "line": {
              "color": "white"
             }
            },
            "header": {
             "fill": {
              "color": "#C8D4E3"
             },
             "line": {
              "color": "white"
             }
            },
            "type": "table"
           }
          ]
         },
         "layout": {
          "annotationdefaults": {
           "arrowcolor": "#2a3f5f",
           "arrowhead": 0,
           "arrowwidth": 1
          },
          "colorscale": {
           "diverging": [
            [
             0,
             "#8e0152"
            ],
            [
             0.1,
             "#c51b7d"
            ],
            [
             0.2,
             "#de77ae"
            ],
            [
             0.3,
             "#f1b6da"
            ],
            [
             0.4,
             "#fde0ef"
            ],
            [
             0.5,
             "#f7f7f7"
            ],
            [
             0.6,
             "#e6f5d0"
            ],
            [
             0.7,
             "#b8e186"
            ],
            [
             0.8,
             "#7fbc41"
            ],
            [
             0.9,
             "#4d9221"
            ],
            [
             1,
             "#276419"
            ]
           ],
           "sequential": [
            [
             0,
             "#0d0887"
            ],
            [
             0.1111111111111111,
             "#46039f"
            ],
            [
             0.2222222222222222,
             "#7201a8"
            ],
            [
             0.3333333333333333,
             "#9c179e"
            ],
            [
             0.4444444444444444,
             "#bd3786"
            ],
            [
             0.5555555555555556,
             "#d8576b"
            ],
            [
             0.6666666666666666,
             "#ed7953"
            ],
            [
             0.7777777777777778,
             "#fb9f3a"
            ],
            [
             0.8888888888888888,
             "#fdca26"
            ],
            [
             1,
             "#f0f921"
            ]
           ],
           "sequentialminus": [
            [
             0,
             "#0d0887"
            ],
            [
             0.1111111111111111,
             "#46039f"
            ],
            [
             0.2222222222222222,
             "#7201a8"
            ],
            [
             0.3333333333333333,
             "#9c179e"
            ],
            [
             0.4444444444444444,
             "#bd3786"
            ],
            [
             0.5555555555555556,
             "#d8576b"
            ],
            [
             0.6666666666666666,
             "#ed7953"
            ],
            [
             0.7777777777777778,
             "#fb9f3a"
            ],
            [
             0.8888888888888888,
             "#fdca26"
            ],
            [
             1,
             "#f0f921"
            ]
           ]
          },
          "colorway": [
           "#636efa",
           "#EF553B",
           "#00cc96",
           "#ab63fa",
           "#FFA15A",
           "#19d3f3",
           "#FF6692",
           "#B6E880",
           "#FF97FF",
           "#FECB52"
          ],
          "font": {
           "color": "#2a3f5f"
          },
          "geo": {
           "bgcolor": "white",
           "lakecolor": "white",
           "landcolor": "#E5ECF6",
           "showlakes": true,
           "showland": true,
           "subunitcolor": "white"
          },
          "hoverlabel": {
           "align": "left"
          },
          "hovermode": "closest",
          "mapbox": {
           "style": "light"
          },
          "paper_bgcolor": "white",
          "plot_bgcolor": "#E5ECF6",
          "polar": {
           "angularaxis": {
            "gridcolor": "white",
            "linecolor": "white",
            "ticks": ""
           },
           "bgcolor": "#E5ECF6",
           "radialaxis": {
            "gridcolor": "white",
            "linecolor": "white",
            "ticks": ""
           }
          },
          "scene": {
           "xaxis": {
            "backgroundcolor": "#E5ECF6",
            "gridcolor": "white",
            "gridwidth": 2,
            "linecolor": "white",
            "showbackground": true,
            "ticks": "",
            "zerolinecolor": "white"
           },
           "yaxis": {
            "backgroundcolor": "#E5ECF6",
            "gridcolor": "white",
            "gridwidth": 2,
            "linecolor": "white",
            "showbackground": true,
            "ticks": "",
            "zerolinecolor": "white"
           },
           "zaxis": {
            "backgroundcolor": "#E5ECF6",
            "gridcolor": "white",
            "gridwidth": 2,
            "linecolor": "white",
            "showbackground": true,
            "ticks": "",
            "zerolinecolor": "white"
           }
          },
          "shapedefaults": {
           "line": {
            "color": "#2a3f5f"
           }
          },
          "ternary": {
           "aaxis": {
            "gridcolor": "white",
            "linecolor": "white",
            "ticks": ""
           },
           "baxis": {
            "gridcolor": "white",
            "linecolor": "white",
            "ticks": ""
           },
           "bgcolor": "#E5ECF6",
           "caxis": {
            "gridcolor": "white",
            "linecolor": "white",
            "ticks": ""
           }
          },
          "title": {
           "x": 0.05
          },
          "xaxis": {
           "automargin": true,
           "gridcolor": "white",
           "linecolor": "white",
           "ticks": "",
           "zerolinecolor": "white",
           "zerolinewidth": 2
          },
          "yaxis": {
           "automargin": true,
           "gridcolor": "white",
           "linecolor": "white",
           "ticks": "",
           "zerolinecolor": "white",
           "zerolinewidth": 2
          }
         }
        }
       }
      },
      "text/html": [
       "<div>\n",
       "        \n",
       "        \n",
       "            <div id=\"ed6231a1-7e02-49d9-b840-a493a20c2125\" class=\"plotly-graph-div\" style=\"height:525px; width:100%;\"></div>\n",
       "            <script type=\"text/javascript\">\n",
       "                require([\"plotly\"], function(Plotly) {\n",
       "                    window.PLOTLYENV=window.PLOTLYENV || {};\n",
       "                    \n",
       "                if (document.getElementById(\"ed6231a1-7e02-49d9-b840-a493a20c2125\")) {\n",
       "                    Plotly.newPlot(\n",
       "                        'ed6231a1-7e02-49d9-b840-a493a20c2125',\n",
       "                        [{\"name\": \"https://www.oodatime.com/collections/mens\", \"opacity\": 0.5, \"type\": \"histogram\", \"x\": [6.5920000076293945, 6.591000080108643, 6.328000068664551, 6.623000144958496, 6.8480000495910645, 6.434999942779541, 6.15500020980835, 6.880000114440918, 6.699999809265137, 6.788000106811523, 6.5960001945495605, 6.548999786376953, 6.931000232696533, 6.166999816894531, 32.33100128173828, 6.6479997634887695, 6.706999778747559, 6.679999828338623, 6.817999839782715, 6.439000129699707, 3.691999912261963, 6.611999988555908, 6.693999767303467, 6.609000205993652, 7.005000114440918, 6.244999885559082, 6.6570000648498535, 6.2729997634887695, 6.572999954223633, 6.544000148773193, 6.833000183105469, 6.4710001945495605, 6.61899995803833, 6.513000011444092, 6.627999782562256, 7.077000141143799, 6.76200008392334, 6.488999843597412, 6.35699987411499, 6.576000213623047, 6.548999786376953, 6.874000072479248, 6.186999797821045, 6.502999782562256, 6.2170000076293945, 11.428000450134277, 6.46999979019165, 25.683000564575195, 6.585999965667725, 7.066999912261963, 6.954999923706055, 7.117000102996826, 6.681000232696533, 6.681000232696533, 6.690000057220459, 6.374000072479248, 7.5329999923706055, 6.547999858856201, 6.618000030517578, 6.410999774932861, 6.413000106811523, 6.730000019073486, 6.51800012588501, 6.456999778747559, 6.980000019073486, 6.13700008392334, 6.452000141143799, 6.63100004196167, 6.436999797821045, 6.192999839782715, 6.425000190734863, 6.4629998207092285, 7.019999980926514, 6.517000198364258, 6.4629998207092285, 6.585999965667725, 6.521999835968018, 6.15500020980835, 6.440999984741211, 6.400000095367432, 6.21999979019165, 6.513999938964844, 6.421000003814697, 6.26800012588501, 7.169000148773193, 6.703000068664551, 6.760000228881836, 6.953000068664551, 6.315000057220459, 6.585000038146973, 6.88100004196167, 6.185999870300293, 6.208000183105469, 6.563000202178955, 6.379000186920166, 6.460999965667725, 6.7179999351501465, 6.9770002365112305, 6.671999931335449, 6.2729997634887695, 6.9039998054504395, 6.6620001792907715, 6.244999885559082, 6.807000160217285, 6.427999973297119, 6.453999996185303, 6.539000034332275, 7.168000221252441, 6.692999839782715, 6.951000213623047, 6.853000164031982, 6.261000156402588, 6.584000110626221, 6.158999919891357, 7.061999797821045, 6.895999908447266, 6.360000133514404, 6.456999778747559, 6.449999809265137, 6.578000068664551, 6.408999919891357, 6.4770002365112305, 7.196000099182129, 6.561999797821045, 6.660999774932861, 6.505000114440918, 6.4019999504089355, 6.611999988555908, 6.698999881744385, 6.543000221252441, 6.414999961853027, 26.2450008392334, 6.728000164031982, 6.495999813079834, 6.618000030517578, 6.558000087738037, 6.502999782562256, 2.062000036239624, 7.321000099182129, 6.150000095367432, 6.28000020980835, 6.888999938964844, 6.697000026702881, 6.5370001792907715, 6.427999973297119, 6.468999862670898, 6.577000141143799, 6.978000164031982, 6.189000129699707, 6.534999847412109, 6.4770002365112305, 6.7170000076293945, 6.7129998207092285, 6.573999881744385, 6.716000080108643, 6.750999927520752, 6.46999979019165, 6.203000068664551, 6.448999881744385, 6.2829999923706055, 6.428999900817871, 6.642000198364258, 6.374000072479248, 6.5279998779296875, 6.605000019073486, 6.834000110626221, 6.49399995803833, 6.39300012588501, 6.4120001792907715, 6.438000202178955, 6.6479997634887695, 6.4679999351501465, 6.763000011444092, 7.052999973297119, 6.581999778747559, 6.697999954223633, 6.704999923706055, 6.289000034332275, 6.5879998207092285, 6.5920000076293945, 6.51800012588501, 6.715000152587891, 6.5970001220703125, 6.515999794006348, 6.541999816894531, 6.140999794006348, 6.934999942779541, 6.297999858856201, 6.572000026702881, 6.616000175476074, 6.295000076293945, 6.373000144958496, 6.534999847412109, 6.574999809265137, 6.506999969482422, 6.216000080108643, 6.265999794006348, 6.605000019073486, 6.165999889373779, 6.698999881744385, 6.486999988555908, 6.333000183105469, 6.4770002365112305, 7.076000213623047, 6.567999839782715, 6.9720001220703125, 6.545000076293945, 6.822000026702881, 7.0929999351501465, 6.761000156402588, 6.2789998054504395, 6.760000228881836, 6.751999855041504, 6.570000171661377, 6.599999904632568, 7.020999908447266, 6.605999946594238, 6.513999938964844, 6.631999969482422, 7.077000141143799, 6.5980000495910645, 8.288999557495117, 6.223999977111816, 6.809000015258789, 6.730999946594238, 6.745999813079834, 6.921999931335449, 6.807000160217285, 7.0269999504089355, 6.236999988555908, 6.642000198364258, 6.243000030517578, 6.684000015258789, 6.59499979019165, 6.497000217437744, 6.625, 6.763000011444092, 6.59499979019165, 6.169000148773193, 6.24399995803833, 6.486000061035156, 6.543000221252441, 6.71999979019165, 6.4720001220703125, 7.059999942779541, 6.561999797821045, 6.604000091552734, 6.192999839782715, 6.886000156402588, 6.559999942779541, 6.638000011444092, 6.260000228881836, 6.671000003814697, 6.553999900817871, 6.804999828338623, 6.642000198364258, 6.868000030517578, 6.873000144958496, 6.704999923706055, 6.638000011444092, 7.10099983215332, 9.517000198364258, 6.617000102996826, 7.361000061035156, 6.539999961853027, 6.336999893188477, 6.875999927520752, 6.692999839782715, 6.834000110626221, 6.640999794006348, 6.998000144958496, 6.269999980926514, 6.507999897003174, 6.428999900817871, 6.544000148773193, 6.841000080108643, 6.998000144958496, 6.513000011444092, 7.0320000648498535, 6.539000034332275, 6.53000020980835]}, {\"name\": \"https://www.oodatime.com/collections/mens/products/blue-watch\", \"opacity\": 0.5, \"type\": \"histogram\", \"x\": [8.494000434875488, 9.024999618530273, 8.23900032043457, 8.529000282287598, 8.284000396728516, 9.006999969482422, 8.213000297546387, 8.67300033569336, 8.319000244140625, 8.482999801635742, 8.569999694824219, 8.088000297546387, 8.312999725341797, 8.177000045776367, 96.76300048828125, 8.6850004196167, 8.494999885559082, 8.456000328063965, 8.425999641418457, 8.468999862670898, 24.981000900268555, 8.560999870300293, 8.40999984741211, 8.640999794006348, 8.692000389099121, 8.434000015258789, 9.057999610900879, 8.394000053405762, 8.411999702453613, 8.409000396728516, 8.190999984741211, 8.555000305175781, 8.694999694824219, 8.574000358581543, 8.83899974822998, 8.550000190734863, 8.62600040435791, 8.555999755859375, 8.696999549865723, 8.571000099182129, 8.446000099182129, 8.192999839782715, 8.145000457763672, 8.423999786376953, 8.279000282287598, 8.713000297546387, 8.420000076293945, 11.928000450134277, 8.491000175476074, 8.642999649047852, 8.390999794006348, 10.366999626159668, 8.744999885559082, 8.583000183105469, 8.47599983215332, 8.244000434875488, 10.411999702453613, 8.678000450134277, 8.46399974822998, 8.42199993133545, 8.192999839782715, 8.57699966430664, 8.649999618530273, 8.234000205993652, 8.57699966430664, 8.194999694824219, 8.503999710083008, 8.541999816894531, 8.145999908447266, 8.184000015258789, 8.682999610900879, 8.880000114440918, 8.835000038146973, 8.54800033569336, 8.376999855041504, 8.559000015258789, 8.704999923706055, 8.227999687194824, 8.406000137329102, 8.279999732971191, 8.20300006866455, 8.3100004196167, 8.303999900817871, 8.555999755859375, 8.435999870300293, 8.626999855041504, 8.666999816894531, 8.456000328063965, 8.45300006866455, 8.428000450134277, 8.390000343322754, 8.246000289916992, 8.107000350952148, 8.821000099182129, 8.440999984741211, 8.342000007629395, 8.425999641418457, 8.87600040435791, 8.46399974822998, 8.642999649047852, 8.593999862670898, 8.508000373840332, 8.291000366210938, 8.623000144958496, 8.234999656677246, 8.47599983215332, 8.232000350952148, 8.684000015258789, 8.343999862670898, 8.522000312805176, 8.682999610900879, 8.222000122070312, 8.807999610900879, 8.194999694824219, 8.536999702453613, 8.312999725341797, 13.142000198364258, 8.425000190734863, 8.927000045776367, 8.35200023651123, 8.64900016784668, 8.505000114440918, 8.425000190734863, 8.381999969482422, 8.75, 8.460000038146973, 8.428000450134277, 8.765999794006348, 8.739999771118164, 8.149999618530273, 8.477999687194824, 17.389999389648438, 8.32699966430664, 13.506999969482422, 8.33899974822998, 8.581999778747559, 8.243000030517578, 7.269000053405762, 8.487000465393066, 8.20199966430664, 8.144000053405762, 8.994999885559082, 8.64900016784668, 8.607999801635742, 8.668999671936035, 8.454000473022461, 8.694999694824219, 8.402000427246094, 8.244000434875488, 8.428000450134277, 8.543000221252441, 8.461000442504883, 8.420000076293945, 8.701000213623047, 8.265000343322754, 8.432000160217285, 8.628999710083008, 8.704000473022461, 8.685999870300293, 8.411999702453613, 8.333000183105469, 8.619000434875488, 8.178000450134277, 8.506999969482422, 8.381999969482422, 8.395000457763672, 8.427000045776367, 8.258000373840332, 8.213000297546387, 8.399999618530273, 8.366000175476074, 8.241999626159668, 8.420000076293945, 8.473999977111816, 8.331000328063965, 8.468999862670898, 8.717000007629395, 8.538000106811523, 8.567999839782715, 8.480999946594238, 8.711999893188477, 8.52400016784668, 8.84000015258789, 8.413000106811523, 8.430999755859375, 8.309000015258789, 8.484999656677246, 8.220999717712402, 8.447999954223633, 8.765999794006348, 8.237000465393066, 8.432999610900879, 8.866000175476074, 8.5649995803833, 8.541000366210938, 8.211999893188477, 8.329000473022461, 8.508000373840332, 8.272000312805176, 8.644000053405762, 8.628999710083008, 8.869000434875488, 8.331999778747559, 13.15999984741211, 8.309000015258789, 8.1850004196167, 8.425000190734863, 8.369999885559082, 8.916000366210938, 8.45199966430664, 8.414999961853027, 8.531999588012695, 8.633000373840332, 8.579999923706055, 8.51099967956543, 8.604000091552734, 8.434000015258789, 8.868000030517578, 8.60200023651123, 8.642999649047852, 8.557000160217285, 8.598999977111816, 8.392999649047852, 8.39900016784668, 9.37399959564209, 8.562000274658203, 8.833999633789062, 8.342000007629395, 8.54699993133545, 8.277000427246094, 8.62600040435791, 8.28499984741211, 8.390999794006348, 8.416000366210938, 8.579000473022461, 8.784000396728516, 8.520999908447266, 8.699999809265137, 8.49899959564209, 8.260000228881836, 8.390000343322754, 8.517999649047852, 8.49899959564209, 8.381999969482422, 8.581999778747559, 8.53600025177002, 8.5, 8.24899959564209, 8.522000312805176, 8.329000473022461, 8.36299991607666, 8.164999961853027, 8.51200008392334, 8.782999992370605, 8.416000366210938, 8.668000221252441, 8.34000015258789, 8.88700008392334, 8.36400032043457, 8.800000190734863, 9.0649995803833, 8.562999725341797, 8.583000183105469, 10.534000396728516, 8.406999588012695, 8.329999923706055, 8.470000267028809, 8.439000129699707, 8.59000015258789, 8.281000137329102, 8.772000312805176, 8.293000221252441, 8.526000022888184, 8.59000015258789, 8.321000099182129, 8.303999900817871, 8.300999641418457, 9.253999710083008, 8.345999717712402, 9.1899995803833, 8.366000175476074]}],\n",
       "                        {\"barmode\": \"overlay\", \"template\": {\"data\": {\"bar\": [{\"error_x\": {\"color\": \"#2a3f5f\"}, \"error_y\": {\"color\": \"#2a3f5f\"}, \"marker\": {\"line\": {\"color\": \"#E5ECF6\", \"width\": 0.5}}, \"type\": \"bar\"}], \"barpolar\": [{\"marker\": {\"line\": {\"color\": \"#E5ECF6\", \"width\": 0.5}}, \"type\": \"barpolar\"}], \"carpet\": [{\"aaxis\": {\"endlinecolor\": \"#2a3f5f\", \"gridcolor\": \"white\", \"linecolor\": \"white\", \"minorgridcolor\": \"white\", \"startlinecolor\": \"#2a3f5f\"}, \"baxis\": {\"endlinecolor\": \"#2a3f5f\", \"gridcolor\": \"white\", \"linecolor\": \"white\", \"minorgridcolor\": \"white\", \"startlinecolor\": \"#2a3f5f\"}, \"type\": \"carpet\"}], \"choropleth\": [{\"colorbar\": {\"outlinewidth\": 0, \"ticks\": \"\"}, \"type\": \"choropleth\"}], \"contour\": [{\"colorbar\": {\"outlinewidth\": 0, \"ticks\": \"\"}, \"colorscale\": [[0.0, \"#0d0887\"], [0.1111111111111111, \"#46039f\"], [0.2222222222222222, \"#7201a8\"], [0.3333333333333333, \"#9c179e\"], [0.4444444444444444, \"#bd3786\"], [0.5555555555555556, \"#d8576b\"], [0.6666666666666666, \"#ed7953\"], [0.7777777777777778, \"#fb9f3a\"], [0.8888888888888888, \"#fdca26\"], [1.0, \"#f0f921\"]], \"type\": \"contour\"}], \"contourcarpet\": [{\"colorbar\": {\"outlinewidth\": 0, \"ticks\": \"\"}, \"type\": \"contourcarpet\"}], \"heatmap\": [{\"colorbar\": {\"outlinewidth\": 0, \"ticks\": \"\"}, \"colorscale\": [[0.0, \"#0d0887\"], [0.1111111111111111, \"#46039f\"], [0.2222222222222222, \"#7201a8\"], [0.3333333333333333, \"#9c179e\"], [0.4444444444444444, \"#bd3786\"], [0.5555555555555556, \"#d8576b\"], [0.6666666666666666, \"#ed7953\"], [0.7777777777777778, \"#fb9f3a\"], [0.8888888888888888, \"#fdca26\"], [1.0, \"#f0f921\"]], \"type\": \"heatmap\"}], \"heatmapgl\": [{\"colorbar\": {\"outlinewidth\": 0, \"ticks\": \"\"}, \"colorscale\": [[0.0, \"#0d0887\"], [0.1111111111111111, \"#46039f\"], [0.2222222222222222, \"#7201a8\"], [0.3333333333333333, \"#9c179e\"], [0.4444444444444444, \"#bd3786\"], [0.5555555555555556, \"#d8576b\"], [0.6666666666666666, \"#ed7953\"], [0.7777777777777778, \"#fb9f3a\"], [0.8888888888888888, \"#fdca26\"], [1.0, \"#f0f921\"]], \"type\": \"heatmapgl\"}], \"histogram\": [{\"marker\": {\"colorbar\": {\"outlinewidth\": 0, \"ticks\": \"\"}}, \"type\": \"histogram\"}], \"histogram2d\": [{\"colorbar\": {\"outlinewidth\": 0, \"ticks\": \"\"}, \"colorscale\": [[0.0, \"#0d0887\"], [0.1111111111111111, \"#46039f\"], [0.2222222222222222, \"#7201a8\"], [0.3333333333333333, \"#9c179e\"], [0.4444444444444444, \"#bd3786\"], [0.5555555555555556, \"#d8576b\"], [0.6666666666666666, \"#ed7953\"], [0.7777777777777778, \"#fb9f3a\"], [0.8888888888888888, \"#fdca26\"], [1.0, \"#f0f921\"]], \"type\": \"histogram2d\"}], \"histogram2dcontour\": [{\"colorbar\": {\"outlinewidth\": 0, \"ticks\": \"\"}, \"colorscale\": [[0.0, \"#0d0887\"], [0.1111111111111111, \"#46039f\"], [0.2222222222222222, \"#7201a8\"], [0.3333333333333333, \"#9c179e\"], [0.4444444444444444, \"#bd3786\"], [0.5555555555555556, \"#d8576b\"], [0.6666666666666666, \"#ed7953\"], [0.7777777777777778, \"#fb9f3a\"], [0.8888888888888888, \"#fdca26\"], [1.0, \"#f0f921\"]], \"type\": \"histogram2dcontour\"}], \"mesh3d\": [{\"colorbar\": {\"outlinewidth\": 0, \"ticks\": \"\"}, \"type\": \"mesh3d\"}], \"parcoords\": [{\"line\": {\"colorbar\": {\"outlinewidth\": 0, \"ticks\": \"\"}}, \"type\": \"parcoords\"}], \"scatter\": [{\"marker\": {\"colorbar\": {\"outlinewidth\": 0, \"ticks\": \"\"}}, \"type\": \"scatter\"}], \"scatter3d\": [{\"line\": {\"colorbar\": {\"outlinewidth\": 0, \"ticks\": \"\"}}, \"marker\": {\"colorbar\": {\"outlinewidth\": 0, \"ticks\": \"\"}}, \"type\": \"scatter3d\"}], \"scattercarpet\": [{\"marker\": {\"colorbar\": {\"outlinewidth\": 0, \"ticks\": \"\"}}, \"type\": \"scattercarpet\"}], \"scattergeo\": [{\"marker\": {\"colorbar\": {\"outlinewidth\": 0, \"ticks\": \"\"}}, \"type\": \"scattergeo\"}], \"scattergl\": [{\"marker\": {\"colorbar\": {\"outlinewidth\": 0, \"ticks\": \"\"}}, \"type\": \"scattergl\"}], \"scattermapbox\": [{\"marker\": {\"colorbar\": {\"outlinewidth\": 0, \"ticks\": \"\"}}, \"type\": \"scattermapbox\"}], \"scatterpolar\": [{\"marker\": {\"colorbar\": {\"outlinewidth\": 0, \"ticks\": \"\"}}, \"type\": \"scatterpolar\"}], \"scatterpolargl\": [{\"marker\": {\"colorbar\": {\"outlinewidth\": 0, \"ticks\": \"\"}}, \"type\": \"scatterpolargl\"}], \"scatterternary\": [{\"marker\": {\"colorbar\": {\"outlinewidth\": 0, \"ticks\": \"\"}}, \"type\": \"scatterternary\"}], \"surface\": [{\"colorbar\": {\"outlinewidth\": 0, \"ticks\": \"\"}, \"colorscale\": [[0.0, \"#0d0887\"], [0.1111111111111111, \"#46039f\"], [0.2222222222222222, \"#7201a8\"], [0.3333333333333333, \"#9c179e\"], [0.4444444444444444, \"#bd3786\"], [0.5555555555555556, \"#d8576b\"], [0.6666666666666666, \"#ed7953\"], [0.7777777777777778, \"#fb9f3a\"], [0.8888888888888888, \"#fdca26\"], [1.0, \"#f0f921\"]], \"type\": \"surface\"}], \"table\": [{\"cells\": {\"fill\": {\"color\": \"#EBF0F8\"}, \"line\": {\"color\": \"white\"}}, \"header\": {\"fill\": {\"color\": \"#C8D4E3\"}, \"line\": {\"color\": \"white\"}}, \"type\": \"table\"}]}, \"layout\": {\"annotationdefaults\": {\"arrowcolor\": \"#2a3f5f\", \"arrowhead\": 0, \"arrowwidth\": 1}, \"colorscale\": {\"diverging\": [[0, \"#8e0152\"], [0.1, \"#c51b7d\"], [0.2, \"#de77ae\"], [0.3, \"#f1b6da\"], [0.4, \"#fde0ef\"], [0.5, \"#f7f7f7\"], [0.6, \"#e6f5d0\"], [0.7, \"#b8e186\"], [0.8, \"#7fbc41\"], [0.9, \"#4d9221\"], [1, \"#276419\"]], \"sequential\": [[0.0, \"#0d0887\"], [0.1111111111111111, \"#46039f\"], [0.2222222222222222, \"#7201a8\"], [0.3333333333333333, \"#9c179e\"], [0.4444444444444444, \"#bd3786\"], [0.5555555555555556, \"#d8576b\"], [0.6666666666666666, \"#ed7953\"], [0.7777777777777778, \"#fb9f3a\"], [0.8888888888888888, \"#fdca26\"], [1.0, \"#f0f921\"]], \"sequentialminus\": [[0.0, \"#0d0887\"], [0.1111111111111111, \"#46039f\"], [0.2222222222222222, \"#7201a8\"], [0.3333333333333333, \"#9c179e\"], [0.4444444444444444, \"#bd3786\"], [0.5555555555555556, \"#d8576b\"], [0.6666666666666666, \"#ed7953\"], [0.7777777777777778, \"#fb9f3a\"], [0.8888888888888888, \"#fdca26\"], [1.0, \"#f0f921\"]]}, \"colorway\": [\"#636efa\", \"#EF553B\", \"#00cc96\", \"#ab63fa\", \"#FFA15A\", \"#19d3f3\", \"#FF6692\", \"#B6E880\", \"#FF97FF\", \"#FECB52\"], \"font\": {\"color\": \"#2a3f5f\"}, \"geo\": {\"bgcolor\": \"white\", \"lakecolor\": \"white\", \"landcolor\": \"#E5ECF6\", \"showlakes\": true, \"showland\": true, \"subunitcolor\": \"white\"}, \"hoverlabel\": {\"align\": \"left\"}, \"hovermode\": \"closest\", \"mapbox\": {\"style\": \"light\"}, \"paper_bgcolor\": \"white\", \"plot_bgcolor\": \"#E5ECF6\", \"polar\": {\"angularaxis\": {\"gridcolor\": \"white\", \"linecolor\": \"white\", \"ticks\": \"\"}, \"bgcolor\": \"#E5ECF6\", \"radialaxis\": {\"gridcolor\": \"white\", \"linecolor\": \"white\", \"ticks\": \"\"}}, \"scene\": {\"xaxis\": {\"backgroundcolor\": \"#E5ECF6\", \"gridcolor\": \"white\", \"gridwidth\": 2, \"linecolor\": \"white\", \"showbackground\": true, \"ticks\": \"\", \"zerolinecolor\": \"white\"}, \"yaxis\": {\"backgroundcolor\": \"#E5ECF6\", \"gridcolor\": \"white\", \"gridwidth\": 2, \"linecolor\": \"white\", \"showbackground\": true, \"ticks\": \"\", \"zerolinecolor\": \"white\"}, \"zaxis\": {\"backgroundcolor\": \"#E5ECF6\", \"gridcolor\": \"white\", \"gridwidth\": 2, \"linecolor\": \"white\", \"showbackground\": true, \"ticks\": \"\", \"zerolinecolor\": \"white\"}}, \"shapedefaults\": {\"line\": {\"color\": \"#2a3f5f\"}}, \"ternary\": {\"aaxis\": {\"gridcolor\": \"white\", \"linecolor\": \"white\", \"ticks\": \"\"}, \"baxis\": {\"gridcolor\": \"white\", \"linecolor\": \"white\", \"ticks\": \"\"}, \"bgcolor\": \"#E5ECF6\", \"caxis\": {\"gridcolor\": \"white\", \"linecolor\": \"white\", \"ticks\": \"\"}}, \"title\": {\"x\": 0.05}, \"xaxis\": {\"automargin\": true, \"gridcolor\": \"white\", \"linecolor\": \"white\", \"ticks\": \"\", \"zerolinecolor\": \"white\", \"zerolinewidth\": 2}, \"yaxis\": {\"automargin\": true, \"gridcolor\": \"white\", \"linecolor\": \"white\", \"ticks\": \"\", \"zerolinecolor\": \"white\", \"zerolinewidth\": 2}}}},\n",
       "                        {\"responsive\": true}\n",
       "                    ).then(function(){\n",
       "                            \n",
       "var gd = document.getElementById('ed6231a1-7e02-49d9-b840-a493a20c2125');\n",
       "var x = new MutationObserver(function (mutations, observer) {{\n",
       "        var display = window.getComputedStyle(gd).display;\n",
       "        if (!display || display === 'none') {{\n",
       "            console.log([gd, 'removed!']);\n",
       "            Plotly.purge(gd);\n",
       "            observer.disconnect();\n",
       "        }}\n",
       "}});\n",
       "\n",
       "// Listen for the removal of the full notebook cells\n",
       "var notebookContainer = gd.closest('#notebook-container');\n",
       "if (notebookContainer) {{\n",
       "    x.observe(notebookContainer, {childList: true});\n",
       "}}\n",
       "\n",
       "// Listen for the clearing of the current output cell\n",
       "var outputEl = gd.closest('.output');\n",
       "if (outputEl) {{\n",
       "    x.observe(outputEl, {childList: true});\n",
       "}}\n",
       "\n",
       "                        })\n",
       "                };\n",
       "                });\n",
       "            </script>\n",
       "        </div>"
      ]
     },
     "metadata": {},
     "output_type": "display_data"
    }
   ],
   "source": [
    "analyze_timing.plot_timing_data(test_funnel, funtimes, -1)"
   ]
  },
  {
   "cell_type": "markdown",
   "metadata": {},
   "source": [
    "## Generate inflow and outflow counts for the specified funnel"
   ]
  },
  {
   "cell_type": "code",
   "execution_count": 13,
   "metadata": {},
   "outputs": [],
   "source": [
    "ingress, egress = funnel_in_outs.get_in_outs(df, test_funnel, useResolvedUrls, LIMITROWS)"
   ]
  },
  {
   "cell_type": "markdown",
   "metadata": {},
   "source": [
    "## Plot inflow statistics"
   ]
  },
  {
   "cell_type": "code",
   "execution_count": 14,
   "metadata": {
    "collapsed": true
   },
   "outputs": [
    {
     "data": {
      "image/png": "[encoded data removed]",
      "text/plain": [
       "<Figure size 864x864 with 1 Axes>"
      ]
     },
     "metadata": {
      "needs_background": "light"
     },
     "output_type": "display_data"
    }
   ],
   "source": [
    "analyze_traffic.plot_counts_by_freq(ingress, 0, \"Ingress\", False)"
   ]
  },
  {
   "cell_type": "markdown",
   "metadata": {},
   "source": [
    "## Plot outflow statistics"
   ]
  },
  {
   "cell_type": "code",
   "execution_count": 15,
   "metadata": {
    "collapsed": true
   },
   "outputs": [
    {
     "data": {
      "image/png": "[encoded data removed]",
      "text/plain": [
       "<Figure size 864x864 with 1 Axes>"
      ]
     },
     "metadata": {
      "needs_background": "light"
     },
     "output_type": "display_data"
    }
   ],
   "source": [
    "analyze_traffic.plot_counts_by_freq(egress, 0, \"Egress\", False)"
   ]
  },
  {
   "cell_type": "markdown",
   "metadata": {},
   "source": [
    "## Plot most visited URLs again (for illustration purposes)"
   ]
  },
  {
   "cell_type": "code",
   "execution_count": 16,
   "metadata": {
    "collapsed": true
   },
   "outputs": [
    {
     "data": {
      "image/png": "[encoded data removed]",
      "text/plain": [
       "<Figure size 864x864 with 1 Axes>"
      ]
     },
     "metadata": {
      "needs_background": "light"
     },
     "output_type": "display_data"
    }
   ],
   "source": [
    "url_counts = get_popular_urls.get_popular(df, useResolvedUrls, LIMITROWS)\n",
    "TOPCOUNTS = 20\n",
    "analyze_traffic.plot_counts_by_freq(url_counts, TOPCOUNTS, \"URL Counts\", False)"
   ]
  },
  {
   "cell_type": "markdown",
   "metadata": {},
   "source": [
    "## Display current list of URL resolution rules"
   ]
  },
  {
   "cell_type": "code",
   "execution_count": 17,
   "metadata": {
    "collapsed": true
   },
   "outputs": [
    {
     "name": "stdout",
     "output_type": "stream",
     "text": [
      "Rules file doesn't exist\n"
     ]
    }
   ],
   "source": [
    "manage_resolutions.show_rules()"
   ]
  },
  {
   "cell_type": "markdown",
   "metadata": {},
   "source": [
    "## Add URL resolution rule"
   ]
  },
  {
   "cell_type": "code",
   "execution_count": 18,
   "metadata": {},
   "outputs": [],
   "source": [
    "manage_resolutions.add_rule(\"/products/(black|blue|red|gold|rainbow)-watch\",\"/products/<any-watch>\")"
   ]
  },
  {
   "cell_type": "markdown",
   "metadata": {},
   "source": [
    "## Display URL resolution rules again"
   ]
  },
  {
   "cell_type": "code",
   "execution_count": 19,
   "metadata": {
    "collapsed": true
   },
   "outputs": [
    {
     "name": "stdout",
     "output_type": "stream",
     "text": [
      "/products/(black|blue|red|gold|rainbow)-watch : /products/<any-watch>\n"
     ]
    }
   ],
   "source": [
    "manage_resolutions.show_rules()"
   ]
  },
  {
   "cell_type": "markdown",
   "metadata": {},
   "source": [
    "## Plot most visited resolved URLs"
   ]
  },
  {
   "cell_type": "code",
   "execution_count": 20,
   "metadata": {
    "collapsed": true
   },
   "outputs": [
    {
     "data": {
      "image/png": "[encoded data removed]",
      "text/plain": [
       "<Figure size 864x864 with 1 Axes>"
      ]
     },
     "metadata": {
      "needs_background": "light"
     },
     "output_type": "display_data"
    }
   ],
   "source": [
    "useResolvedUrls = True\n",
    "url_counts = get_popular_urls.get_popular(df, useResolvedUrls, LIMITROWS)\n",
    "TOPCOUNTS = 20\n",
    "analyze_traffic.plot_counts_by_freq(url_counts, TOPCOUNTS, \"URL Counts\", False)"
   ]
  },
  {
   "cell_type": "code",
   "execution_count": null,
   "metadata": {},
   "outputs": [],
   "source": []
  }
 ],
 "metadata": {
  "jupytext": {
   "formats": "ipynb,py:light"
  },
  "kernelspec": {
   "display_name": "Python 3",
   "language": "python",
   "name": "python3"
  },
  "language_info": {
   "codemirror_mode": {
    "name": "ipython",
    "version": 3
   },
   "file_extension": ".py",
   "mimetype": "text/x-python",
   "name": "python",
   "nbconvert_exporter": "python",
   "pygments_lexer": "ipython3",
   "version": "3.7.4"
  }
 },
 "nbformat": 4,
 "nbformat_minor": 4
}
